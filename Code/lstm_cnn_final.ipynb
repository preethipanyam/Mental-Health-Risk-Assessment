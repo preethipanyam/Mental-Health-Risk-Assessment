{
  "cells": [
    {
      "cell_type": "markdown",
      "source": [
        "## Importing Libraries"
      ],
      "metadata": {
        "id": "cI5WjAdD6uel"
      }
    },
    {
      "cell_type": "code",
      "execution_count": 2,
      "metadata": {
        "id": "oyoh_H3E9eY1"
      },
      "outputs": [],
      "source": [
        "import pandas as pd\n",
        "import numpy as np\n",
        "import matplotlib.pyplot as plt\n",
        "from keras.layers import LSTM, Activation, Dropout, Dense, Input, Embedding, Conv1D, MaxPooling1D\n",
        "from keras.models import Sequential\n",
        "from keras.initializers import Constant\n",
        "from tensorflow.keras.optimizers import Adam\n",
        "import string\n",
        "import re\n",
        "from keras.preprocessing.text import Tokenizer\n",
        "from keras.preprocessing.sequence import pad_sequences\n",
        "import keras\n",
        "from sklearn.model_selection import train_test_split\n",
        "from sklearn.metrics import classification_report, confusion_matrix\n",
        "import seaborn as sns\n",
        "from nltk.tokenize import word_tokenize\n",
        "import nltk\n",
        "\n",
        "import warnings\n",
        "warnings.filterwarnings('ignore')\n",
        "\n",
        "\n",
        "import tensorflow as tf"
      ]
    },
    {
      "cell_type": "markdown",
      "source": [
        "## Importing Data"
      ],
      "metadata": {
        "id": "qnXcnapE4cWd"
      }
    },
    {
      "cell_type": "code",
      "execution_count": 3,
      "metadata": {
        "id": "q4Uz8Ykz9krZ"
      },
      "outputs": [],
      "source": [
        "df = pd.read_csv('/content/drive/MyDrive/MergedSenti.csv')"
      ]
    },
    {
      "cell_type": "code",
      "execution_count": 4,
      "metadata": {
        "id": "cNptpU2Rsaa4",
        "colab": {
          "base_uri": "https://localhost:8080/",
          "height": 206
        },
        "outputId": "61a47569-8020-4abe-8306-ff4a15a57772"
      },
      "outputs": [
        {
          "output_type": "execute_result",
          "data": {
            "text/plain": [
              "     neg    neu    pos  compound  \\\n",
              "0  0.163  0.658  0.178    0.1406   \n",
              "1  0.000  0.892  0.108    0.4404   \n",
              "2  0.141  0.665  0.194    0.8683   \n",
              "3  0.045  0.873  0.081    0.2960   \n",
              "4  0.299  0.588  0.113   -0.9927   \n",
              "\n",
              "                                                Post             Class  \n",
              "0  attempted yesterday i had an exit yesterday an...  SuicidalThoughts  \n",
              "1  my bf of  years just tried to hang himself las...  SuicidalThoughts  \n",
              "2  he gave up because of me  we have shared many ...  SuicidalThoughts  \n",
              "3  running out of options does anyone have any co...  SuicidalThoughts  \n",
              "4  my life is shit i feel like shit  i hate mysel...  SuicidalThoughts  "
            ],
            "text/html": [
              "\n",
              "  <div id=\"df-7023e5e4-adfd-40a0-8fb0-5e5dbd8963bd\">\n",
              "    <div class=\"colab-df-container\">\n",
              "      <div>\n",
              "<style scoped>\n",
              "    .dataframe tbody tr th:only-of-type {\n",
              "        vertical-align: middle;\n",
              "    }\n",
              "\n",
              "    .dataframe tbody tr th {\n",
              "        vertical-align: top;\n",
              "    }\n",
              "\n",
              "    .dataframe thead th {\n",
              "        text-align: right;\n",
              "    }\n",
              "</style>\n",
              "<table border=\"1\" class=\"dataframe\">\n",
              "  <thead>\n",
              "    <tr style=\"text-align: right;\">\n",
              "      <th></th>\n",
              "      <th>neg</th>\n",
              "      <th>neu</th>\n",
              "      <th>pos</th>\n",
              "      <th>compound</th>\n",
              "      <th>Post</th>\n",
              "      <th>Class</th>\n",
              "    </tr>\n",
              "  </thead>\n",
              "  <tbody>\n",
              "    <tr>\n",
              "      <th>0</th>\n",
              "      <td>0.163</td>\n",
              "      <td>0.658</td>\n",
              "      <td>0.178</td>\n",
              "      <td>0.1406</td>\n",
              "      <td>attempted yesterday i had an exit yesterday an...</td>\n",
              "      <td>SuicidalThoughts</td>\n",
              "    </tr>\n",
              "    <tr>\n",
              "      <th>1</th>\n",
              "      <td>0.000</td>\n",
              "      <td>0.892</td>\n",
              "      <td>0.108</td>\n",
              "      <td>0.4404</td>\n",
              "      <td>my bf of  years just tried to hang himself las...</td>\n",
              "      <td>SuicidalThoughts</td>\n",
              "    </tr>\n",
              "    <tr>\n",
              "      <th>2</th>\n",
              "      <td>0.141</td>\n",
              "      <td>0.665</td>\n",
              "      <td>0.194</td>\n",
              "      <td>0.8683</td>\n",
              "      <td>he gave up because of me  we have shared many ...</td>\n",
              "      <td>SuicidalThoughts</td>\n",
              "    </tr>\n",
              "    <tr>\n",
              "      <th>3</th>\n",
              "      <td>0.045</td>\n",
              "      <td>0.873</td>\n",
              "      <td>0.081</td>\n",
              "      <td>0.2960</td>\n",
              "      <td>running out of options does anyone have any co...</td>\n",
              "      <td>SuicidalThoughts</td>\n",
              "    </tr>\n",
              "    <tr>\n",
              "      <th>4</th>\n",
              "      <td>0.299</td>\n",
              "      <td>0.588</td>\n",
              "      <td>0.113</td>\n",
              "      <td>-0.9927</td>\n",
              "      <td>my life is shit i feel like shit  i hate mysel...</td>\n",
              "      <td>SuicidalThoughts</td>\n",
              "    </tr>\n",
              "  </tbody>\n",
              "</table>\n",
              "</div>\n",
              "      <button class=\"colab-df-convert\" onclick=\"convertToInteractive('df-7023e5e4-adfd-40a0-8fb0-5e5dbd8963bd')\"\n",
              "              title=\"Convert this dataframe to an interactive table.\"\n",
              "              style=\"display:none;\">\n",
              "        \n",
              "  <svg xmlns=\"http://www.w3.org/2000/svg\" height=\"24px\"viewBox=\"0 0 24 24\"\n",
              "       width=\"24px\">\n",
              "    <path d=\"M0 0h24v24H0V0z\" fill=\"none\"/>\n",
              "    <path d=\"M18.56 5.44l.94 2.06.94-2.06 2.06-.94-2.06-.94-.94-2.06-.94 2.06-2.06.94zm-11 1L8.5 8.5l.94-2.06 2.06-.94-2.06-.94L8.5 2.5l-.94 2.06-2.06.94zm10 10l.94 2.06.94-2.06 2.06-.94-2.06-.94-.94-2.06-.94 2.06-2.06.94z\"/><path d=\"M17.41 7.96l-1.37-1.37c-.4-.4-.92-.59-1.43-.59-.52 0-1.04.2-1.43.59L10.3 9.45l-7.72 7.72c-.78.78-.78 2.05 0 2.83L4 21.41c.39.39.9.59 1.41.59.51 0 1.02-.2 1.41-.59l7.78-7.78 2.81-2.81c.8-.78.8-2.07 0-2.86zM5.41 20L4 18.59l7.72-7.72 1.47 1.35L5.41 20z\"/>\n",
              "  </svg>\n",
              "      </button>\n",
              "      \n",
              "  <style>\n",
              "    .colab-df-container {\n",
              "      display:flex;\n",
              "      flex-wrap:wrap;\n",
              "      gap: 12px;\n",
              "    }\n",
              "\n",
              "    .colab-df-convert {\n",
              "      background-color: #E8F0FE;\n",
              "      border: none;\n",
              "      border-radius: 50%;\n",
              "      cursor: pointer;\n",
              "      display: none;\n",
              "      fill: #1967D2;\n",
              "      height: 32px;\n",
              "      padding: 0 0 0 0;\n",
              "      width: 32px;\n",
              "    }\n",
              "\n",
              "    .colab-df-convert:hover {\n",
              "      background-color: #E2EBFA;\n",
              "      box-shadow: 0px 1px 2px rgba(60, 64, 67, 0.3), 0px 1px 3px 1px rgba(60, 64, 67, 0.15);\n",
              "      fill: #174EA6;\n",
              "    }\n",
              "\n",
              "    [theme=dark] .colab-df-convert {\n",
              "      background-color: #3B4455;\n",
              "      fill: #D2E3FC;\n",
              "    }\n",
              "\n",
              "    [theme=dark] .colab-df-convert:hover {\n",
              "      background-color: #434B5C;\n",
              "      box-shadow: 0px 1px 3px 1px rgba(0, 0, 0, 0.15);\n",
              "      filter: drop-shadow(0px 1px 2px rgba(0, 0, 0, 0.3));\n",
              "      fill: #FFFFFF;\n",
              "    }\n",
              "  </style>\n",
              "\n",
              "      <script>\n",
              "        const buttonEl =\n",
              "          document.querySelector('#df-7023e5e4-adfd-40a0-8fb0-5e5dbd8963bd button.colab-df-convert');\n",
              "        buttonEl.style.display =\n",
              "          google.colab.kernel.accessAllowed ? 'block' : 'none';\n",
              "\n",
              "        async function convertToInteractive(key) {\n",
              "          const element = document.querySelector('#df-7023e5e4-adfd-40a0-8fb0-5e5dbd8963bd');\n",
              "          const dataTable =\n",
              "            await google.colab.kernel.invokeFunction('convertToInteractive',\n",
              "                                                     [key], {});\n",
              "          if (!dataTable) return;\n",
              "\n",
              "          const docLinkHtml = 'Like what you see? Visit the ' +\n",
              "            '<a target=\"_blank\" href=https://colab.research.google.com/notebooks/data_table.ipynb>data table notebook</a>'\n",
              "            + ' to learn more about interactive tables.';\n",
              "          element.innerHTML = '';\n",
              "          dataTable['output_type'] = 'display_data';\n",
              "          await google.colab.output.renderOutput(dataTable, element);\n",
              "          const docLink = document.createElement('div');\n",
              "          docLink.innerHTML = docLinkHtml;\n",
              "          element.appendChild(docLink);\n",
              "        }\n",
              "      </script>\n",
              "    </div>\n",
              "  </div>\n",
              "  "
            ]
          },
          "metadata": {},
          "execution_count": 4
        }
      ],
      "source": [
        "df.head()"
      ]
    },
    {
      "cell_type": "code",
      "execution_count": 5,
      "metadata": {
        "colab": {
          "base_uri": "https://localhost:8080/"
        },
        "id": "n01HuopP6kRW",
        "outputId": "669d5329-1ad5-407d-b92c-1354abd7bd61"
      },
      "outputs": [
        {
          "output_type": "execute_result",
          "data": {
            "text/plain": [
              "Exercise            14621\n",
              "SuicidalThoughts    13915\n",
              "Depression          13712\n",
              "Happy                9659\n",
              "Name: Class, dtype: int64"
            ]
          },
          "metadata": {},
          "execution_count": 5
        }
      ],
      "source": [
        "df['Class'].value_counts()"
      ]
    },
    {
      "cell_type": "markdown",
      "metadata": {
        "id": "8QNgsuMD65sG"
      },
      "source": [
        "## Changing the classes of Depression and SuicidalThoughts to 1 and Happy and Exercise to 0"
      ]
    },
    {
      "cell_type": "code",
      "execution_count": 6,
      "metadata": {
        "colab": {
          "base_uri": "https://localhost:8080/"
        },
        "id": "9bsMEXpLAXRS",
        "outputId": "f7cf7848-ba0a-43f3-b15b-d59536b7b4ff"
      },
      "outputs": [
        {
          "output_type": "execute_result",
          "data": {
            "text/plain": [
              "neg          0\n",
              "neu          0\n",
              "pos          0\n",
              "compound     0\n",
              "Post        86\n",
              "Class        0\n",
              "dtype: int64"
            ]
          },
          "metadata": {},
          "execution_count": 6
        }
      ],
      "source": [
        "df.isnull().sum()"
      ]
    },
    {
      "cell_type": "code",
      "execution_count": 7,
      "metadata": {
        "id": "50ueeTS-AbiJ"
      },
      "outputs": [],
      "source": [
        "df = df.dropna()"
      ]
    },
    {
      "cell_type": "code",
      "execution_count": 8,
      "metadata": {
        "colab": {
          "base_uri": "https://localhost:8080/"
        },
        "id": "lPRh4a2v7t-Z",
        "outputId": "eb387d10-c075-45ff-922d-48fdbfc3d480"
      },
      "outputs": [
        {
          "output_type": "execute_result",
          "data": {
            "text/plain": [
              "neg         0\n",
              "neu         0\n",
              "pos         0\n",
              "compound    0\n",
              "Post        0\n",
              "Class       0\n",
              "dtype: int64"
            ]
          },
          "metadata": {},
          "execution_count": 8
        }
      ],
      "source": [
        "df.isnull().sum()"
      ]
    },
    {
      "cell_type": "code",
      "execution_count": 9,
      "metadata": {
        "colab": {
          "base_uri": "https://localhost:8080/"
        },
        "id": "FTDJcMML8EaT",
        "outputId": "31af05d9-35ac-4da8-a839-032c8fc644d0"
      },
      "outputs": [
        {
          "output_type": "execute_result",
          "data": {
            "text/plain": [
              "Exercise            14563\n",
              "SuicidalThoughts    13915\n",
              "Depression          13712\n",
              "Happy                9631\n",
              "Name: Class, dtype: int64"
            ]
          },
          "metadata": {},
          "execution_count": 9
        }
      ],
      "source": [
        "df['Class'].value_counts()"
      ]
    },
    {
      "cell_type": "code",
      "execution_count": 10,
      "metadata": {
        "id": "N-wazwy88E0D"
      },
      "outputs": [],
      "source": [
        "# creating a 0 and 1s class\n",
        "df['Class'] = df['Class'].replace({'SuicidalThoughts': 1,'Depression': 1, 'Happy': 0, 'Exercise': 0})"
      ]
    },
    {
      "cell_type": "code",
      "execution_count": 11,
      "metadata": {
        "colab": {
          "base_uri": "https://localhost:8080/"
        },
        "id": "agPpAy0K8UFA",
        "outputId": "0aa22133-84b9-486a-839b-e3cd08befb33"
      },
      "outputs": [
        {
          "output_type": "execute_result",
          "data": {
            "text/plain": [
              "1    27627\n",
              "0    24194\n",
              "Name: Class, dtype: int64"
            ]
          },
          "metadata": {},
          "execution_count": 11
        }
      ],
      "source": [
        "df['Class'].value_counts()"
      ]
    },
    {
      "cell_type": "code",
      "execution_count": 12,
      "metadata": {
        "colab": {
          "base_uri": "https://localhost:8080/"
        },
        "id": "0NyA9Xja8Us0",
        "outputId": "b29f6812-1fdd-4a43-ffca-914b9db66055"
      },
      "outputs": [
        {
          "output_type": "stream",
          "name": "stdout",
          "text": [
            "4363\n",
            "21021\n",
            "any advice would be appreciated  i don t entirely know why i felt like i should write this i think it started when my therapist asked me if i d ever found someone else who seems to be going through the same thing i am and well i realized that maybe i hadn t spent enough time trying to find others who see things similarly i apologize in advance for how long and rambly this is and i am very appreciative to anyone who attempts to make it all the way through i tried to provide some overall structure and give enough background to explain why i feel the way i do now but it may come off as a bit more stream of consciousness than narrative style   note i live in the united states names and some specific details have been changed to preserve anonymity   amp x  b   i don t think i had a particularly happy childhood but there was also nothing extraordinarily bad about it i always had food clothes a house we weren t rich but we never really had money troubles either while i think there are a great many ways in which my parents failed me and my siblings i don t think any of the conditions would meet the criteria for abuse or neglect in fact my parents are very liberal by most counts and extremely accepting of gender expression and sexuality they ve been divorced from the time i was  which was a drag though i always downplayed it to myself and others it was a messy divorce too so this issue never really got any better even now over  years later my parents can t text one another much less be in the same room together there s a lot more i could add but it would be beyond the scope of this message in any case at a fairly young age i learned that my parents couldn t be trusted even though neither of them would explicitly lie to me their exaggerations and interpretations of the same events led to them presenting entirely incompatible versions of reality i had no way of knowing whose is more true than the other s and trying to find out only created more drama so i stopped trying   i didn t think the world was fair or kind or just in any way but i thought that given the in many ways extremely privileged environment i grew up in there were certain things i could have in return for a given amount of work and certain things that were beyond my reach i gave up on having a fulfilling interpersonal life for lack of a better term i had no model of what a healthy adult relationship looked like and i had so much anxiety around all the other social relationships i sustained that it seemed practically impossible of course this is something i wanted dearly but i told myself it didn t matter because there were other things with immense value well within my reach i always did well at school and i felt confident that assuming i continued on this path there were few fields that i was barred from entering i told myself that if i couldn t find some sense of fulfillment through interpersonal means i could play to my strengths and try to understand happiness from a neuroscientific standpoint i knew there would never be one single answer but i figured that any progress i could make in this area would be valuable in and of itself though i spent the vast majority of my time on schoolwork and hated almost all of my classes the dream of leaving to go to college and finally finding some form of happiness kept me going i did all the volunteering and test taking and essay bullshitting you re supposed to do and got in to my first choice university without the stress of getting accepted to college looming over me the end of senior year was much better than any of the rest of my high school experience for the first time i felt as though there were parts of my life i enjoyed experiencing for their own sake   even so i was ready to go to college i wanted to leave but i knew that it was pretty likely college wouldn t be everything i wanted it to be i felt prepared academically but i still had a good amount of social anxiety and truthfully the idea of making all new friends terrified me so i tempered my expectations i had a vague list of goals i wanted to achieve during my first year but i made sure they were exactly that  vague i d always had a habit of assuming others have ill intent towards me or at least a lack of good intent so i promised myself that when i went off to college i wouldn t assume anyone is judging me or annoyed by me or doesn t like me until explicitly proven otherwise i also tried really hard to do little things to make my life better i tried to talk less and ask more questions finding others will hold a lot of the conversation if you ask them about their lives i tried to keep a smile when my face was at rest so i didn t look intimidating or disinterested when i wanted to do something i made a conscious effort to ask others to do it with me rather than worrying about what they d say and the thing is all these changes worked college went better than i could have ever possibly imagined i had a largish group of friends with a few closer friends within and i found that it was basically impossible to go to an event on campus without running into at least one person i know i got hired in a research lab i had decently good grades i went out partying i joined on campus musical groups i was interested in got to make new friends from all over the world and very best of all i met anna   anna and i had a complicated relationship to say the least we met in october of our freshman year and starting sleeping together maybe a week later she d recently come out of a very toxic and quite frankly predatory situation and was clear that she didn t feel she could commit to a relationship at the time i tried to be honest when i told her that while i would like to be in a relationship eventually i also really enjoyed what we had and i was okay with leaving things as they were the most accurate title for our relationship may have been friends with benefits but our dynamic was a lot more than just sex and small talk we really were great friends we were closer with each other than anyone else at college we would eat most meals together go to campus events together spend lazy sundays in bed together and comfort one another when we were upset this wasn t to say things were perfect we had fights we broke up  or  different times but would always come back together within a week or two in some way or another at first i was pretty upset about it but after the second time i kind of realized that i had a lot going for me in my life and while i really liked being around her i d have lots more opportunities to meet people and have fun in college for the first time since i d gotten the idea i stopped thinking about being a scientist i didn t feel like i needed to understand happiness through a biological lens i could just enjoy what i had i thought about maybe being a doctor i could help people get a well paying job almost anywhere sure the work may be repetitive but i didn t need to live for my work anymore i could live for the connections that i d make in my life   when things first started going good i didn t fully trust it i would be at a party or working in the lab or lying in bed looking at anna and i would think to myself  remember this moment right now you never know how many more like it you will have and you will want to be able to hold on to this memory  but the thing was i kept having moments like this and after a while i started to let my guard down i didn t feel like i needed to hold on to every good moment because it looked like there were lots more in my future i let myself just enjoy being in the present without focusing on how to stay there forever i liked my new life i liked the things i did in it i liked the people i met and most importantly i liked me this was january of      we all know what happened a month and a half later i don t have to spell it out at first i took it really well when i got home i learned a new coding language i spent lots of time walking the dogs i tried making all sorts of new recipes i even found a remote summer internship to replace my original one i videocalled and texted with friends from school almost every day at first and then a couple times a week and then a couple times a month two weeks became two months became six months and i slowly watched as every single thing i d loved about my life got slowly stripped away the musical groups i was a part of were all disbanded i couldn t help in the lab remotely there were no longer any events to go to even classes i liked were tedious and nothing was actually graded anyway so it didn t matter and i spoke less and less often to my college friends however well into the summer anna and i would still talk every day and with lots and lots of free time on my hands i started to pin all of my hope on her on us i d worked so hard for so long and this was how i was rewarded i know its not fair to expect that i m owed anything and its entirely irrational to assume my actions would necessarily pay off but they did i d had what i wanted and then i lost it i d think about her before going to bed at night and as soon as i woke up each morning i told myself it didn t matter that everything else had gone to hell because you still have something really really good that came out of all of it over the summer i got a job though it was tangentially related to what i wanted to do it was very repetitive and didn t include too much contact with coworkers so i would spend  hours a day five days a week just thinking i knew the lack of physical intimacy had taken its toll and since there were tons of covid restrictions there could be no spontaneous way to rekindle what anna and i had had i knew that i would have to face this eventually so i got a dab cart and then called her and asked where we stood she answered how i expected and even though i felt broken as the very last remnant of what i d had was gone i smoked and ate junk food until it didn t bother me so much anymore i spent basically all of my free time in august high and yet despite the fact i d now tear up   times a day every day just from thinking i still held on to the faintest hope that it would be okay when i d come back maybe just maybe some of my previous life could be salvaged i slept for as much as i could and just did whatever i could do to pass the time until we started up again   when i arrived back on campus in september i was greeted by cheery signs in our school colors directing parents to the last place they could hug their kids goodbye and giving directions for heading immediately into quarantine the signs were fucking dystopian but i still felt this deep sense of relief finally it was over like everyone else on campus i then spent the next week alone in my room this wasn t good but of course just another thing that needed to be done even once we could leave and unmask around those who lived next to us nothing was the same i know this is an exaggeration but i felt that campus had become a highly monitored police state practically all the things i d enjoyed about my day to day were gone and the constantly changing list of rules and regulations made it impossible to be comfortable anywhere outside of my dorm room most classes were still remote access to academic buildings was severely limited you could be sent back home for meeting a friend for lunch that s when reality really started to set in this wasn t done it would never be done all the time and the effort and the energy throughout high school and before and during covid was for nothing because at the end of the day i would be alone like always forcing myself to do things i had absolutely no interest in just to chase a reward that i knew would never come this is when i started to become acutely depressed   drinking was no longer fun it made me want to throw myself out the window i would bang my arm against my dresser just so the bruise would distract me for a little while i tried cutting a few times never super deep though the scars have yet to go away  mainly because i felt like it would validate my presumptive mental illness of course i could go into more detail here but basically by february i started seeing a therapist and psychiatrist i got officially diagnosed with severe major depression and got put on meds the meds did almost nothing moodwise they still do almost nothing though now i ve also been diagnosed with add and anxiety i m on antidepressant number four or five and i probably take   different pills a day i won t lie if i do have add or anxiety the symptoms are weak at best and pale in comparison to the depression i mainly got the diagnoses so i could get adderall and anxiety meds i guess i felt that if i hated everything i was doing anyway i deserved anything that would make it a little easier i d held off from seeking help for so long because deep down i didn t think i actually had the strength to deal with my emotions around all of this i was mostly right the more i admitted how i actually felt the worse i felt i started seeing my therapist twice a week then added weekly cbt with a psychologist and then added a nurse practitioner to help monitor the meds now i see  different mental health specialists for between   hours a week officially though my  hour therapy sessions often become  or   so there are weeks when this number is closer to  or  in total   throughout it all i never stopped doing the things i used to like because that s what all the depression resources say to do i still played music tried to keep up with student groups kept working in the lab ate foods that were pleasurable to eat and took classes i would have used to like luckily freshman year me was type a to my core and so i d made a fairly detailed outline to follow i hated all of it especially any time i was alone my embarrassment kept me from expressing how miserable i was in front of others but being alone in a practice room or in lab i would invariably start tearing up i tried to like music and my classes but zoom  all my favorite aspects of working with others and i found myself dreading when i d have to make an appearance on camera   there were ups if you can call them that and downs of course when i was too busy to think or around lots of other people or smoking pot things were a little less bad even though i always knew that i was completely miserable if i gave it more than a moment s thought distraction is a powerful tool the rest of the time wasn t so good i was very acutely suicidal for a while i d like to think i still am though now i ve acknowledged that my cowardice around death prevents me from doing what i believe is rationally in my best interests i bought a helium tank and a plastic tube and kept them under my bed along with a black trash bag its all still there often the only way i could sleep at night was by telling myself that even though its all terrible right now at least i can always kill myself the problem with this thought is it requires one to be capable of killing oneself which i could only know if i were successful if i couldn t kill myself then it actually was all entirely unbearable my therapist wanted me to go to a mental hospital but again i never stopped doing everything i was supposed to do so i could never find a time that wouldn t interfere with the rest of life and in any case he said all they could really do is help get me stabilized on meds nothing that would help address the root problem   in the beginning i told myself i kept going because if i have any chance of salvaging my life then i need to maintain the rest but now i only do it because i don t know what else to do i could stop i think about stopping all the time god i want to stop but i don t see any way in which that makes me stop feeling like this and can only imagine how it would make things worse this creates a major problem because while i really do hate the vast majority of things i do in a day they really aren t all that difficult i fully recognize that if someone told me that all i need to do is keep doing this for a week or a month or hell even a year and then i could feel the way i used to i d have no problem doing that everything is immensely bearable if i could make myself believe that my effort would be rewarded i d have no problem making the effort but i don t believe that every new treatment i try every mental health professional i speak to every event i force myself to attend every piece i learn to play every assignment i do well on every single day i continue to be miserable in spite of all the effort i put into not being miserable is just more evidence that i really am helpless i fully recognize the self fulfilling nature of this process but that fails to invalidate it i know i am entirely capable of going on and i really do try to understand what a privilege that is but i don t want it my therapist often says  given all you have why don t you stick around what s the harm there are so many things you could do if you want to do them  but this question is predicated on there being inherent value in the experience of life there is harm because every day i stick around is another day that i m miserable though the cost of each day individually is entirely manageable if there is some reward when added up over weeks and months and years it becomes unbearable the thought of having to keep doing this forever fills me with anger and dread and again its usually only the knowledge of the helium tank beneath my bed that lets me finally fall asleep at night   i ve talked with my therapist a lot about the power of belief in regards to happiness we both agree that belief shapes our reality as much if not more than how reality shapes our beliefs however he thinks belief is a choice and i constantly say that my lived reality disproves that i know conceptually that i will never even begin to be content with this world until i let myself believe that i can be happy yet i don t believe it s possible anymore wanting to believe something is insufficient to actually believe it i spent so so long unhappy and truthfully i think if college had gone the way i d expected i might be fine now it was the brief period of respite that ruined all that for me when you don t know any different its easy to keep on going there s always something to work for but once i knew that i could actually look forward to waking up in the morning to having new experiences to meeting new people then how could i go back my happiness at college was based on the premise of having finally escaped having finally found what i wanted but i now know this was false there is no end only more work   i just hate it all so so much every day i see what people have done with their time starting relationships jobs podcasts clubs majors all finding ways to be okay with it but two years later i m still not okay with it this is fucked i know its whiney and pathetic and all these things are insufficient individually but i don t want to feel grateful to go back to classes in masks to use zoom as the standard for meetings to feel anxious in crowds to only ever get dining hall food as take out i hate when people talk about how lucky we are to do these things in person again we are not lucky and i do want to be clear i know by any external metric i am immensely lucky i live an extremely privileged life and there are lots and lots of people who would be ecstatic to have the things i have but it doesn t feel like enough i can tell myself it is or at least it should be but it isn t and so if all this isn t enough for me then what will be i know there isn t an answer or more accurately the answer is nothing short of a time machine which is to say the answer is nothing at all   i want my real life back and if i can t have it i want this to be over but it never ends i can put the bag over my head and connect the tube but i break down in tears before releasing more than a tiny bit of helium i don t understand what i m doing wrong i m open to trying really anything to never have to feel like this again i m not opposed to feeling better and i ve spent hundreds of hours and thousands of dollars trying to find things that make me feel better  but more than anything i just want this to stop i m so so tired even sleep isn t comforting anymore for a while i tried keeping a dream journal and i found that for two weeks every dream i could remember was an anxiety dream now i dread sleeping almost as much as waking up so i get maybe  hours a night and take enough amphetamines to stay awake during the day the pot does help at least i don t feel like everything is terrible when i smoke sometimes but it s a band aid at best   i don t entirely know why i felt like i should post this here i hate falling into the trap of thinking i m special or at least more special than anyone else  because i think a majority of people think they re special in some way or another and so this becomes a pointless claim i know there s no explicit reason that meds and talk therapy and cbt and whatever else won t work for me but at least until i believe they can they won t and i can t believe they ll work until they do i guess i hope that there are others who feel similarly who ve found some way out of this cognitive loop i really am open to trying anything   if you ve made it this far i am impressed by your resolve i would be gratefully for any advice others are willing to share though i d appreciate it if general messages of support and suggestions for well established interventions were kept to a minimum of course i am thankful for the goodwill of others but there s only so many times one can hear feel better soon  or hang in there  before these phrases become more mocking than supportive and i promise you if the treatment is listed on the mayo clinic or webmd pages for depression i have definitely heard of it and have probably at least considered its feasibility if i haven t already tried it directly thank you to those who ve read this far and sorry again for the somewhat stream of consciousness style that i ve written this in \n"
          ]
        }
      ],
      "source": [
        "# Finding the longest text which will later be used to ensure that all texts have the same length by adding padding\n",
        "lengths = df['Post'].apply(lambda x: len(x.split()))\n",
        "max_len = lengths.max()\n",
        "print(max_len)\n",
        "print(lengths.argmax())\n",
        "print(df['Post'].iloc[lengths.argmax()])"
      ]
    },
    {
      "cell_type": "code",
      "source": [
        ""
      ],
      "metadata": {
        "id": "1xt-UheE5BBC"
      },
      "execution_count": 12,
      "outputs": []
    },
    {
      "cell_type": "markdown",
      "metadata": {
        "id": "XpIlBqgw8Y2D"
      },
      "source": [
        "### Splitting data into X and y sets\n"
      ]
    },
    {
      "cell_type": "code",
      "execution_count": 13,
      "metadata": {
        "id": "WMXz3qFs9Jcq"
      },
      "outputs": [],
      "source": [
        "X = df['Post']\n",
        "y = df['Class']"
      ]
    },
    {
      "cell_type": "code",
      "execution_count": 14,
      "metadata": {
        "id": "TPAeWZ1Q9N4e"
      },
      "outputs": [],
      "source": [
        "X_train, X_test, y_train, y_test = train_test_split(X, y, random_state=42)"
      ]
    },
    {
      "cell_type": "code",
      "execution_count": 15,
      "metadata": {
        "colab": {
          "base_uri": "https://localhost:8080/"
        },
        "id": "ifc6SfV09Ug_",
        "outputId": "b3d26089-b488-4bf2-c102-8a02083474a9"
      },
      "outputs": [
        {
          "output_type": "execute_result",
          "data": {
            "text/plain": [
              "((38865,), (38865,))"
            ]
          },
          "metadata": {},
          "execution_count": 15
        }
      ],
      "source": [
        "X_train.shape, y_train.shape"
      ]
    },
    {
      "cell_type": "code",
      "execution_count": 16,
      "metadata": {
        "colab": {
          "base_uri": "https://localhost:8080/"
        },
        "id": "i8OIMdwE9Wsy",
        "outputId": "e87914eb-5137-4743-b08c-0fe2f88b340f"
      },
      "outputs": [
        {
          "output_type": "execute_result",
          "data": {
            "text/plain": [
              "((12956,), (12956,))"
            ]
          },
          "metadata": {},
          "execution_count": 16
        }
      ],
      "source": [
        "X_test.shape, y_test.shape"
      ]
    },
    {
      "cell_type": "markdown",
      "metadata": {
        "id": "BnzkI-Dp9diS"
      },
      "source": [
        "### Creating a Corpus"
      ]
    },
    {
      "cell_type": "code",
      "execution_count": 17,
      "metadata": {
        "colab": {
          "base_uri": "https://localhost:8080/"
        },
        "id": "KCmmUae8-urK",
        "outputId": "d67e2058-dc80-4842-aac8-b1062471566f"
      },
      "outputs": [
        {
          "output_type": "stream",
          "name": "stdout",
          "text": [
            "[nltk_data] Downloading package punkt to /root/nltk_data...\n",
            "[nltk_data]   Unzipping tokenizers/punkt.zip.\n"
          ]
        },
        {
          "output_type": "execute_result",
          "data": {
            "text/plain": [
              "True"
            ]
          },
          "metadata": {},
          "execution_count": 17
        }
      ],
      "source": [
        "nltk.download('punkt')"
      ]
    },
    {
      "cell_type": "code",
      "execution_count": 18,
      "metadata": {
        "id": "DDWps2n39uIp"
      },
      "outputs": [],
      "source": [
        "# create a corpus of words\n",
        "def create_corpus_tk(df):\n",
        "    corpus = []\n",
        "    for text in df['Post']:\n",
        "      try:\n",
        "          words = word_tokenize(text)\n",
        "          corpus.append(words)\n",
        "      except:\n",
        "        pass\n",
        "    return corpus"
      ]
    },
    {
      "cell_type": "code",
      "execution_count": 19,
      "metadata": {
        "id": "mYDIcIwi-G04"
      },
      "outputs": [],
      "source": [
        "corpus = create_corpus_tk(df)"
      ]
    },
    {
      "cell_type": "code",
      "execution_count": 20,
      "metadata": {
        "colab": {
          "base_uri": "https://localhost:8080/"
        },
        "id": "l0NXIzq8AGFj",
        "outputId": "1c6981eb-3f74-41ed-d7e4-cb3aad9dc8ec"
      },
      "outputs": [
        {
          "output_type": "stream",
          "name": "stdout",
          "text": [
            "['i', 'm', 'near', 'relapse', 'bc', 'of', 'all', 'the', 'pressure', 'i', 'have', 'and', 'worse', 'i', 'got', 'cucked', 'by', 'my', 'friend', 'and', 'the', 'girl', 'thought', 'i', 'faked', 'liking', 'her', 'i', 'feel', 'shit', 'beyond', 'shit', 'the', 'pressure', 'from', 'life', 'uni', 'exams', 'and', 'now', 'the', 'girl', 'who', 'i', 'really', 'liked', 'and', 'was', 'obvious', 'i', 'liked', 'her', 'who', 'talked', 'how', 'she', 'wanted', 'to', 'date', 'me', 'to', 'which', 'i', 'also', 'said', 'yes', 'was', 'stolen', 'from', 'me', 'by', 'someone', 'i', 'called', 'a', 'friend', 'and', 'to', 'them', 'i', 'was', 'obvious', 'i', 'liked', 'her', 'they', 'knew', 'about', 'my', 'trauma', 'from', 'past', 'relationships', 'and', 'yet', 'they', 'fucking', 'did', 'this', 'worse', 'of', 'all', 'they', 'added', 'me', 'in', 'a', 'group', 'to', 'tell', 'me', 'they', 'were', 'a', 'couple', 'in', 'the', 'middle', 'of', 'a', 'colab', 'they', 'didn', 't', 'know', 'that', 'it', 'was', 'an', 'impromptu', 'one', 'i', 'felt', 'like', 'i', 'was', 'stabbed', 'again', 'the', 'girl', 'kept', 'pestering', 'me', 'to', 'talk', 'and', 'i', 'let', 'it', 'out', 'she', 'thought', 'i', 'was', 'like', 'the', 'rest', 'bc', 'of', 'her', 'bad', 'experience', 'and', 'wanted', 'her', 'body', 'but', 'i', 'fucking', 'told', 'her', 'multiple', 'times', 'i', 'wasn', 't', 'interested', 'in', 'that', 'but', 'her', 'i', 'even', 'rejected', 'her', 'nudes', 'at', 'the', 'beginning', 'just', 'to', 'show', 'it', 'was', 'more', 'then', 'that', 'she', 'didn', 't', 'even', 'give', 'me', 'a', 'chance', 'and', 'i', 'felt', 'led', 'on', 'she', 'also', 'was', 'suicidal', 'and', 'i', 'wanted', 'to', 'go', 'slow', 'to', 'not', 'be', 'a', 'source', 'of', 'her', 'pain', 'but', 'now', 'i', 'feel', 'i', 'became', 'that', 'bc', 'i', 'got', 'hurt', 'i', 'feel', 'pathetic', 'she', 'even', 'offered', 'to', 'help', 'me', 'find', 'someone', 'bc', 'she', 'panicked', 'i', 'sank', 'when', 'that', 'happened', 'i', 'dunno', 'how', 'will', 'i', 'talk', 'to', 'the', 'friend', 'bc', 'she', 'lashed', 'out', 'on', 'me', 'twice', 'for', 'something', 'she', 'was', 'at', 'fault', 'or', 'she', 'thought', 'something', 'wasn', 't', 'true', 'this', 'is', 'a', 'vent', 'but', 'also', 'a', 'cry', 'of', 'help', 'for', 'i', 'dunno', 'what', 'to', 'do', 'exams', 'are', 'soon', 'and', 'this', 'just', 'hit', 'me', 'like', 'a', 'truck']\n"
          ]
        }
      ],
      "source": [
        "print(corpus[10])"
      ]
    },
    {
      "cell_type": "code",
      "execution_count": 21,
      "metadata": {
        "colab": {
          "base_uri": "https://localhost:8080/"
        },
        "id": "mVp-kEKz-KpK",
        "outputId": "d2e1a7a6-d13d-4bb1-e945-c0f29672040f"
      },
      "outputs": [
        {
          "output_type": "execute_result",
          "data": {
            "text/plain": [
              "51821"
            ]
          },
          "metadata": {},
          "execution_count": 21
        }
      ],
      "source": [
        "num_words = len(corpus)\n",
        "num_words"
      ]
    },
    {
      "cell_type": "markdown",
      "source": [
        "### Tokenizing the words"
      ],
      "metadata": {
        "id": "AtWsGPo_-mql"
      }
    },
    {
      "cell_type": "code",
      "execution_count": 22,
      "metadata": {
        "id": "53P3onsD-S4P"
      },
      "outputs": [],
      "source": [
        "tokenizer = Tokenizer(num_words=num_words)\n",
        "tokenizer.fit_on_texts(X_train)\n",
        "\n",
        "words_to_index = tokenizer.word_index"
      ]
    },
    {
      "cell_type": "code",
      "execution_count": 23,
      "metadata": {
        "id": "t94I1236_K3f"
      },
      "outputs": [],
      "source": [
        "# words_to_index"
      ]
    },
    {
      "cell_type": "markdown",
      "metadata": {
        "id": "5EkwiFCpBGMk"
      },
      "source": [
        "### Creating a dictionary that maps the words to their word embeddings"
      ]
    },
    {
      "cell_type": "code",
      "execution_count": 24,
      "metadata": {
        "id": "daQ3Yv8cAruE"
      },
      "outputs": [],
      "source": [
        "embedding_dict = {}\n",
        "\n",
        "def read_glove_vector(glove_vec):\n",
        "  with open(glove_vec, 'r', encoding='UTF-8') as f:\n",
        "    words = set()\n",
        "    for line in f:\n",
        "      w_line = line.split()\n",
        "      curr_word = w_line[0]\n",
        "      embedding_dict[curr_word] = np.array(w_line[1:], dtype=np.float64)\n",
        "\n",
        "  return embedding_dict"
      ]
    },
    {
      "cell_type": "code",
      "execution_count": 25,
      "metadata": {
        "id": "JpoUsQfHBCfe"
      },
      "outputs": [],
      "source": [
        "# Reading in the pretrained glove model which was downloaded from https://nlp.stanford.edu/projects/glove/\n",
        "word_to_vec_map = read_glove_vector('/content/drive/MyDrive/glove.twitter.27B.100d.txt')\n"
      ]
    },
    {
      "cell_type": "code",
      "execution_count": 26,
      "metadata": {
        "id": "Faofas9VvYAz"
      },
      "outputs": [],
      "source": [
        "# word_to_vec_map"
      ]
    },
    {
      "cell_type": "code",
      "execution_count": 27,
      "metadata": {
        "colab": {
          "base_uri": "https://localhost:8080/"
        },
        "id": "Yf3LK6ISCY-Y",
        "outputId": "a9df6e03-b68b-41a4-9811-fe048517156a"
      },
      "outputs": [
        {
          "output_type": "stream",
          "name": "stdout",
          "text": [
            "Number of unique words: 40114\n"
          ]
        }
      ],
      "source": [
        "word_index = tokenizer.word_index\n",
        "print(\"Number of unique words:\", len(word_index))"
      ]
    },
    {
      "cell_type": "markdown",
      "metadata": {
        "id": "wPtgp6u2C7eQ"
      },
      "source": [
        "### Defining an Embedding Matrix"
      ]
    },
    {
      "cell_type": "code",
      "execution_count": 28,
      "metadata": {
        "id": "o2dncVNWCCMI"
      },
      "outputs": [],
      "source": [
        "num_words = len(word_index) + 1\n",
        "embedding_matrix = np.zeros((num_words, 100))\n",
        "\n",
        "for word, i in word_index.items():\n",
        "    if i < num_words:\n",
        "        emb_vec = embedding_dict.get(word)\n",
        "        if emb_vec is not None:\n",
        "            embedding_matrix[i] = emb_vec"
      ]
    },
    {
      "cell_type": "code",
      "execution_count": 29,
      "metadata": {
        "colab": {
          "base_uri": "https://localhost:8080/"
        },
        "id": "eKf7ZJg3Ctqg",
        "outputId": "ba580a99-c2d4-4b62-8281-24a0617b45ee"
      },
      "outputs": [
        {
          "output_type": "execute_result",
          "data": {
            "text/plain": [
              "(40115, 100)"
            ]
          },
          "metadata": {},
          "execution_count": 29
        }
      ],
      "source": [
        "embedding_matrix.shape"
      ]
    },
    {
      "cell_type": "markdown",
      "metadata": {
        "id": "Ca53QK3BDPbJ"
      },
      "source": [
        "## Instantiating a Model"
      ]
    },
    {
      "cell_type": "code",
      "execution_count": 30,
      "metadata": {
        "id": "5s825EfhDSsB"
      },
      "outputs": [],
      "source": [
        "# the model contains a combination of lstm and cnn layers\n",
        "model = Sequential()\n",
        "model.add(Embedding(\n",
        "    num_words,\n",
        "    100,\n",
        "    embeddings_initializer=Constant(embedding_matrix),\n",
        "    input_length = max_len,\n",
        "    trainable=False\n",
        "))\n",
        "\n",
        "model.add(Conv1D(filters=64, kernel_size=3, activation='relu', padding='causal'))\n",
        "model.add(Dropout(0.2))\n",
        "model.add(MaxPooling1D(pool_size=2))\n",
        "model.add(LSTM(100, return_sequences=True)) # return_sequences so that it can pass the output to the next layer\n",
        "model.add(Conv1D(filters=64, kernel_size=3, activation='relu', padding='causal'))\n",
        "model.add(Dropout(0.2))\n",
        "model.add(MaxPooling1D(pool_size=2))\n",
        "model.add(LSTM(100, return_sequences=True))\n",
        "model.add(Dropout(0.2))\n",
        "model.add(Dense(1, activation='sigmoid'))\n",
        "\n",
        "model.compile(loss='binary_crossentropy', optimizer='adam', metrics=['accuracy'])"
      ]
    },
    {
      "cell_type": "code",
      "execution_count": 31,
      "metadata": {
        "id": "GEGN5U0uDUt_"
      },
      "outputs": [],
      "source": [
        "# tokenizing and padding the data so they can be easily used by the model\n",
        "\n",
        "X_train_indices = tokenizer.texts_to_sequences(X_train)\n",
        "X_train_indices = pad_sequences(X_train_indices, maxlen=max_len, padding='post')\n",
        "\n",
        "X_test_indices = tokenizer.texts_to_sequences(X_test)\n",
        "X_test_indices = pad_sequences(X_test_indices, maxlen=max_len, padding='post')"
      ]
    },
    {
      "cell_type": "markdown",
      "source": [
        "## Fitting the Model"
      ],
      "metadata": {
        "id": "inv_q6aK5yDI"
      }
    },
    {
      "cell_type": "code",
      "execution_count": 32,
      "metadata": {
        "colab": {
          "base_uri": "https://localhost:8080/"
        },
        "id": "ki72CvyMD4b-",
        "outputId": "55a7eb93-e78e-41cc-c23f-4f67d8b493f5"
      },
      "outputs": [
        {
          "output_type": "stream",
          "name": "stdout",
          "text": [
            "Epoch 1/10\n",
            "1215/1215 [==============================] - 188s 143ms/step - loss: 0.1452 - accuracy: 0.9532 - val_loss: 0.0792 - val_accuracy: 0.9849\n",
            "Epoch 2/10\n",
            "1215/1215 [==============================] - 174s 143ms/step - loss: 0.0994 - accuracy: 0.9784 - val_loss: 0.0569 - val_accuracy: 0.9887\n",
            "Epoch 3/10\n",
            "1215/1215 [==============================] - 174s 143ms/step - loss: 0.1003 - accuracy: 0.9772 - val_loss: 0.1213 - val_accuracy: 0.9574\n",
            "Epoch 4/10\n",
            "1215/1215 [==============================] - 174s 143ms/step - loss: 0.0579 - accuracy: 0.9829 - val_loss: 0.0350 - val_accuracy: 0.9895\n",
            "Epoch 5/10\n",
            "1215/1215 [==============================] - 174s 143ms/step - loss: 0.0403 - accuracy: 0.9855 - val_loss: 0.0426 - val_accuracy: 0.9880\n",
            "Epoch 6/10\n",
            "1215/1215 [==============================] - 174s 143ms/step - loss: 0.0303 - accuracy: 0.9904 - val_loss: 0.0234 - val_accuracy: 0.9909\n",
            "Epoch 7/10\n",
            "1215/1215 [==============================] - 174s 143ms/step - loss: 0.0229 - accuracy: 0.9917 - val_loss: 0.0258 - val_accuracy: 0.9905\n",
            "Epoch 8/10\n",
            "1215/1215 [==============================] - 174s 143ms/step - loss: 0.0191 - accuracy: 0.9929 - val_loss: 0.0244 - val_accuracy: 0.9915\n",
            "Epoch 9/10\n",
            "1215/1215 [==============================] - 174s 143ms/step - loss: 0.0178 - accuracy: 0.9931 - val_loss: 0.0242 - val_accuracy: 0.9902\n",
            "Epoch 10/10\n",
            "1215/1215 [==============================] - 174s 143ms/step - loss: 0.0138 - accuracy: 0.9946 - val_loss: 0.0262 - val_accuracy: 0.9915\n"
          ]
        }
      ],
      "source": [
        "history = model.fit(X_train_indices, y_train,\n",
        "                    validation_data=(X_test_indices, y_test),\n",
        "                    batch_size=32, epochs=10)"
      ]
    },
    {
      "cell_type": "markdown",
      "source": [
        "### Evaluating the model"
      ],
      "metadata": {
        "id": "KRQ3lV0fBPHz"
      }
    },
    {
      "cell_type": "code",
      "execution_count": 33,
      "metadata": {
        "id": "8t1r1_b9ELMD",
        "colab": {
          "base_uri": "https://localhost:8080/"
        },
        "outputId": "f3eca87c-9d48-43fa-aba1-b1898924e091"
      },
      "outputs": [
        {
          "output_type": "stream",
          "name": "stdout",
          "text": [
            "405/405 [==============================] - 21s 52ms/step - loss: 0.0262 - accuracy: 0.9915\n"
          ]
        },
        {
          "output_type": "execute_result",
          "data": {
            "text/plain": [
              "[0.026163429021835327, 0.9914585947990417]"
            ]
          },
          "metadata": {},
          "execution_count": 33
        }
      ],
      "source": [
        "model.evaluate(X_test_indices, y_test)"
      ]
    },
    {
      "cell_type": "code",
      "execution_count": 34,
      "metadata": {
        "id": "Z9f79u3csqrV",
        "colab": {
          "base_uri": "https://localhost:8080/"
        },
        "outputId": "7c7e19a0-33eb-4dc1-fc25-1be5203fd28a"
      },
      "outputs": [
        {
          "output_type": "stream",
          "name": "stdout",
          "text": [
            "Model: \"sequential\"\n",
            "_________________________________________________________________\n",
            " Layer (type)                Output Shape              Param #   \n",
            "=================================================================\n",
            " embedding (Embedding)       (None, 4363, 100)         4011500   \n",
            "                                                                 \n",
            " conv1d (Conv1D)             (None, 4363, 64)          19264     \n",
            "                                                                 \n",
            " dropout (Dropout)           (None, 4363, 64)          0         \n",
            "                                                                 \n",
            " max_pooling1d (MaxPooling1D  (None, 2181, 64)         0         \n",
            " )                                                               \n",
            "                                                                 \n",
            " lstm (LSTM)                 (None, 2181, 100)         66000     \n",
            "                                                                 \n",
            " conv1d_1 (Conv1D)           (None, 2181, 64)          19264     \n",
            "                                                                 \n",
            " dropout_1 (Dropout)         (None, 2181, 64)          0         \n",
            "                                                                 \n",
            " max_pooling1d_1 (MaxPooling  (None, 1090, 64)         0         \n",
            " 1D)                                                             \n",
            "                                                                 \n",
            " lstm_1 (LSTM)               (None, 1090, 100)         66000     \n",
            "                                                                 \n",
            " dropout_2 (Dropout)         (None, 1090, 100)         0         \n",
            "                                                                 \n",
            " dense (Dense)               (None, 1090, 1)           101       \n",
            "                                                                 \n",
            "=================================================================\n",
            "Total params: 4,182,129\n",
            "Trainable params: 170,629\n",
            "Non-trainable params: 4,011,500\n",
            "_________________________________________________________________\n"
          ]
        }
      ],
      "source": [
        "model.summary()"
      ]
    },
    {
      "cell_type": "code",
      "execution_count": 35,
      "metadata": {
        "id": "XnTR3Am-rR5d"
      },
      "outputs": [],
      "source": [
        "def plot_graph(history):\n",
        "  # Check out our train loss and test loss over epochs.\n",
        "  train_loss = history.history['loss']\n",
        "  test_loss = history.history['val_loss']\n",
        "\n",
        "  # Set figure size.a\n",
        "  plt.figure(figsize=(12, 8))\n",
        "\n",
        "  # Generate line plot of training, testing loss over epochs.\n",
        "  plt.plot(train_loss, label='Training Loss', color='#185fad')\n",
        "  plt.plot(test_loss, label='Testing Loss', color='orange')\n",
        "\n",
        "  # Set title\n",
        "  plt.title('Training and Testing Loss by Epoch', fontsize = 25)\n",
        "  plt.xlabel('Epoch', fontsize = 18)\n",
        "  plt.ylabel('Binary Crossentropy', fontsize = 18)\n",
        "  plt.xticks(np.arange(10), np.arange(10))\n",
        "\n",
        "  plt.legend(fontsize = 18);"
      ]
    },
    {
      "cell_type": "code",
      "execution_count": 36,
      "metadata": {
        "id": "YmLr2PQoeeJM",
        "colab": {
          "base_uri": "https://localhost:8080/",
          "height": 530
        },
        "outputId": "62ffe1a3-19f0-467d-f6cd-b724f5260cd6"
      },
      "outputs": [
        {
          "output_type": "display_data",
          "data": {
            "text/plain": [
              "<Figure size 864x576 with 1 Axes>"
            ],
            "image/png": "[encoded data removed]"
          },
          "metadata": {
            "needs_background": "light"
          }
        }
      ],
      "source": [
        "plot_graph(history)"
      ]
    },
    {
      "cell_type": "code",
      "execution_count": 37,
      "metadata": {
        "id": "KtfwsIHlDYa6"
      },
      "outputs": [],
      "source": [
        "# Save the entire model as a SavedModel.\n",
        "!mkdir -p saved_model\n",
        "model.save('./saved_model/lstm_cnn.h5')"
      ]
    },
    {
      "cell_type": "markdown",
      "source": [
        "## Making Predictions"
      ],
      "metadata": {
        "id": "lSmhMtjp54hZ"
      }
    },
    {
      "cell_type": "code",
      "source": [
        "def predict_sentiment(score):\n",
        "    return 1 if score > 0.5 else 0\n",
        "    \n",
        "scores = model.predict(X_test_indices)\n"
      ],
      "metadata": {
        "id": "MC-fjRUL8-G2"
      },
      "execution_count": 38,
      "outputs": []
    },
    {
      "cell_type": "code",
      "source": [
        "model_predictions = [predict_sentiment(score[0]) for score in scores]"
      ],
      "metadata": {
        "id": "qt7ru5LtB7xm"
      },
      "execution_count": 39,
      "outputs": []
    },
    {
      "cell_type": "code",
      "source": [
        "cm = confusion_matrix(np.array(y_test), model_predictions)\n",
        "f = sns.heatmap(cm, annot=True, fmt='d')\n",
        "f.set(xlabel='Predicted Labels', ylabel='True Labels');"
      ],
      "metadata": {
        "colab": {
          "base_uri": "https://localhost:8080/",
          "height": 279
        },
        "id": "3j2idfp4aRQ1",
        "outputId": "5eb03669-c755-4366-f4f5-3bc44c36623c"
      },
      "execution_count": 40,
      "outputs": [
        {
          "output_type": "display_data",
          "data": {
            "text/plain": [
              "<Figure size 432x288 with 2 Axes>"
            ],
            "image/png": "[encoded data removed]"
          },
          "metadata": {
            "needs_background": "light"
          }
        }
      ]
    },
    {
      "cell_type": "code",
      "source": [
        "# Classification report\n",
        "print(classification_report(np.array(y_test), model_predictions))\n"
      ],
      "metadata": {
        "colab": {
          "base_uri": "https://localhost:8080/"
        },
        "id": "iFWhNeLI8_Ol",
        "outputId": "135cbf46-10b2-428d-ea5c-3f52393c1870"
      },
      "execution_count": 41,
      "outputs": [
        {
          "output_type": "stream",
          "name": "stdout",
          "text": [
            "              precision    recall  f1-score   support\n",
            "\n",
            "           0       0.94      0.96      0.95      6125\n",
            "           1       0.96      0.94      0.95      6831\n",
            "\n",
            "    accuracy                           0.95     12956\n",
            "   macro avg       0.95      0.95      0.95     12956\n",
            "weighted avg       0.95      0.95      0.95     12956\n",
            "\n"
          ]
        }
      ]
    },
    {
      "cell_type": "code",
      "source": [
        "# saved_model = tf.keras.models.load_model('/content/drive/MyDrive/lstm_cnn.h5')\n"
      ],
      "metadata": {
        "id": "AQu0VY7oB60Y"
      },
      "execution_count": 42,
      "outputs": []
    },
    {
      "cell_type": "markdown",
      "source": [
        "### Checking level of depression of random texts for the model"
      ],
      "metadata": {
        "id": "QCd-cPzQIG59"
      }
    },
    {
      "cell_type": "code",
      "source": [
        "# Reading in the data to be used for validation\n",
        "valid_data = pd.read_csv('/content/drive/MyDrive/ValidationText.csv')\n",
        "valid_data.head()"
      ],
      "metadata": {
        "colab": {
          "base_uri": "https://localhost:8080/",
          "height": 206
        },
        "id": "uhZh4qFWGbRu",
        "outputId": "528d9e1b-efa4-42e0-c606-0129e1872206"
      },
      "execution_count": 43,
      "outputs": [
        {
          "output_type": "execute_result",
          "data": {
            "text/plain": [
              "   #                                               Text  \\\n",
              "0  1                                         Cut deeper   \n",
              "1  2  Dear mom & dad, I'm sorry for failing you, I'm...   \n",
              "2  3  Confession: My therapist doesn't think my prob...   \n",
              "3  4  Depression is not something to be happy about....   \n",
              "4  5  I feel really bad tonight...Seriously thinking...   \n",
              "\n",
              "                             From  \\\n",
              "0  Tumblr: Depression & Disorders   \n",
              "1  Tumblr: Depression & Disorders   \n",
              "2  Tumblr: Depression & Disorders   \n",
              "3  Tumblr: Depression & Disorders   \n",
              "4  Tumblr: Depression & Disorders   \n",
              "\n",
              "                                              Source  \n",
              "0  Buzzfeed Article (https://www.buzzfeednews.com...  \n",
              "1  Buzzfeed Article (https://www.buzzfeednews.com...  \n",
              "2  Buzzfeed Article (https://www.buzzfeednews.com...  \n",
              "3  Buzzfeed Article (https://www.buzzfeednews.com...  \n",
              "4  Buzzfeed Article (https://www.buzzfeednews.com...  "
            ],
            "text/html": [
              "\n",
              "  <div id=\"df-5c0fb7c6-01c6-44ac-b210-9da9f0e4169b\">\n",
              "    <div class=\"colab-df-container\">\n",
              "      <div>\n",
              "<style scoped>\n",
              "    .dataframe tbody tr th:only-of-type {\n",
              "        vertical-align: middle;\n",
              "    }\n",
              "\n",
              "    .dataframe tbody tr th {\n",
              "        vertical-align: top;\n",
              "    }\n",
              "\n",
              "    .dataframe thead th {\n",
              "        text-align: right;\n",
              "    }\n",
              "</style>\n",
              "<table border=\"1\" class=\"dataframe\">\n",
              "  <thead>\n",
              "    <tr style=\"text-align: right;\">\n",
              "      <th></th>\n",
              "      <th>#</th>\n",
              "      <th>Text</th>\n",
              "      <th>From</th>\n",
              "      <th>Source</th>\n",
              "    </tr>\n",
              "  </thead>\n",
              "  <tbody>\n",
              "    <tr>\n",
              "      <th>0</th>\n",
              "      <td>1</td>\n",
              "      <td>Cut deeper</td>\n",
              "      <td>Tumblr: Depression &amp; Disorders</td>\n",
              "      <td>Buzzfeed Article (https://www.buzzfeednews.com...</td>\n",
              "    </tr>\n",
              "    <tr>\n",
              "      <th>1</th>\n",
              "      <td>2</td>\n",
              "      <td>Dear mom &amp; dad, I'm sorry for failing you, I'm...</td>\n",
              "      <td>Tumblr: Depression &amp; Disorders</td>\n",
              "      <td>Buzzfeed Article (https://www.buzzfeednews.com...</td>\n",
              "    </tr>\n",
              "    <tr>\n",
              "      <th>2</th>\n",
              "      <td>3</td>\n",
              "      <td>Confession: My therapist doesn't think my prob...</td>\n",
              "      <td>Tumblr: Depression &amp; Disorders</td>\n",
              "      <td>Buzzfeed Article (https://www.buzzfeednews.com...</td>\n",
              "    </tr>\n",
              "    <tr>\n",
              "      <th>3</th>\n",
              "      <td>4</td>\n",
              "      <td>Depression is not something to be happy about....</td>\n",
              "      <td>Tumblr: Depression &amp; Disorders</td>\n",
              "      <td>Buzzfeed Article (https://www.buzzfeednews.com...</td>\n",
              "    </tr>\n",
              "    <tr>\n",
              "      <th>4</th>\n",
              "      <td>5</td>\n",
              "      <td>I feel really bad tonight...Seriously thinking...</td>\n",
              "      <td>Tumblr: Depression &amp; Disorders</td>\n",
              "      <td>Buzzfeed Article (https://www.buzzfeednews.com...</td>\n",
              "    </tr>\n",
              "  </tbody>\n",
              "</table>\n",
              "</div>\n",
              "      <button class=\"colab-df-convert\" onclick=\"convertToInteractive('df-5c0fb7c6-01c6-44ac-b210-9da9f0e4169b')\"\n",
              "              title=\"Convert this dataframe to an interactive table.\"\n",
              "              style=\"display:none;\">\n",
              "        \n",
              "  <svg xmlns=\"http://www.w3.org/2000/svg\" height=\"24px\"viewBox=\"0 0 24 24\"\n",
              "       width=\"24px\">\n",
              "    <path d=\"M0 0h24v24H0V0z\" fill=\"none\"/>\n",
              "    <path d=\"M18.56 5.44l.94 2.06.94-2.06 2.06-.94-2.06-.94-.94-2.06-.94 2.06-2.06.94zm-11 1L8.5 8.5l.94-2.06 2.06-.94-2.06-.94L8.5 2.5l-.94 2.06-2.06.94zm10 10l.94 2.06.94-2.06 2.06-.94-2.06-.94-.94-2.06-.94 2.06-2.06.94z\"/><path d=\"M17.41 7.96l-1.37-1.37c-.4-.4-.92-.59-1.43-.59-.52 0-1.04.2-1.43.59L10.3 9.45l-7.72 7.72c-.78.78-.78 2.05 0 2.83L4 21.41c.39.39.9.59 1.41.59.51 0 1.02-.2 1.41-.59l7.78-7.78 2.81-2.81c.8-.78.8-2.07 0-2.86zM5.41 20L4 18.59l7.72-7.72 1.47 1.35L5.41 20z\"/>\n",
              "  </svg>\n",
              "      </button>\n",
              "      \n",
              "  <style>\n",
              "    .colab-df-container {\n",
              "      display:flex;\n",
              "      flex-wrap:wrap;\n",
              "      gap: 12px;\n",
              "    }\n",
              "\n",
              "    .colab-df-convert {\n",
              "      background-color: #E8F0FE;\n",
              "      border: none;\n",
              "      border-radius: 50%;\n",
              "      cursor: pointer;\n",
              "      display: none;\n",
              "      fill: #1967D2;\n",
              "      height: 32px;\n",
              "      padding: 0 0 0 0;\n",
              "      width: 32px;\n",
              "    }\n",
              "\n",
              "    .colab-df-convert:hover {\n",
              "      background-color: #E2EBFA;\n",
              "      box-shadow: 0px 1px 2px rgba(60, 64, 67, 0.3), 0px 1px 3px 1px rgba(60, 64, 67, 0.15);\n",
              "      fill: #174EA6;\n",
              "    }\n",
              "\n",
              "    [theme=dark] .colab-df-convert {\n",
              "      background-color: #3B4455;\n",
              "      fill: #D2E3FC;\n",
              "    }\n",
              "\n",
              "    [theme=dark] .colab-df-convert:hover {\n",
              "      background-color: #434B5C;\n",
              "      box-shadow: 0px 1px 3px 1px rgba(0, 0, 0, 0.15);\n",
              "      filter: drop-shadow(0px 1px 2px rgba(0, 0, 0, 0.3));\n",
              "      fill: #FFFFFF;\n",
              "    }\n",
              "  </style>\n",
              "\n",
              "      <script>\n",
              "        const buttonEl =\n",
              "          document.querySelector('#df-5c0fb7c6-01c6-44ac-b210-9da9f0e4169b button.colab-df-convert');\n",
              "        buttonEl.style.display =\n",
              "          google.colab.kernel.accessAllowed ? 'block' : 'none';\n",
              "\n",
              "        async function convertToInteractive(key) {\n",
              "          const element = document.querySelector('#df-5c0fb7c6-01c6-44ac-b210-9da9f0e4169b');\n",
              "          const dataTable =\n",
              "            await google.colab.kernel.invokeFunction('convertToInteractive',\n",
              "                                                     [key], {});\n",
              "          if (!dataTable) return;\n",
              "\n",
              "          const docLinkHtml = 'Like what you see? Visit the ' +\n",
              "            '<a target=\"_blank\" href=https://colab.research.google.com/notebooks/data_table.ipynb>data table notebook</a>'\n",
              "            + ' to learn more about interactive tables.';\n",
              "          element.innerHTML = '';\n",
              "          dataTable['output_type'] = 'display_data';\n",
              "          await google.colab.output.renderOutput(dataTable, element);\n",
              "          const docLink = document.createElement('div');\n",
              "          docLink.innerHTML = docLinkHtml;\n",
              "          element.appendChild(docLink);\n",
              "        }\n",
              "      </script>\n",
              "    </div>\n",
              "  </div>\n",
              "  "
            ]
          },
          "metadata": {},
          "execution_count": 43
        }
      ]
    },
    {
      "cell_type": "code",
      "source": [
        "data = np.array(valid_data['Text'])\n",
        "data"
      ],
      "metadata": {
        "colab": {
          "base_uri": "https://localhost:8080/"
        },
        "id": "SuPP1G3ZGnMr",
        "outputId": "c5137739-4543-4ac2-96da-6f0a902ee05f"
      },
      "execution_count": 44,
      "outputs": [
        {
          "output_type": "execute_result",
          "data": {
            "text/plain": [
              "array(['Cut deeper',\n",
              "       \"Dear mom & dad, I'm sorry for failing you, I'm sorry for not being your dream daughter. I know you did your best and I know how much it hurt when you found out what I'm doing to myself. I'm sorry for letting you down.\",\n",
              "       \"Confession: My therapist doesn't think my problems are serious and it's just a part of being a teenager. Little does she know, how much I want to die. Not just kind of...I really want, And I will.\",\n",
              "       \"Depression is not something to be happy about. I hate the fact that everything I just said, is only a quarter of what I feel. Some people get excited when they're diagnosed with depression. 'Oh I'm going to tell my friends, maybe I'll get some sympathy .' No you stupid c***. It is the worst thing, that's why, when I was diagnosed with depression. I felt crazy. Because I'm not normal. I'm depressed, and pain lives in me, and I can't escape it. That's the sad thing. No one takes it seriously.\",\n",
              "       'I feel really bad tonight...Seriously thinking about killing myself',\n",
              "       \"Um hi. I really like your blog. I was just wondering if you have advice for hiding scars? Makeup just doesn't hide it enough and my school isn't allowing long sleeves for the graduation. I'd really appreciate some help. Thanks\",\n",
              "       'Where do u cut? And when did u start?',\n",
              "       \"Im freaking out. please help. okay so i have severe depression and i cut and have ednos and i purge sometimes and im kind of suicidal. anyway my friend went and talked to a psych behind my back bc she saw i was getting rlly bad and now she is gonna talk to my parents and i just dont know how to deal with this. they will hate me even more and think that they have a fucking psycho in their family.. i just dont know :'(\",\n",
              "       \"I am so sad and unhappy that I can't stand it.\",\n",
              "       'I feel the future is hopeless and that things cannot improve.',\n",
              "       'I feel I am a complete failure as a person.',\n",
              "       'I am dissatisfied or bored with everything.',\n",
              "       'I feel guilty all of the time.', 'I feel I am being punished.',\n",
              "       'I hate myself.',\n",
              "       'I blame myself for everything bad that happens.',\n",
              "       'I would kill myself if I had the chance.',\n",
              "       \"I used to be able to cry, but now I can't cry even though I want to.\",\n",
              "       'I feel irritated all the time.',\n",
              "       'I have lost all of my interest in other people.',\n",
              "       \"I can't make decisions at all anymore.\",\n",
              "       'I believe that I look ugly.', \"I can't do any work at all.\",\n",
              "       'I wake up several hours earlier than I used to and cannot get back to sleep.',\n",
              "       'I am too tired to do anything.',\n",
              "       'I have no appetite at all anymore.',\n",
              "       'I have lost more than fifteen pounds.',\n",
              "       'I am so worried about my physical problems that I cannot think of anything else.',\n",
              "       'I have lost interest in sex completely.'], dtype=object)"
            ]
          },
          "metadata": {},
          "execution_count": 44
        }
      ]
    },
    {
      "cell_type": "code",
      "source": [
        "indices = tokenizer.texts_to_sequences(data[7])\n",
        "padded_text = pad_sequences(indices, maxlen=max_len, padding='post')\n",
        "model.predict(padded_text)[0][0]"
      ],
      "metadata": {
        "id": "X2sApPwgSHyk",
        "colab": {
          "base_uri": "https://localhost:8080/"
        },
        "outputId": "81211fb9-7e5e-417c-b77c-fdf8ee78c20c"
      },
      "execution_count": 49,
      "outputs": [
        {
          "output_type": "execute_result",
          "data": {
            "text/plain": [
              "array([0.99936134], dtype=float32)"
            ]
          },
          "metadata": {},
          "execution_count": 49
        }
      ]
    },
    {
      "cell_type": "code",
      "source": [
        "indices = tokenizer.texts_to_sequences('Happiness is when what you thin, what you say and what you do are in Harmony.')\n",
        "padded_text = pad_sequences(indices, maxlen=max_len, padding='post')\n",
        "model.predict(padded_text)[0][0]"
      ],
      "metadata": {
        "colab": {
          "base_uri": "https://localhost:8080/"
        },
        "id": "GyRHYFqNCjUS",
        "outputId": "cc252c4c-d367-40da-91d2-18cfd7315757"
      },
      "execution_count": 50,
      "outputs": [
        {
          "output_type": "execute_result",
          "data": {
            "text/plain": [
              "array([0.3463966], dtype=float32)"
            ]
          },
          "metadata": {},
          "execution_count": 50
        }
      ]
    },
    {
      "cell_type": "code",
      "source": [
        ""
      ],
      "metadata": {
        "id": "eGUs-ylYCsqj"
      },
      "execution_count": null,
      "outputs": []
    }
  ],
  "metadata": {
    "colab": {
      "collapsed_sections": [],
      "name": "lstm_cnn_final.ipynb",
      "provenance": []
    },
    "kernelspec": {
      "display_name": "Python 3",
      "name": "python3"
    },
    "language_info": {
      "name": "python"
    },
    "accelerator": "GPU"
  },
  "nbformat": 4,
  "nbformat_minor": 0
}