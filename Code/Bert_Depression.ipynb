{
 "cells": [
  {
   "cell_type": "code",
   "execution_count": 51,
   "id": "c8e5dcf3-49d2-4e18-949a-d6035d553970",
   "metadata": {},
   "outputs": [],
   "source": [
    "#Import libraries\n",
    "import pandas as pd\n",
    "import numpy as np\n",
    "import matplotlib.pyplot as plt\n",
    "import seaborn as sns\n",
    "\n",
    "import tensorflow as tf\n",
    "from tensorflow import keras\n",
    "import tensorflow_hub as hub\n",
    "import tensorflow_text as text\n",
    "\n",
    "from sklearn.model_selection import train_test_split\n",
    "from sklearn.metrics import accuracy_score, recall_score, confusion_matrix, precision_score"
   ]
  },
  {
   "cell_type": "code",
   "execution_count": 52,
   "id": "36454004-445d-47c4-b389-38eb470623bf",
   "metadata": {},
   "outputs": [],
   "source": [
    "#Import data\n",
    "df = pd.read_csv('../Data/Sentiment CSV/MergedSenti.csv')"
   ]
  },
  {
   "cell_type": "code",
   "execution_count": 53,
   "id": "9eb209d6-8325-4829-8233-bd42d8fbb464",
   "metadata": {},
   "outputs": [
    {
     "data": {
      "text/plain": [
       "Exercise            0.281677\n",
       "SuicidalThoughts    0.268076\n",
       "Depression          0.264165\n",
       "Happy               0.186083\n",
       "Name: Class, dtype: float64"
      ]
     },
     "execution_count": 53,
     "metadata": {},
     "output_type": "execute_result"
    }
   ],
   "source": [
    "#Check the classes\n",
    "df.Class.value_counts(normalize = True)"
   ]
  },
  {
   "cell_type": "code",
   "execution_count": 54,
   "id": "c0081940-abe7-4e80-9862-a4ec93647636",
   "metadata": {},
   "outputs": [
    {
     "data": {
      "text/html": [
       "<div>\n",
       "<style scoped>\n",
       "    .dataframe tbody tr th:only-of-type {\n",
       "        vertical-align: middle;\n",
       "    }\n",
       "\n",
       "    .dataframe tbody tr th {\n",
       "        vertical-align: top;\n",
       "    }\n",
       "\n",
       "    .dataframe thead th {\n",
       "        text-align: right;\n",
       "    }\n",
       "</style>\n",
       "<table border=\"1\" class=\"dataframe\">\n",
       "  <thead>\n",
       "    <tr style=\"text-align: right;\">\n",
       "      <th></th>\n",
       "      <th>neg</th>\n",
       "      <th>neu</th>\n",
       "      <th>pos</th>\n",
       "      <th>compound</th>\n",
       "      <th>Post</th>\n",
       "      <th>Class</th>\n",
       "    </tr>\n",
       "  </thead>\n",
       "  <tbody>\n",
       "    <tr>\n",
       "      <th>0</th>\n",
       "      <td>0.163</td>\n",
       "      <td>0.658</td>\n",
       "      <td>0.178</td>\n",
       "      <td>0.1406</td>\n",
       "      <td>attempted yesterday i had an exit yesterday an...</td>\n",
       "      <td>SuicidalThoughts</td>\n",
       "    </tr>\n",
       "    <tr>\n",
       "      <th>1</th>\n",
       "      <td>0.000</td>\n",
       "      <td>0.892</td>\n",
       "      <td>0.108</td>\n",
       "      <td>0.4404</td>\n",
       "      <td>my bf of  years just tried to hang himself las...</td>\n",
       "      <td>SuicidalThoughts</td>\n",
       "    </tr>\n",
       "    <tr>\n",
       "      <th>2</th>\n",
       "      <td>0.141</td>\n",
       "      <td>0.665</td>\n",
       "      <td>0.194</td>\n",
       "      <td>0.8683</td>\n",
       "      <td>he gave up because of me  we have shared many ...</td>\n",
       "      <td>SuicidalThoughts</td>\n",
       "    </tr>\n",
       "    <tr>\n",
       "      <th>3</th>\n",
       "      <td>0.045</td>\n",
       "      <td>0.873</td>\n",
       "      <td>0.081</td>\n",
       "      <td>0.2960</td>\n",
       "      <td>running out of options does anyone have any co...</td>\n",
       "      <td>SuicidalThoughts</td>\n",
       "    </tr>\n",
       "    <tr>\n",
       "      <th>4</th>\n",
       "      <td>0.299</td>\n",
       "      <td>0.588</td>\n",
       "      <td>0.113</td>\n",
       "      <td>-0.9927</td>\n",
       "      <td>my life is shit i feel like shit  i hate mysel...</td>\n",
       "      <td>SuicidalThoughts</td>\n",
       "    </tr>\n",
       "  </tbody>\n",
       "</table>\n",
       "</div>"
      ],
      "text/plain": [
       "     neg    neu    pos  compound  \\\n",
       "0  0.163  0.658  0.178    0.1406   \n",
       "1  0.000  0.892  0.108    0.4404   \n",
       "2  0.141  0.665  0.194    0.8683   \n",
       "3  0.045  0.873  0.081    0.2960   \n",
       "4  0.299  0.588  0.113   -0.9927   \n",
       "\n",
       "                                                Post             Class  \n",
       "0  attempted yesterday i had an exit yesterday an...  SuicidalThoughts  \n",
       "1  my bf of  years just tried to hang himself las...  SuicidalThoughts  \n",
       "2  he gave up because of me  we have shared many ...  SuicidalThoughts  \n",
       "3  running out of options does anyone have any co...  SuicidalThoughts  \n",
       "4  my life is shit i feel like shit  i hate mysel...  SuicidalThoughts  "
      ]
     },
     "execution_count": 54,
     "metadata": {},
     "output_type": "execute_result"
    }
   ],
   "source": [
    "#Check the head \n",
    "df.head()"
   ]
  },
  {
   "cell_type": "code",
   "execution_count": 55,
   "id": "eb51c951-4587-46b8-bae8-a1f7b5bc7cdd",
   "metadata": {},
   "outputs": [],
   "source": [
    "#Selecting the classes i'm interested \n",
    "depresed = df[df['Class'] == 'Depression'][:7000].reset_index(drop = True)\n",
    "happy = df[df['Class'] == 'Happy'][:3500].reset_index(drop = True)\n",
    "exercise = df[df['Class'] == 'Exercise'][:3500].reset_index(drop = True)"
   ]
  },
  {
   "cell_type": "code",
   "execution_count": 56,
   "id": "91dae0d1-0288-4014-80a6-810e9501f983",
   "metadata": {},
   "outputs": [],
   "source": [
    "#Create a new dataframe \n",
    "df = pd.concat([depresed, happy, exercise]).reset_index(drop = True)"
   ]
  },
  {
   "cell_type": "code",
   "execution_count": 57,
   "id": "3010c860-15bb-4321-bb24-ecd7e0eff153",
   "metadata": {},
   "outputs": [],
   "source": [
    "#Hot Encode the classes\n",
    "df.Class = df.Class.apply(lambda x: 1 if x == 'Depression' else 0)"
   ]
  },
  {
   "cell_type": "code",
   "execution_count": 58,
   "id": "574bb8a3-95b1-44c0-a65d-0a091b2bf112",
   "metadata": {},
   "outputs": [],
   "source": [
    "#Reset the index of dataframe\n",
    "df = df.reset_index(drop = True)"
   ]
  },
  {
   "cell_type": "code",
   "execution_count": 59,
   "id": "1f2ef390-63ab-4c4a-9a7b-ba3e91c42dab",
   "metadata": {},
   "outputs": [],
   "source": [
    "#Select  X and y\n",
    "X = df['Post'].to_list()\n",
    "y = df['Class'].to_list()"
   ]
  },
  {
   "cell_type": "code",
   "execution_count": 60,
   "id": "66458421-d702-4db6-a9ce-7ad33f169582",
   "metadata": {},
   "outputs": [],
   "source": [
    "#Split in train and test set\n",
    "X_train, X_test, y_train, y_test = train_test_split(X, y, test_size=0.33, random_state=42)"
   ]
  },
  {
   "cell_type": "code",
   "execution_count": 31,
   "id": "a8c188ef-2d6c-4fb1-aab7-38b4a548713f",
   "metadata": {},
   "outputs": [],
   "source": [
    "#Download the pretrained bert model. Links got it from tensorflow hub website for text classification, bert\n",
    "bert_preprocess = hub.KerasLayer(\"https://tfhub.dev/tensorflow/bert_en_uncased_preprocess/3\")\n",
    "bert_encoder = hub.KerasLayer(\"https://tfhub.dev/tensorflow/bert_en_uncased_L-12_H-768_A-12/4\")"
   ]
  },
  {
   "cell_type": "code",
   "execution_count": 32,
   "id": "f0ec62d9-a01f-4840-96a4-508d0210be04",
   "metadata": {},
   "outputs": [
    {
     "name": "stdout",
     "output_type": "stream",
     "text": [
      "Model: \"model\"\n",
      "__________________________________________________________________________________________________\n",
      " Layer (type)                   Output Shape         Param #     Connected to                     \n",
      "==================================================================================================\n",
      " text (InputLayer)              [(None,)]            0           []                               \n",
      "                                                                                                  \n",
      " keras_layer (KerasLayer)       {'input_mask': (Non  0           ['text[0][0]']                   \n",
      "                                e, 128),                                                          \n",
      "                                 'input_word_ids':                                                \n",
      "                                (None, 128),                                                      \n",
      "                                 'input_type_ids':                                                \n",
      "                                (None, 128)}                                                      \n",
      "                                                                                                  \n",
      " keras_layer_1 (KerasLayer)     {'default': (None,   109482241   ['keras_layer[0][0]',            \n",
      "                                768),                             'keras_layer[0][1]',            \n",
      "                                 'pooled_output': (               'keras_layer[0][2]']            \n",
      "                                None, 768),                                                       \n",
      "                                 'sequence_output':                                               \n",
      "                                 (None, 128, 768),                                                \n",
      "                                 'encoder_outputs':                                               \n",
      "                                 [(None, 128, 768),                                               \n",
      "                                 (None, 128, 768),                                                \n",
      "                                 (None, 128, 768),                                                \n",
      "                                 (None, 128, 768),                                                \n",
      "                                 (None, 128, 768),                                                \n",
      "                                 (None, 128, 768),                                                \n",
      "                                 (None, 128, 768),                                                \n",
      "                                 (None, 128, 768),                                                \n",
      "                                 (None, 128, 768),                                                \n",
      "                                 (None, 128, 768),                                                \n",
      "                                 (None, 128, 768),                                                \n",
      "                                 (None, 128, 768)]}                                               \n",
      "                                                                                                  \n",
      " Dense1 (Dense)                 (None, 128)          98432       ['keras_layer_1[0][13]']         \n",
      "                                                                                                  \n",
      " dropout1 (Dropout)             (None, 128)          0           ['Dense1[0][0]']                 \n",
      "                                                                                                  \n",
      " Dense2 (Dense)                 (None, 64)           8256        ['dropout1[0][0]']               \n",
      "                                                                                                  \n",
      " dropout2 (Dropout)             (None, 64)           0           ['Dense2[0][0]']                 \n",
      "                                                                                                  \n",
      " output (Dense)                 (None, 1)            65          ['dropout2[0][0]']               \n",
      "                                                                                                  \n",
      "==================================================================================================\n",
      "Total params: 109,588,994\n",
      "Trainable params: 106,753\n",
      "Non-trainable params: 109,482,241\n",
      "__________________________________________________________________________________________________\n"
     ]
    }
   ],
   "source": [
    "#Create the Funtional API model\n",
    "\n",
    "#Bert Layers\n",
    "input_text = tf.keras.layers.Input(shape=(), dtype=tf.string, name='text')\n",
    "preprocessed_text = bert_preprocess(input_text)\n",
    "outputs = bert_encoder(preprocessed_text)\n",
    "\n",
    "#Neural Layers\n",
    "l1 = tf.keras.layers.Dense(128, name=\"Dense1\")(outputs['pooled_output'])\n",
    "l2 = tf.keras.layers.Dropout(0.5, name = 'dropout1')(l1)\n",
    "l3 = tf.keras.layers.Dense(64, name = 'Dense2')(l2)\n",
    "l4 = tf.keras.layers.Dropout(0.5, name = 'dropout2')(l3)\n",
    "out_layer = tf.keras.layers.Dense(1, activation='sigmoid', name=\"output\")(l4)\n",
    "\n",
    "#Output layer\n",
    "bert_depr_model = tf.keras.Model(inputs=[input_text], outputs = [out_layer])\n",
    "\n",
    "#Check the model summary\n",
    "bert_depr_model.summary()"
   ]
  },
  {
   "cell_type": "code",
   "execution_count": 33,
   "id": "c8147162-66b5-4448-85da-e6cc21b17d61",
   "metadata": {},
   "outputs": [],
   "source": [
    "#Compile the model\n",
    "bert_depr_model.compile(optimizer='adam',loss='binary_crossentropy',metrics='accuracy')"
   ]
  },
  {
   "cell_type": "code",
   "execution_count": 34,
   "id": "b3dc4691-99cd-4855-8fbf-771ec28c4e57",
   "metadata": {},
   "outputs": [
    {
     "name": "stdout",
     "output_type": "stream",
     "text": [
      "Epoch 1/2\n",
      "147/147 [==============================] - 7456s 51s/step - loss: 0.2754 - accuracy: 0.8957 - val_loss: 0.0738 - val_accuracy: 0.9762\n",
      "Epoch 2/2\n",
      "147/147 [==============================] - 7530s 51s/step - loss: 0.1623 - accuracy: 0.9443 - val_loss: 0.0666 - val_accuracy: 0.9751\n"
     ]
    }
   ],
   "source": [
    "#Fit the model\n",
    "history = bert_depr_model.fit(X_train, y_train,\n",
    "                             batch_size = 64,\n",
    "                             validation_data = (X_test, y_test),\n",
    "                             epochs = 2)"
   ]
  },
  {
   "cell_type": "code",
   "execution_count": 35,
   "id": "b7998efc-218c-4f29-a389-ff697e032f97",
   "metadata": {},
   "outputs": [
    {
     "name": "stderr",
     "output_type": "stream",
     "text": [
      "WARNING:absl:Found untraced functions such as restored_function_body, restored_function_body, restored_function_body, restored_function_body, restored_function_body while saving (showing 5 of 366). These functions will not be directly callable after loading.\n"
     ]
    },
    {
     "name": "stdout",
     "output_type": "stream",
     "text": [
      "INFO:tensorflow:Assets written to: ./Saved Models/bert_depression_model\\assets\n"
     ]
    },
    {
     "name": "stderr",
     "output_type": "stream",
     "text": [
      "INFO:tensorflow:Assets written to: ./Saved Models/bert_depression_model\\assets\n"
     ]
    }
   ],
   "source": [
    "#Save the model\n",
    "bert_depr_model.save('./Saved Models/bert_depression_model')"
   ]
  },
  {
   "cell_type": "code",
   "execution_count": 4,
   "id": "ae1f9b02-9488-4b94-bb23-80f65730f0a7",
   "metadata": {},
   "outputs": [],
   "source": [
    "#Load the model\n",
    "model = tf.keras.models.load_model('./Saved Models/bert_depression_model/')"
   ]
  },
  {
   "cell_type": "code",
   "execution_count": 35,
   "id": "8763b834-f3b1-4704-905d-0e5bd3fc2677",
   "metadata": {},
   "outputs": [],
   "source": [
    "#dataset for validation only with depression post\n",
    "val_text = pd.read_csv('../Data/ValidationText.csv')"
   ]
  },
  {
   "cell_type": "code",
   "execution_count": 49,
   "id": "673e91e1-8f3c-4662-bf3d-c5e6e0b223d0",
   "metadata": {},
   "outputs": [
    {
     "name": "stdout",
     "output_type": "stream",
     "text": [
      "*yeahhhh i wil go to the gym after 6 months pause*\n",
      "----------------------------------------------\n",
      "The risk probability of this text is: 0.3134517967700958\n"
     ]
    }
   ],
   "source": [
    "#Testing some exercise text\n",
    "\n",
    "text = \"yeahhhh i wil go to the gym after 6 months pause\"\n",
    "prob = model.predict([text])\n",
    "print('*' + text + '*')\n",
    "print('----------------------------------------------')\n",
    "print(f'The risk probability of this text is: {prob[0][0]}')"
   ]
  },
  {
   "cell_type": "code",
   "execution_count": 41,
   "id": "85023cfd-493d-49e2-8c5c-115c40f1ad6e",
   "metadata": {},
   "outputs": [
    {
     "name": "stdout",
     "output_type": "stream",
     "text": [
      "Depression is not something to be happy about. I hate the fact that everything I just said, is only a quarter of what I feel. Some people get excited when they're diagnosed with depression. 'Oh I'm going to tell my friends, maybe I'll get some sympathy .' No you stupid c***. It is the worst thing, that's why, when I was diagnosed with depression. I felt crazy. Because I'm not normal. I'm depressed, and pain lives in me, and I can't escape it. That's the sad thing. No one takes it seriously.\n",
      "-------------------------------------------------\n",
      "The risk probability of this text is: 1.0\n"
     ]
    }
   ],
   "source": [
    "#Testing the model how good will catch the risky posts\n",
    "prob = model.predict([val_text['Text'][3]])\n",
    "print(val_text['Text'][3])\n",
    "print('-------------------------------------------------')\n",
    "print(f'The risk probability of this text is: {prob[0][0]}')"
   ]
  },
  {
   "cell_type": "code",
   "execution_count": 65,
   "id": "1d0aa50b-99c4-4758-9a5f-3cb18e8aa6f0",
   "metadata": {},
   "outputs": [
    {
     "name": "stdout",
     "output_type": "stream",
     "text": [
      "I blame myself for everything bad that happens.\n",
      "-------------------------------------------------\n",
      "The risk probability of this text is: 1.0\n"
     ]
    }
   ],
   "source": [
    "prob = model.predict([val_text['Text'][3]])\n",
    "print(val_text['Text'][15])\n",
    "print('-------------------------------------------------')\n",
    "print(f'The risk probability of this text is: {prob[0][0]}')"
   ]
  },
  {
   "cell_type": "code",
   "execution_count": 61,
   "id": "3e1c87d7-ba4c-469a-9a9d-f8e876be7693",
   "metadata": {},
   "outputs": [
    {
     "data": {
      "text/plain": [
       "array([[9.9995518e-01],\n",
       "       [9.9999917e-01],\n",
       "       [4.0882826e-04],\n",
       "       ...,\n",
       "       [1.7619890e-01],\n",
       "       [9.2565924e-02],\n",
       "       [9.9998248e-01]], dtype=float32)"
      ]
     },
     "execution_count": 61,
     "metadata": {},
     "output_type": "execute_result"
    }
   ],
   "source": [
    "#Create predictions from model\n",
    "prediction = model.predict(X_test)\n",
    "prediction"
   ]
  },
  {
   "cell_type": "code",
   "execution_count": 64,
   "id": "d885d3cf-20bb-42d6-ba30-465d243db2e5",
   "metadata": {},
   "outputs": [],
   "source": [
    "#The output will be a probability from 0 to 1 (sigmoid function) so i will encode those 0 and 1 with a simple check as below\n",
    "prediction = [1 if x >= 0.5 else 0 for x in prediction]"
   ]
  },
  {
   "cell_type": "code",
   "execution_count": null,
   "id": "805c0272-9868-4547-bddb-7c34bc12eaec",
   "metadata": {},
   "outputs": [],
   "source": [
    "#Evaluate the model\n",
    "#model.evaluate(X_test, y_test)"
   ]
  },
  {
   "cell_type": "markdown",
   "id": "4212704a-a2db-4bf1-b4c6-0a205d788a4c",
   "metadata": {},
   "source": [
    "#### Model Performance on metrics"
   ]
  },
  {
   "cell_type": "code",
   "execution_count": 67,
   "id": "3dcbfd84-7fba-4e73-b8e1-d158ddf6fd9a",
   "metadata": {},
   "outputs": [
    {
     "name": "stdout",
     "output_type": "stream",
     "text": [
      "Accuracy: 0.975\n"
     ]
    }
   ],
   "source": [
    "#Accuracy Score\n",
    "print(f'Accuracy: {np.round(accuracy_score(y_test, prediction),3)}')"
   ]
  },
  {
   "cell_type": "code",
   "execution_count": 68,
   "id": "64ada1a4-36a2-4d1d-b10a-1951b71cfe68",
   "metadata": {},
   "outputs": [
    {
     "name": "stdout",
     "output_type": "stream",
     "text": [
      "Recall Score: 0.956\n"
     ]
    }
   ],
   "source": [
    "#Recall score which i'm more interested\n",
    "print(f'Recall Score: {np.round(recall_score(y_test, prediction),3)}')"
   ]
  },
  {
   "cell_type": "code",
   "execution_count": 69,
   "id": "6002886d-5336-4188-b572-c0533ff2e90f",
   "metadata": {},
   "outputs": [
    {
     "data": {
      "text/plain": [
       "array([[2266,   11],\n",
       "       [ 104, 2239]], dtype=int64)"
      ]
     },
     "execution_count": 69,
     "metadata": {},
     "output_type": "execute_result"
    }
   ],
   "source": [
    "#Checking how the confusion matrix looks like\n",
    "conf_matrix = confusion_matrix(y_test, prediction)\n",
    "conf_matrix"
   ]
  },
  {
   "cell_type": "code",
   "execution_count": 70,
   "id": "b9490780-e822-4d16-aaae-13f892c1437f",
   "metadata": {},
   "outputs": [],
   "source": [
    "#Getting those vales from confsion matrix\n",
    "tn, fp, fn, tp = conf_matrix.ravel()"
   ]
  },
  {
   "cell_type": "code",
   "execution_count": 80,
   "id": "e35ddb60-e400-4b13-8101-92b62ce19807",
   "metadata": {},
   "outputs": [
    {
     "data": {
      "image/png": "[encoded data removed]",
      "text/plain": [
       "<Figure size 864x504 with 2 Axes>"
      ]
     },
     "metadata": {
      "needs_background": "light"
     },
     "output_type": "display_data"
    }
   ],
   "source": [
    "#Plot the confusion matrix with a heatmap\n",
    "plt.figure(figsize=(12,7))\n",
    "plt.title('Model Depression Only Confusion Matrix', weight = 'bold', fontsize = 18)\n",
    "fig = sns.heatmap(conf_matrix, cmap = 'Blues', annot = True)\n",
    "fig.xaxis.set_ticklabels(['Risk', 'Not Risk'], fontsize = 14)\n",
    "fig.yaxis.set_ticklabels(['Risk', 'Not Risk'], fontsize = 14)\n",
    "plt.savefig('../Images/depression_conf_matrix');"
   ]
  },
  {
   "cell_type": "code",
   "execution_count": 72,
   "id": "0d6c4e2e-7461-4bca-8c90-4a2d623c95cb",
   "metadata": {},
   "outputs": [],
   "source": [
    "#Create a funtion to return te risky level based on probability of post\n",
    "def risk_assessment_prediction(text):\n",
    "    prob = model.predict([text])\n",
    "    prob = prob[0][0]\n",
    "    if prob >= 0.5 and prob < 0.75:\n",
    "        return f'This Post should be considered Risky (Probability is: {prob})'\n",
    "    elif prob >= 0.75 and prob < 0.9:\n",
    "        return f'This Post should be considered High Risky (Probability is: {prob})'\n",
    "    elif prob >= 0.9:\n",
    "        return f'Alert!. This Post has a high level of Risk (Probability is: {prob})'\n",
    "    elif prob < 0.2:\n",
    "        return  f'This Post should has no signs of Risk (Probability is: {prob})'\n",
    "    elif prob >= 0.2 and prob < 0.5:\n",
    "        return f'This Post should not be considered as Risky (Probability is: {prob})'"
   ]
  },
  {
   "cell_type": "markdown",
   "id": "125a3572-6022-4133-8bee-c32d0b1d1115",
   "metadata": {},
   "source": [
    "#### Checking the function and model"
   ]
  },
  {
   "cell_type": "code",
   "execution_count": null,
   "id": "0368b729-11ae-46f1-a65a-a9926fe51e04",
   "metadata": {},
   "outputs": [],
   "source": [
    "risk_assessment_prediction('I feel good')"
   ]
  },
  {
   "cell_type": "code",
   "execution_count": 74,
   "id": "4479a667-af91-4bda-9c2f-040f0f671fea",
   "metadata": {},
   "outputs": [
    {
     "data": {
      "text/plain": [
       "'Alert!. This Post has a high level of Risk (Probability is: 0.9999972581863403)'"
      ]
     },
     "execution_count": 74,
     "metadata": {},
     "output_type": "execute_result"
    }
   ],
   "source": [
    "risk_assessment_prediction(\"ohh god i feel so bad, i can't live like this\")"
   ]
  },
  {
   "cell_type": "code",
   "execution_count": null,
   "id": "ad23896b-de0f-4545-82a5-64d2761666aa",
   "metadata": {},
   "outputs": [],
   "source": []
  },
  {
   "cell_type": "code",
   "execution_count": null,
   "id": "792ddfc1-3643-4903-8df8-cdf567771f26",
   "metadata": {},
   "outputs": [],
   "source": []
  },
  {
   "cell_type": "code",
   "execution_count": null,
   "id": "8dcd893d-828e-4b4f-883e-98abed283991",
   "metadata": {},
   "outputs": [],
   "source": []
  },
  {
   "cell_type": "code",
   "execution_count": null,
   "id": "0b6eb2e2-19ea-4e74-a230-d3a29aa24f16",
   "metadata": {},
   "outputs": [],
   "source": []
  },
  {
   "cell_type": "code",
   "execution_count": null,
   "id": "c92eaacc-1855-4050-b149-b9042f2cb08a",
   "metadata": {},
   "outputs": [],
   "source": []
  }
 ],
 "metadata": {
  "kernelspec": {
   "display_name": "Python [conda env:tensorflow]",
   "language": "python",
   "name": "conda-env-tensorflow-py"
  },
  "language_info": {
   "codemirror_mode": {
    "name": "ipython",
    "version": 3
   },
   "file_extension": ".py",
   "mimetype": "text/x-python",
   "name": "python",
   "nbconvert_exporter": "python",
   "pygments_lexer": "ipython3",
   "version": "3.9.11"
  }
 },
 "nbformat": 4,
 "nbformat_minor": 5
}
