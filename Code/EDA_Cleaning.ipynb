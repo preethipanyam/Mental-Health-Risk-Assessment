{
 "cells": [
  {
   "cell_type": "code",
   "execution_count": 1,
   "id": "41ec6e77-0328-449d-bb9b-a2137273572f",
   "metadata": {},
   "outputs": [],
   "source": [
    "import pandas as pd\n",
    "import numpy as np\n",
    "import matplotlib.pyplot as plt\n",
    "%matplotlib inline\n",
    "import seaborn as sns\n",
    "\n",
    "import datetime\n",
    "pd.options.display.max_colwidth = 200\n",
    "\n",
    "import warnings\n",
    "warnings.simplefilter(\"ignore\")\n",
    "\n",
    "import re"
   ]
  },
  {
   "cell_type": "code",
   "execution_count": 2,
   "id": "86ddca49-dc3d-439b-aa6e-9ad307637da1",
   "metadata": {},
   "outputs": [],
   "source": [
    "#Import the data\n",
    "\n",
    "depresssion_df = pd.read_csv('../Data/Raw CSV File/depression_category.csv')\n",
    "exercise_df = pd.read_csv('../Data/Raw CSV File/exercise_category.csv')\n",
    "happy_df = pd.read_csv('../Data/Raw CSV File/happy.csv')\n",
    "suicide_df = pd.read_csv('../Data/Raw CSV File/suicidewatch.csv')\n",
    "twitter_depression = pd.read_csv('../Data/Raw CSV File/Twiter_depression.csv')"
   ]
  },
  {
   "cell_type": "code",
   "execution_count": 3,
   "id": "4ad2e09d-844d-4640-8667-79f7f21fdb2b",
   "metadata": {},
   "outputs": [
    {
     "data": {
      "text/html": [
       "<div>\n",
       "<style scoped>\n",
       "    .dataframe tbody tr th:only-of-type {\n",
       "        vertical-align: middle;\n",
       "    }\n",
       "\n",
       "    .dataframe tbody tr th {\n",
       "        vertical-align: top;\n",
       "    }\n",
       "\n",
       "    .dataframe thead th {\n",
       "        text-align: right;\n",
       "    }\n",
       "</style>\n",
       "<table border=\"1\" class=\"dataframe\">\n",
       "  <thead>\n",
       "    <tr style=\"text-align: right;\">\n",
       "      <th></th>\n",
       "      <th>subreddit</th>\n",
       "      <th>title</th>\n",
       "      <th>self_text</th>\n",
       "      <th>author</th>\n",
       "      <th>domain</th>\n",
       "      <th>timecreated</th>\n",
       "    </tr>\n",
       "  </thead>\n",
       "  <tbody>\n",
       "    <tr>\n",
       "      <th>0</th>\n",
       "      <td>depression</td>\n",
       "      <td>Are depression meds worth it</td>\n",
       "      <td>Does anyone here take meds for their depression? If so is it worth it?\\r\\n\\r\\nI’ve seen some pretty nasty statistics/side effects saying people taking depression meds can have increased thoughts o...</td>\n",
       "      <td>Odd-Creme-8819</td>\n",
       "      <td>self.depression</td>\n",
       "      <td>1650064188</td>\n",
       "    </tr>\n",
       "    <tr>\n",
       "      <th>1</th>\n",
       "      <td>depression</td>\n",
       "      <td>I am pissing my life away and feel powerless to change it</td>\n",
       "      <td>I am almost 25, no hope of a girlfriend or wife, no social life, suck at my job, just pissing away time. I will probably be in the same boat at 30. If you don't fix yourself by 20 it's over</td>\n",
       "      <td>NihilisticDaydreamin</td>\n",
       "      <td>self.depression</td>\n",
       "      <td>1650064158</td>\n",
       "    </tr>\n",
       "    <tr>\n",
       "      <th>2</th>\n",
       "      <td>depression</td>\n",
       "      <td>I can't do this anymore.</td>\n",
       "      <td>I can't do this anymore. I can't do this anymore. I can't do this anymore. I can't do this anymore. I can't do this anymore. I can't do this anymore. I can't do this anymore. I can't do this anymo...</td>\n",
       "      <td>0fuckthislife0</td>\n",
       "      <td>self.depression</td>\n",
       "      <td>1650063958</td>\n",
       "    </tr>\n",
       "    <tr>\n",
       "      <th>3</th>\n",
       "      <td>depression</td>\n",
       "      <td>I think about hanging myself everyday before bed</td>\n",
       "      <td>I’m depressed but I have no intention of killing myself. I have problems but I am very grateful of my situation compared to my extended family. I write this as I am in bed and I just wonder why do...</td>\n",
       "      <td>albataineh</td>\n",
       "      <td>self.depression</td>\n",
       "      <td>1650063857</td>\n",
       "    </tr>\n",
       "    <tr>\n",
       "      <th>4</th>\n",
       "      <td>depression</td>\n",
       "      <td>I need to vent yall</td>\n",
       "      <td>Ight so heres the thing as far back as i can remember ive always been somewhat depressed. And im not the type who uses this term lightly so when i mean depressed i dont mean sad. My mom always sai...</td>\n",
       "      <td>Basic-Toe-9979</td>\n",
       "      <td>self.depression</td>\n",
       "      <td>1650063745</td>\n",
       "    </tr>\n",
       "  </tbody>\n",
       "</table>\n",
       "</div>"
      ],
      "text/plain": [
       "    subreddit                                                      title  \\\n",
       "0  depression                               Are depression meds worth it   \n",
       "1  depression  I am pissing my life away and feel powerless to change it   \n",
       "2  depression                                   I can't do this anymore.   \n",
       "3  depression           I think about hanging myself everyday before bed   \n",
       "4  depression                                        I need to vent yall   \n",
       "\n",
       "                                                                                                                                                                                                 self_text  \\\n",
       "0  Does anyone here take meds for their depression? If so is it worth it?\\r\\n\\r\\nI’ve seen some pretty nasty statistics/side effects saying people taking depression meds can have increased thoughts o...   \n",
       "1            I am almost 25, no hope of a girlfriend or wife, no social life, suck at my job, just pissing away time. I will probably be in the same boat at 30. If you don't fix yourself by 20 it's over   \n",
       "2  I can't do this anymore. I can't do this anymore. I can't do this anymore. I can't do this anymore. I can't do this anymore. I can't do this anymore. I can't do this anymore. I can't do this anymo...   \n",
       "3  I’m depressed but I have no intention of killing myself. I have problems but I am very grateful of my situation compared to my extended family. I write this as I am in bed and I just wonder why do...   \n",
       "4  Ight so heres the thing as far back as i can remember ive always been somewhat depressed. And im not the type who uses this term lightly so when i mean depressed i dont mean sad. My mom always sai...   \n",
       "\n",
       "                 author           domain  timecreated  \n",
       "0        Odd-Creme-8819  self.depression   1650064188  \n",
       "1  NihilisticDaydreamin  self.depression   1650064158  \n",
       "2        0fuckthislife0  self.depression   1650063958  \n",
       "3            albataineh  self.depression   1650063857  \n",
       "4        Basic-Toe-9979  self.depression   1650063745  "
      ]
     },
     "execution_count": 3,
     "metadata": {},
     "output_type": "execute_result"
    }
   ],
   "source": [
    "#Check Each Data top 5 rows\n",
    "\n",
    "depresssion_df.head()"
   ]
  },
  {
   "cell_type": "code",
   "execution_count": 4,
   "id": "00bfc2f5-b004-4133-9d15-80bab88e1f6f",
   "metadata": {},
   "outputs": [
    {
     "data": {
      "text/html": [
       "<div>\n",
       "<style scoped>\n",
       "    .dataframe tbody tr th:only-of-type {\n",
       "        vertical-align: middle;\n",
       "    }\n",
       "\n",
       "    .dataframe tbody tr th {\n",
       "        vertical-align: top;\n",
       "    }\n",
       "\n",
       "    .dataframe thead th {\n",
       "        text-align: right;\n",
       "    }\n",
       "</style>\n",
       "<table border=\"1\" class=\"dataframe\">\n",
       "  <thead>\n",
       "    <tr style=\"text-align: right;\">\n",
       "      <th></th>\n",
       "      <th>subreddit</th>\n",
       "      <th>title</th>\n",
       "      <th>self_text</th>\n",
       "      <th>author</th>\n",
       "      <th>domain</th>\n",
       "      <th>timecreated</th>\n",
       "    </tr>\n",
       "  </thead>\n",
       "  <tbody>\n",
       "    <tr>\n",
       "      <th>0</th>\n",
       "      <td>Exercise</td>\n",
       "      <td>☀️☀️☀️</td>\n",
       "      <td>NaN</td>\n",
       "      <td>empyreandreams</td>\n",
       "      <td>i.redd.it</td>\n",
       "      <td>1649015190</td>\n",
       "    </tr>\n",
       "    <tr>\n",
       "      <th>1</th>\n",
       "      <td>Exercise</td>\n",
       "      <td>🏃🏃🏃</td>\n",
       "      <td>NaN</td>\n",
       "      <td>empyreandreams</td>\n",
       "      <td>i.redd.it</td>\n",
       "      <td>1648832140</td>\n",
       "    </tr>\n",
       "    <tr>\n",
       "      <th>2</th>\n",
       "      <td>Exercise</td>\n",
       "      <td>💪🙏</td>\n",
       "      <td>NaN</td>\n",
       "      <td>empyreandreams</td>\n",
       "      <td>i.redd.it</td>\n",
       "      <td>1647628891</td>\n",
       "    </tr>\n",
       "    <tr>\n",
       "      <th>3</th>\n",
       "      <td>Exercise</td>\n",
       "      <td>No Time to Lift? Designing Time-Efficient Training Programs for Strength and Hypertrophy: A Narrative Review</td>\n",
       "      <td>NaN</td>\n",
       "      <td>empyreandreams</td>\n",
       "      <td>ncbi.nlm.nih.gov</td>\n",
       "      <td>1645033351</td>\n",
       "    </tr>\n",
       "    <tr>\n",
       "      <th>4</th>\n",
       "      <td>Exercise</td>\n",
       "      <td>Scientists have found that switching from a life of inactivity to one involving 20 minutes of running, cycling or other ‘moderate to vigorous’ exercise a day, as late as 70, reduces the risk of he...</td>\n",
       "      <td>NaN</td>\n",
       "      <td>empyreandreams</td>\n",
       "      <td>eurekalert.org</td>\n",
       "      <td>1644953041</td>\n",
       "    </tr>\n",
       "  </tbody>\n",
       "</table>\n",
       "</div>"
      ],
      "text/plain": [
       "  subreddit  \\\n",
       "0  Exercise   \n",
       "1  Exercise   \n",
       "2  Exercise   \n",
       "3  Exercise   \n",
       "4  Exercise   \n",
       "\n",
       "                                                                                                                                                                                                     title  \\\n",
       "0                                                                                                                                                                                                   ☀️☀️☀️   \n",
       "1                                                                                                                                                                                                      🏃🏃🏃   \n",
       "2                                                                                                                                                                                                       💪🙏   \n",
       "3                                                                                             No Time to Lift? Designing Time-Efficient Training Programs for Strength and Hypertrophy: A Narrative Review   \n",
       "4  Scientists have found that switching from a life of inactivity to one involving 20 minutes of running, cycling or other ‘moderate to vigorous’ exercise a day, as late as 70, reduces the risk of he...   \n",
       "\n",
       "  self_text          author            domain  timecreated  \n",
       "0       NaN  empyreandreams         i.redd.it   1649015190  \n",
       "1       NaN  empyreandreams         i.redd.it   1648832140  \n",
       "2       NaN  empyreandreams         i.redd.it   1647628891  \n",
       "3       NaN  empyreandreams  ncbi.nlm.nih.gov   1645033351  \n",
       "4       NaN  empyreandreams    eurekalert.org   1644953041  "
      ]
     },
     "execution_count": 4,
     "metadata": {},
     "output_type": "execute_result"
    }
   ],
   "source": [
    "exercise_df.head()"
   ]
  },
  {
   "cell_type": "code",
   "execution_count": 5,
   "id": "6103bc77-ab0c-4fd1-ae05-edcb33860eb6",
   "metadata": {},
   "outputs": [
    {
     "data": {
      "text/plain": [
       "0"
      ]
     },
     "execution_count": 5,
     "metadata": {},
     "output_type": "execute_result"
    }
   ],
   "source": [
    "depresssion_df.isnull().sum().sum()"
   ]
  },
  {
   "cell_type": "code",
   "execution_count": 6,
   "id": "a305b34d-6893-45aa-a51d-c897402223cb",
   "metadata": {},
   "outputs": [
    {
     "data": {
      "text/plain": [
       "subreddit         0\n",
       "title             0\n",
       "self_text      4951\n",
       "author            0\n",
       "domain            0\n",
       "timecreated       0\n",
       "dtype: int64"
      ]
     },
     "execution_count": 6,
     "metadata": {},
     "output_type": "execute_result"
    }
   ],
   "source": [
    "exercise_df.isnull().sum()"
   ]
  },
  {
   "cell_type": "code",
   "execution_count": 7,
   "id": "6d951f15-dafb-442a-8619-ced5d25f4dd5",
   "metadata": {},
   "outputs": [
    {
     "data": {
      "text/plain": [
       "457"
      ]
     },
     "execution_count": 7,
     "metadata": {},
     "output_type": "execute_result"
    }
   ],
   "source": [
    "depresssion_df[depresssion_df.duplicated(subset='title') == True].shape[0]"
   ]
  },
  {
   "cell_type": "code",
   "execution_count": 8,
   "id": "c9632384-8e0d-423a-a4af-1d25c49e1f8d",
   "metadata": {},
   "outputs": [
    {
     "data": {
      "text/plain": [
       "337"
      ]
     },
     "execution_count": 8,
     "metadata": {},
     "output_type": "execute_result"
    }
   ],
   "source": [
    "exercise_df[exercise_df.duplicated(subset='title') == True].shape[0]"
   ]
  },
  {
   "cell_type": "code",
   "execution_count": 9,
   "id": "1530fad9-ef6e-4fd8-9c79-21c67365df62",
   "metadata": {},
   "outputs": [
    {
     "data": {
      "text/html": [
       "<div>\n",
       "<style scoped>\n",
       "    .dataframe tbody tr th:only-of-type {\n",
       "        vertical-align: middle;\n",
       "    }\n",
       "\n",
       "    .dataframe tbody tr th {\n",
       "        vertical-align: top;\n",
       "    }\n",
       "\n",
       "    .dataframe thead th {\n",
       "        text-align: right;\n",
       "    }\n",
       "</style>\n",
       "<table border=\"1\" class=\"dataframe\">\n",
       "  <thead>\n",
       "    <tr style=\"text-align: right;\">\n",
       "      <th></th>\n",
       "      <th>subreddit</th>\n",
       "      <th>title</th>\n",
       "      <th>selftext</th>\n",
       "      <th>author</th>\n",
       "      <th>domain</th>\n",
       "      <th>created_utc</th>\n",
       "    </tr>\n",
       "  </thead>\n",
       "  <tbody>\n",
       "    <tr>\n",
       "      <th>0</th>\n",
       "      <td>suicidewatch</td>\n",
       "      <td>attempted yesterday</td>\n",
       "      <td>i had an exit yesterday and i went for it. unfortunately there was some noise involved and a neighbor found me. now I'm under supervision at home. i know they leave on wednesday and i have everyth...</td>\n",
       "      <td>_AbstractInsanity</td>\n",
       "      <td>self.SuicideWatch</td>\n",
       "      <td>1639318886</td>\n",
       "    </tr>\n",
       "    <tr>\n",
       "      <th>1</th>\n",
       "      <td>suicidewatch</td>\n",
       "      <td>My bf of 2 years just tried to hang himself last night</td>\n",
       "      <td>Can someone give me some advice as to how I can make him feel better?</td>\n",
       "      <td>maxortheblade</td>\n",
       "      <td>self.SuicideWatch</td>\n",
       "      <td>1639318420</td>\n",
       "    </tr>\n",
       "    <tr>\n",
       "      <th>2</th>\n",
       "      <td>suicidewatch</td>\n",
       "      <td>He gave up because of me.</td>\n",
       "      <td>We have shared many great memories but the emotional turmoil was too much for me to endure and I had to let him go. However he has made it clear he can’t live without me and I will forever blame m...</td>\n",
       "      <td>depressed-wowie</td>\n",
       "      <td>self.SuicideWatch</td>\n",
       "      <td>1639318347</td>\n",
       "    </tr>\n",
       "    <tr>\n",
       "      <th>3</th>\n",
       "      <td>suicidewatch</td>\n",
       "      <td>Running out of options</td>\n",
       "      <td>Does anyone have any coping mechanisms you use to get through the day? I only have one, and cutting my wrists to shreds isn't exactly a healthy coping mechanism.</td>\n",
       "      <td>Kaitlyn-Wofford</td>\n",
       "      <td>self.SuicideWatch</td>\n",
       "      <td>1639318095</td>\n",
       "    </tr>\n",
       "    <tr>\n",
       "      <th>4</th>\n",
       "      <td>suicidewatch</td>\n",
       "      <td>My life is shit. I feel like shit .. I hate myself</td>\n",
       "      <td>My life has never been perfect. From the outside it may seem like it but inside I hate myself soooooooo much.. I’m so insecure.. I hate my body I hate my face. I’ve always hated myself ALWAYS.. Th...</td>\n",
       "      <td>irrationalthinkerx0</td>\n",
       "      <td>self.SuicideWatch</td>\n",
       "      <td>1639317692</td>\n",
       "    </tr>\n",
       "  </tbody>\n",
       "</table>\n",
       "</div>"
      ],
      "text/plain": [
       "      subreddit                                                   title  \\\n",
       "0  suicidewatch                                     attempted yesterday   \n",
       "1  suicidewatch  My bf of 2 years just tried to hang himself last night   \n",
       "2  suicidewatch                               He gave up because of me.   \n",
       "3  suicidewatch                                  Running out of options   \n",
       "4  suicidewatch      My life is shit. I feel like shit .. I hate myself   \n",
       "\n",
       "                                                                                                                                                                                                  selftext  \\\n",
       "0  i had an exit yesterday and i went for it. unfortunately there was some noise involved and a neighbor found me. now I'm under supervision at home. i know they leave on wednesday and i have everyth...   \n",
       "1                                                                                                                                    Can someone give me some advice as to how I can make him feel better?   \n",
       "2  We have shared many great memories but the emotional turmoil was too much for me to endure and I had to let him go. However he has made it clear he can’t live without me and I will forever blame m...   \n",
       "3                                        Does anyone have any coping mechanisms you use to get through the day? I only have one, and cutting my wrists to shreds isn't exactly a healthy coping mechanism.   \n",
       "4  My life has never been perfect. From the outside it may seem like it but inside I hate myself soooooooo much.. I’m so insecure.. I hate my body I hate my face. I’ve always hated myself ALWAYS.. Th...   \n",
       "\n",
       "                author             domain  created_utc  \n",
       "0    _AbstractInsanity  self.SuicideWatch   1639318886  \n",
       "1        maxortheblade  self.SuicideWatch   1639318420  \n",
       "2      depressed-wowie  self.SuicideWatch   1639318347  \n",
       "3      Kaitlyn-Wofford  self.SuicideWatch   1639318095  \n",
       "4  irrationalthinkerx0  self.SuicideWatch   1639317692  "
      ]
     },
     "execution_count": 9,
     "metadata": {},
     "output_type": "execute_result"
    }
   ],
   "source": [
    "suicide_df.head()"
   ]
  },
  {
   "cell_type": "code",
   "execution_count": 10,
   "id": "0982389f-6262-4a48-8447-6cd606f33540",
   "metadata": {},
   "outputs": [
    {
     "data": {
      "text/html": [
       "<div>\n",
       "<style scoped>\n",
       "    .dataframe tbody tr th:only-of-type {\n",
       "        vertical-align: middle;\n",
       "    }\n",
       "\n",
       "    .dataframe tbody tr th {\n",
       "        vertical-align: top;\n",
       "    }\n",
       "\n",
       "    .dataframe thead th {\n",
       "        text-align: right;\n",
       "    }\n",
       "</style>\n",
       "<table border=\"1\" class=\"dataframe\">\n",
       "  <thead>\n",
       "    <tr style=\"text-align: right;\">\n",
       "      <th></th>\n",
       "      <th>subreddit</th>\n",
       "      <th>title</th>\n",
       "      <th>self_text</th>\n",
       "      <th>author</th>\n",
       "      <th>domain</th>\n",
       "      <th>timecreated</th>\n",
       "    </tr>\n",
       "  </thead>\n",
       "  <tbody>\n",
       "    <tr>\n",
       "      <th>0</th>\n",
       "      <td>Exercise</td>\n",
       "      <td>☀️☀️☀️</td>\n",
       "      <td>NaN</td>\n",
       "      <td>empyreandreams</td>\n",
       "      <td>i.redd.it</td>\n",
       "      <td>1649015190</td>\n",
       "    </tr>\n",
       "    <tr>\n",
       "      <th>1</th>\n",
       "      <td>Exercise</td>\n",
       "      <td>🏃🏃🏃</td>\n",
       "      <td>NaN</td>\n",
       "      <td>empyreandreams</td>\n",
       "      <td>i.redd.it</td>\n",
       "      <td>1648832140</td>\n",
       "    </tr>\n",
       "    <tr>\n",
       "      <th>2</th>\n",
       "      <td>Exercise</td>\n",
       "      <td>💪🙏</td>\n",
       "      <td>NaN</td>\n",
       "      <td>empyreandreams</td>\n",
       "      <td>i.redd.it</td>\n",
       "      <td>1647628891</td>\n",
       "    </tr>\n",
       "    <tr>\n",
       "      <th>3</th>\n",
       "      <td>Exercise</td>\n",
       "      <td>No Time to Lift? Designing Time-Efficient Training Programs for Strength and Hypertrophy: A Narrative Review</td>\n",
       "      <td>NaN</td>\n",
       "      <td>empyreandreams</td>\n",
       "      <td>ncbi.nlm.nih.gov</td>\n",
       "      <td>1645033351</td>\n",
       "    </tr>\n",
       "    <tr>\n",
       "      <th>4</th>\n",
       "      <td>Exercise</td>\n",
       "      <td>Scientists have found that switching from a life of inactivity to one involving 20 minutes of running, cycling or other ‘moderate to vigorous’ exercise a day, as late as 70, reduces the risk of he...</td>\n",
       "      <td>NaN</td>\n",
       "      <td>empyreandreams</td>\n",
       "      <td>eurekalert.org</td>\n",
       "      <td>1644953041</td>\n",
       "    </tr>\n",
       "  </tbody>\n",
       "</table>\n",
       "</div>"
      ],
      "text/plain": [
       "  subreddit  \\\n",
       "0  Exercise   \n",
       "1  Exercise   \n",
       "2  Exercise   \n",
       "3  Exercise   \n",
       "4  Exercise   \n",
       "\n",
       "                                                                                                                                                                                                     title  \\\n",
       "0                                                                                                                                                                                                   ☀️☀️☀️   \n",
       "1                                                                                                                                                                                                      🏃🏃🏃   \n",
       "2                                                                                                                                                                                                       💪🙏   \n",
       "3                                                                                             No Time to Lift? Designing Time-Efficient Training Programs for Strength and Hypertrophy: A Narrative Review   \n",
       "4  Scientists have found that switching from a life of inactivity to one involving 20 minutes of running, cycling or other ‘moderate to vigorous’ exercise a day, as late as 70, reduces the risk of he...   \n",
       "\n",
       "  self_text          author            domain  timecreated  \n",
       "0       NaN  empyreandreams         i.redd.it   1649015190  \n",
       "1       NaN  empyreandreams         i.redd.it   1648832140  \n",
       "2       NaN  empyreandreams         i.redd.it   1647628891  \n",
       "3       NaN  empyreandreams  ncbi.nlm.nih.gov   1645033351  \n",
       "4       NaN  empyreandreams    eurekalert.org   1644953041  "
      ]
     },
     "execution_count": 10,
     "metadata": {},
     "output_type": "execute_result"
    }
   ],
   "source": [
    "exercise_df.head()"
   ]
  },
  {
   "cell_type": "code",
   "execution_count": 11,
   "id": "bf2a7cff-c0e5-49c7-990b-ea463c6dd390",
   "metadata": {},
   "outputs": [
    {
     "data": {
      "text/html": [
       "<div>\n",
       "<style scoped>\n",
       "    .dataframe tbody tr th:only-of-type {\n",
       "        vertical-align: middle;\n",
       "    }\n",
       "\n",
       "    .dataframe tbody tr th {\n",
       "        vertical-align: top;\n",
       "    }\n",
       "\n",
       "    .dataframe thead th {\n",
       "        text-align: right;\n",
       "    }\n",
       "</style>\n",
       "<table border=\"1\" class=\"dataframe\">\n",
       "  <thead>\n",
       "    <tr style=\"text-align: right;\">\n",
       "      <th></th>\n",
       "      <th>subreddit</th>\n",
       "      <th>title</th>\n",
       "      <th>selftext</th>\n",
       "      <th>author</th>\n",
       "      <th>domain</th>\n",
       "      <th>created_utc</th>\n",
       "    </tr>\n",
       "  </thead>\n",
       "  <tbody>\n",
       "    <tr>\n",
       "      <th>0</th>\n",
       "      <td>happy</td>\n",
       "      <td>Happy April Fools Day</td>\n",
       "      <td>NaN</td>\n",
       "      <td>pottersheadforever</td>\n",
       "      <td>instagram.com</td>\n",
       "      <td>1554088425</td>\n",
       "    </tr>\n",
       "    <tr>\n",
       "      <th>1</th>\n",
       "      <td>happy</td>\n",
       "      <td>Me and my girlfriend went parasailing and it was really fun. First long term relationship I've ever had</td>\n",
       "      <td>NaN</td>\n",
       "      <td>gryffindorwannabe</td>\n",
       "      <td>i.redd.it</td>\n",
       "      <td>1554086198</td>\n",
       "    </tr>\n",
       "    <tr>\n",
       "      <th>2</th>\n",
       "      <td>happy</td>\n",
       "      <td>I was in a really dark place for many years. I wrote this while tracking my moods in January 2018. I came across this entry while going through my old phone and I can happily say this is exactly w...</td>\n",
       "      <td>NaN</td>\n",
       "      <td>LunaRose108</td>\n",
       "      <td>i.redd.it</td>\n",
       "      <td>1554082821</td>\n",
       "    </tr>\n",
       "    <tr>\n",
       "      <th>3</th>\n",
       "      <td>happy</td>\n",
       "      <td>My fiancée and our dog always nap together on weekends. I love my family.</td>\n",
       "      <td>NaN</td>\n",
       "      <td>c_zim</td>\n",
       "      <td>i.imgur.com</td>\n",
       "      <td>1554079986</td>\n",
       "    </tr>\n",
       "    <tr>\n",
       "      <th>4</th>\n",
       "      <td>happy</td>\n",
       "      <td>Six years ago I wanted to die, I’m now living my actual dream life.</td>\n",
       "      <td>I’m married, own a house and a car from this decade. We have a puppy. We’re happy. \\r\\nI’m getting back into my hobbies. Like...what even?!?!\\r\\n\\r\\nI have bad days still. absolutely. But nothing ...</td>\n",
       "      <td>brndnw4lf</td>\n",
       "      <td>self.happy</td>\n",
       "      <td>1554079475</td>\n",
       "    </tr>\n",
       "  </tbody>\n",
       "</table>\n",
       "</div>"
      ],
      "text/plain": [
       "  subreddit  \\\n",
       "0     happy   \n",
       "1     happy   \n",
       "2     happy   \n",
       "3     happy   \n",
       "4     happy   \n",
       "\n",
       "                                                                                                                                                                                                     title  \\\n",
       "0                                                                                                                                                                                    Happy April Fools Day   \n",
       "1                                                                                                  Me and my girlfriend went parasailing and it was really fun. First long term relationship I've ever had   \n",
       "2  I was in a really dark place for many years. I wrote this while tracking my moods in January 2018. I came across this entry while going through my old phone and I can happily say this is exactly w...   \n",
       "3                                                                                                                                My fiancée and our dog always nap together on weekends. I love my family.   \n",
       "4                                                                                                                                      Six years ago I wanted to die, I’m now living my actual dream life.   \n",
       "\n",
       "                                                                                                                                                                                                  selftext  \\\n",
       "0                                                                                                                                                                                                      NaN   \n",
       "1                                                                                                                                                                                                      NaN   \n",
       "2                                                                                                                                                                                                      NaN   \n",
       "3                                                                                                                                                                                                      NaN   \n",
       "4  I’m married, own a house and a car from this decade. We have a puppy. We’re happy. \\r\\nI’m getting back into my hobbies. Like...what even?!?!\\r\\n\\r\\nI have bad days still. absolutely. But nothing ...   \n",
       "\n",
       "               author         domain  created_utc  \n",
       "0  pottersheadforever  instagram.com   1554088425  \n",
       "1   gryffindorwannabe      i.redd.it   1554086198  \n",
       "2         LunaRose108      i.redd.it   1554082821  \n",
       "3               c_zim    i.imgur.com   1554079986  \n",
       "4           brndnw4lf     self.happy   1554079475  "
      ]
     },
     "execution_count": 11,
     "metadata": {},
     "output_type": "execute_result"
    }
   ],
   "source": [
    "happy_df.head()"
   ]
  },
  {
   "cell_type": "code",
   "execution_count": 12,
   "id": "28c92e41-01c8-4acf-ba72-23772c724737",
   "metadata": {},
   "outputs": [],
   "source": [
    "happy_df.rename(columns={'selftext': 'self_text'}, inplace = True)\n",
    "suicide_df.rename(columns={'selftext': 'self_text'}, inplace = True)"
   ]
  },
  {
   "cell_type": "code",
   "execution_count": 13,
   "id": "2cf3e8bf-8177-429a-aeeb-9f6830913ca1",
   "metadata": {},
   "outputs": [
    {
     "data": {
      "text/html": [
       "<div>\n",
       "<style scoped>\n",
       "    .dataframe tbody tr th:only-of-type {\n",
       "        vertical-align: middle;\n",
       "    }\n",
       "\n",
       "    .dataframe tbody tr th {\n",
       "        vertical-align: top;\n",
       "    }\n",
       "\n",
       "    .dataframe thead th {\n",
       "        text-align: right;\n",
       "    }\n",
       "</style>\n",
       "<table border=\"1\" class=\"dataframe\">\n",
       "  <thead>\n",
       "    <tr style=\"text-align: right;\">\n",
       "      <th></th>\n",
       "      <th>Tweets</th>\n",
       "      <th>Class</th>\n",
       "    </tr>\n",
       "  </thead>\n",
       "  <tbody>\n",
       "    <tr>\n",
       "      <th>0</th>\n",
       "      <td>#Depression continues to be a major health issue. There are many ways to treat depression. Antidepressants and psychotherapy are the usual first-line treatments, but research has suggested that a ...</td>\n",
       "      <td>Depression</td>\n",
       "    </tr>\n",
       "    <tr>\n",
       "      <th>1</th>\n",
       "      <td>Read some of the recommendations from the Commission for the general community here before the event! \\n#UniteAgainstDepression #Depression #GlobalMentalHealth\\nhttps://t.co/Qmy4XWCTqx https://t.c...</td>\n",
       "      <td>Depression</td>\n",
       "    </tr>\n",
       "    <tr>\n",
       "      <th>2</th>\n",
       "      <td>❤️‍🩹 Moving On After a Relationship Break-Up 💔\\n\\nLink to full article: https://t.co/S2kHuoycGN…\\n\\n🌍 https://t.co/iNEvnmcvnq\\n☎️ 03453192666\\n📧 clinic@hypnotherapyandnlp.co.uk\\n\\n#therapy #help #...</td>\n",
       "      <td>Depression</td>\n",
       "    </tr>\n",
       "    <tr>\n",
       "      <th>3</th>\n",
       "      <td>Panel says children should be screened earlier for #anxiety and #depression. https://t.co/niWlLwxUT6</td>\n",
       "      <td>Depression</td>\n",
       "    </tr>\n",
       "    <tr>\n",
       "      <th>4</th>\n",
       "      <td>Happy happy Wednesday everybody have a awesome 😎 day @AllieCowley6 @TXTransplant45 @ChiMissingCases @ElaineEmmerick @GaryHow08605462 @BillyBo58678428 #PTSD #CPTSD #anxiety #panicattack #depression...</td>\n",
       "      <td>Depression</td>\n",
       "    </tr>\n",
       "  </tbody>\n",
       "</table>\n",
       "</div>"
      ],
      "text/plain": [
       "                                                                                                                                                                                                    Tweets  \\\n",
       "0  #Depression continues to be a major health issue. There are many ways to treat depression. Antidepressants and psychotherapy are the usual first-line treatments, but research has suggested that a ...   \n",
       "1  Read some of the recommendations from the Commission for the general community here before the event! \\n#UniteAgainstDepression #Depression #GlobalMentalHealth\\nhttps://t.co/Qmy4XWCTqx https://t.c...   \n",
       "2  ❤️‍🩹 Moving On After a Relationship Break-Up 💔\\n\\nLink to full article: https://t.co/S2kHuoycGN…\\n\\n🌍 https://t.co/iNEvnmcvnq\\n☎️ 03453192666\\n📧 clinic@hypnotherapyandnlp.co.uk\\n\\n#therapy #help #...   \n",
       "3                                                                                                     Panel says children should be screened earlier for #anxiety and #depression. https://t.co/niWlLwxUT6   \n",
       "4  Happy happy Wednesday everybody have a awesome 😎 day @AllieCowley6 @TXTransplant45 @ChiMissingCases @ElaineEmmerick @GaryHow08605462 @BillyBo58678428 #PTSD #CPTSD #anxiety #panicattack #depression...   \n",
       "\n",
       "        Class  \n",
       "0  Depression  \n",
       "1  Depression  \n",
       "2  Depression  \n",
       "3  Depression  \n",
       "4  Depression  "
      ]
     },
     "execution_count": 13,
     "metadata": {},
     "output_type": "execute_result"
    }
   ],
   "source": [
    "#Check the twitter data\n",
    "twitter_depression.head()"
   ]
  },
  {
   "cell_type": "code",
   "execution_count": 14,
   "id": "7c117874-03c1-4cea-88ca-da54c865359f",
   "metadata": {},
   "outputs": [
    {
     "name": "stdout",
     "output_type": "stream",
     "text": [
      "<class 'pandas.core.frame.DataFrame'>\n",
      "RangeIndex: 5000 entries, 0 to 4999\n",
      "Data columns (total 2 columns):\n",
      " #   Column  Non-Null Count  Dtype \n",
      "---  ------  --------------  ----- \n",
      " 0   Tweets  5000 non-null   object\n",
      " 1   Class   5000 non-null   object\n",
      "dtypes: object(2)\n",
      "memory usage: 78.2+ KB\n"
     ]
    }
   ],
   "source": [
    "twitter_depression.info()"
   ]
  },
  {
   "cell_type": "code",
   "execution_count": 15,
   "id": "08980bd1-79f6-4c4c-a629-796f86535401",
   "metadata": {},
   "outputs": [],
   "source": [
    "def clean_tweet(twt):\n",
    "    twt = re.sub('#', ' ', twt) #Removes '#' from post\n",
    "    twt = re.sub('\\\\n', ' ', twt) #Removes the '\\n' string\n",
    "    twt = re.sub('#[A-Za-z0-9]+', '', twt) #Removes any strings with a '#'\n",
    "    twt = re.sub('https?:\\/\\/\\S+', ' ', twt) # Removes any hyperlink\n",
    "    twt = re.sub('[^A-Za-z]',' ', twt) #removes numbers\n",
    "    twt = re.sub('  ',' ', twt) #Double spaces removes to single space\n",
    "    twt = re.sub('ve', 'have', twt)\n",
    "    return twt.lower()"
   ]
  },
  {
   "cell_type": "code",
   "execution_count": 16,
   "id": "562e6469-87e1-4a25-81f2-1cd0353d3b40",
   "metadata": {},
   "outputs": [
    {
     "data": {
      "text/html": [
       "<div>\n",
       "<style scoped>\n",
       "    .dataframe tbody tr th:only-of-type {\n",
       "        vertical-align: middle;\n",
       "    }\n",
       "\n",
       "    .dataframe tbody tr th {\n",
       "        vertical-align: top;\n",
       "    }\n",
       "\n",
       "    .dataframe thead th {\n",
       "        text-align: right;\n",
       "    }\n",
       "</style>\n",
       "<table border=\"1\" class=\"dataframe\">\n",
       "  <thead>\n",
       "    <tr style=\"text-align: right;\">\n",
       "      <th></th>\n",
       "      <th>Tweets</th>\n",
       "      <th>Class</th>\n",
       "      <th>Post</th>\n",
       "    </tr>\n",
       "  </thead>\n",
       "  <tbody>\n",
       "    <tr>\n",
       "      <th>0</th>\n",
       "      <td>#Depression continues to be a major health issue. There are many ways to treat depression. Antidepressants and psychotherapy are the usual first-line treatments, but research has suggested that a ...</td>\n",
       "      <td>Depression</td>\n",
       "      <td>depression continues to be a major health issue there are many ways to treat depression antidepressants and psychotherapy are the usual first line treatments but research has suggested that a med...</td>\n",
       "    </tr>\n",
       "    <tr>\n",
       "      <th>1</th>\n",
       "      <td>Read some of the recommendations from the Commission for the general community here before the event! \\n#UniteAgainstDepression #Depression #GlobalMentalHealth\\nhttps://t.co/Qmy4XWCTqx https://t.c...</td>\n",
       "      <td>Depression</td>\n",
       "      <td>read some of the recommendations from the commission for the general community here before the ehavent  uniteagainstdepression depression globalmentalhealth</td>\n",
       "    </tr>\n",
       "    <tr>\n",
       "      <th>2</th>\n",
       "      <td>❤️‍🩹 Moving On After a Relationship Break-Up 💔\\n\\nLink to full article: https://t.co/S2kHuoycGN…\\n\\n🌍 https://t.co/iNEvnmcvnq\\n☎️ 03453192666\\n📧 clinic@hypnotherapyandnlp.co.uk\\n\\n#therapy #help #...</td>\n",
       "      <td>Depression</td>\n",
       "      <td>moving on after a relationship break up  link to full article             clinic hypnotherapyandnlp co uk  therapy help nlp hypnotherapy mentalhealth hertfordshire anxiety stress depression con...</td>\n",
       "    </tr>\n",
       "    <tr>\n",
       "      <th>3</th>\n",
       "      <td>Panel says children should be screened earlier for #anxiety and #depression. https://t.co/niWlLwxUT6</td>\n",
       "      <td>Depression</td>\n",
       "      <td>panel says children should be screened earlier for anxiety and depression</td>\n",
       "    </tr>\n",
       "    <tr>\n",
       "      <th>4</th>\n",
       "      <td>Happy happy Wednesday everybody have a awesome 😎 day @AllieCowley6 @TXTransplant45 @ChiMissingCases @ElaineEmmerick @GaryHow08605462 @BillyBo58678428 #PTSD #CPTSD #anxiety #panicattack #depression...</td>\n",
       "      <td>Depression</td>\n",
       "      <td>happy happy wednesday ehaverybody hahave a awesome  day alliecowley  txtransplant  chimissingcases elaineemmerick garyhow     billybo     ptsd cptsd anxiety panicattack depression nehavergihaveup ...</td>\n",
       "    </tr>\n",
       "  </tbody>\n",
       "</table>\n",
       "</div>"
      ],
      "text/plain": [
       "                                                                                                                                                                                                    Tweets  \\\n",
       "0  #Depression continues to be a major health issue. There are many ways to treat depression. Antidepressants and psychotherapy are the usual first-line treatments, but research has suggested that a ...   \n",
       "1  Read some of the recommendations from the Commission for the general community here before the event! \\n#UniteAgainstDepression #Depression #GlobalMentalHealth\\nhttps://t.co/Qmy4XWCTqx https://t.c...   \n",
       "2  ❤️‍🩹 Moving On After a Relationship Break-Up 💔\\n\\nLink to full article: https://t.co/S2kHuoycGN…\\n\\n🌍 https://t.co/iNEvnmcvnq\\n☎️ 03453192666\\n📧 clinic@hypnotherapyandnlp.co.uk\\n\\n#therapy #help #...   \n",
       "3                                                                                                     Panel says children should be screened earlier for #anxiety and #depression. https://t.co/niWlLwxUT6   \n",
       "4  Happy happy Wednesday everybody have a awesome 😎 day @AllieCowley6 @TXTransplant45 @ChiMissingCases @ElaineEmmerick @GaryHow08605462 @BillyBo58678428 #PTSD #CPTSD #anxiety #panicattack #depression...   \n",
       "\n",
       "        Class  \\\n",
       "0  Depression   \n",
       "1  Depression   \n",
       "2  Depression   \n",
       "3  Depression   \n",
       "4  Depression   \n",
       "\n",
       "                                                                                                                                                                                                      Post  \n",
       "0   depression continues to be a major health issue there are many ways to treat depression antidepressants and psychotherapy are the usual first line treatments but research has suggested that a med...  \n",
       "1                                           read some of the recommendations from the commission for the general community here before the ehavent  uniteagainstdepression depression globalmentalhealth    \n",
       "2     moving on after a relationship break up  link to full article             clinic hypnotherapyandnlp co uk  therapy help nlp hypnotherapy mentalhealth hertfordshire anxiety stress depression con...  \n",
       "3                                                                                                                              panel says children should be screened earlier for anxiety and depression    \n",
       "4  happy happy wednesday ehaverybody hahave a awesome  day alliecowley  txtransplant  chimissingcases elaineemmerick garyhow     billybo     ptsd cptsd anxiety panicattack depression nehavergihaveup ...  "
      ]
     },
     "execution_count": 16,
     "metadata": {},
     "output_type": "execute_result"
    }
   ],
   "source": [
    "#Apply the funtion and check the changes maden\n",
    "twitter_depression['Post'] = twitter_depression['Tweets'].apply(clean_tweet)\n",
    "twitter_depression.head()"
   ]
  },
  {
   "cell_type": "code",
   "execution_count": 17,
   "id": "1157e70d-44ff-4fbd-bc2e-69ce5feeea4b",
   "metadata": {},
   "outputs": [
    {
     "name": "stdout",
     "output_type": "stream",
     "text": [
      "The Original shape of tweets is: (5000, 3)\n",
      "The shape of Posts now is: (4176, 2)\n"
     ]
    }
   ],
   "source": [
    "#Delete Tweets column and duplicates on Post\n",
    "\n",
    "print(f'The Original shape of tweets is: {twitter_depression.shape}')\n",
    "twitter_depression.drop('Tweets', axis = 1, inplace = True)\n",
    "twitter_depression.drop_duplicates(subset = 'Post', keep = 'last', inplace = True)\n",
    "print(f'The shape of Posts now is: {twitter_depression.shape}')"
   ]
  },
  {
   "cell_type": "code",
   "execution_count": 18,
   "id": "3f86d5ca-0924-4144-8513-103e650aba5b",
   "metadata": {},
   "outputs": [],
   "source": [
    "#Create a fundtion to fix the nan values, concat title with self_text, clean the text and title, drop_duplicates for subreddit and twitter posts\n",
    "\n",
    "#Function for subreddit\n",
    "def clean_reddit(df):\n",
    "    \n",
    "    #Fill the self text nan values with blank text\n",
    "    df['self_text'].fillna(' ', inplace = True)\n",
    "\n",
    "    #Rename removed and deleted post with blank text\n",
    "    df['self_text'] = df['self_text'].str.replace('removed', ' ').str.replace('deleted', ' ')\n",
    "\n",
    "    #Drop Duplcates\n",
    "    df.drop_duplicates(subset = 'title', keep = 'last', inplace = True)\n",
    "\n",
    "    # Transform all text to lowercase\n",
    "    df['title'] = df['title'].str.lower()\n",
    "    df['self_text'] = df['self_text'].str.lower()\n",
    "\n",
    "    # Remove punctation\n",
    "    df['title'] = df['title'].str.replace('[^\\w\\s]',' ')\n",
    "    df['self_text'] = df['self_text'].str.replace('[^\\w\\s]',' ')\n",
    "\n",
    "    # Remove numbers \n",
    "    df['title'] = df['title'].str.replace('[^A-Za-z]',' ')\n",
    "    df['self_text'] = df['self_text'].str.replace('[^A-Za-z]',' ')\n",
    "\n",
    "    # Make sure any double-spaces are single \n",
    "    df['title'] = df['title'].str.replace('  ',' ')\n",
    "    df['self_text'] = df['self_text'].str.replace('  ',' ')\n",
    "\n",
    "    #Combine Title with self_text in on column Post\n",
    "    df['Post'] = df['title'] + ' ' + df['self_text']\n",
    "\n",
    "    #Delete the title and self_text columns\n",
    "    df.drop(['title', 'self_text'], axis = 1, inplace = True)\n",
    "\n",
    "    #Change the created_urc to timecreated\n",
    "    if 'created_utc' in df.columns:\n",
    "        df.rename(columns= {'created_utc' : 'timecreated'}, inplace = True)\n",
    "\n",
    "    #Convert epoch_time to datetime\n",
    "    new_values = []\n",
    "    col = 'timecreated'\n",
    "    for row in df[col].values:\n",
    "         new_values.append(datetime.datetime.fromtimestamp(row))\n",
    "    df[col] = new_values\n",
    "    \n",
    "    return df"
   ]
  },
  {
   "cell_type": "code",
   "execution_count": 19,
   "id": "d8ae35fe-b0ac-463d-8479-5ded54045d3f",
   "metadata": {},
   "outputs": [
    {
     "name": "stdout",
     "output_type": "stream",
     "text": [
      "Subreddit Depression original shape was: (9993, 6)\n",
      "Subreddit Depression shape now is: (9536, 5)\n"
     ]
    }
   ],
   "source": [
    "#Check the original shape\n",
    "print(f'Subreddit Depression original shape was: {depresssion_df.shape}')\n",
    "\n",
    "#Apply the function to depression dataframe\n",
    "depresssion_df = clean_reddit(depresssion_df)\n",
    "print(f'Subreddit Depression shape now is: {depresssion_df.shape}')"
   ]
  },
  {
   "cell_type": "code",
   "execution_count": 20,
   "id": "74f433d9-210a-4262-848b-d4080409ccd5",
   "metadata": {},
   "outputs": [
    {
     "name": "stdout",
     "output_type": "stream",
     "text": [
      "Subreddit Exercise original shape was: (9996, 6)\n",
      "Subreddit Exercise shape now is : (9659, 5)\n"
     ]
    }
   ],
   "source": [
    "#Check the original shape\n",
    "print(f'Subreddit Exercise original shape was: {exercise_df.shape}')\n",
    "\n",
    "#Apply the function to exercise dataframe\n",
    "exercise_df = clean_reddit(exercise_df)\n",
    "print(f'Subreddit Exercise shape now is : {exercise_df.shape}')"
   ]
  },
  {
   "cell_type": "code",
   "execution_count": 21,
   "id": "6c14ab50-e54e-4907-bded-18d5188dec96",
   "metadata": {},
   "outputs": [
    {
     "name": "stdout",
     "output_type": "stream",
     "text": [
      "Subreddit Happy original shape was: (15000, 6)\n",
      "Subreddit Happy shape now is : (14621, 5)\n"
     ]
    }
   ],
   "source": [
    "#Check the original shape\n",
    "print(f'Subreddit Happy original shape was: {happy_df.shape}')\n",
    "\n",
    "#Apply the function to happy dataframe\n",
    "happy_df = clean_reddit(happy_df)\n",
    "print(f'Subreddit Happy shape now is : {happy_df.shape}')"
   ]
  },
  {
   "cell_type": "code",
   "execution_count": null,
   "id": "7ad1988d-4872-4b17-9719-b0302037cc42",
   "metadata": {},
   "outputs": [],
   "source": []
  },
  {
   "cell_type": "code",
   "execution_count": 22,
   "id": "175d537b-5b27-49ff-ae49-aab6f8be0391",
   "metadata": {},
   "outputs": [
    {
     "name": "stdout",
     "output_type": "stream",
     "text": [
      "Subreddit Suicide original shape was: (15000, 6)\n",
      "Subreddit Suicide shape now is: (13915, 5)\n"
     ]
    }
   ],
   "source": [
    "#Check the original shape of suicidewatch dataframe\n",
    "print(f'Subreddit Suicide original shape was: {suicide_df.shape}')\n",
    "\n",
    "#Apply the function to suicidewatch dataframe\n",
    "suicide_df = clean_reddit(suicide_df)\n",
    "print(f'Subreddit Suicide shape now is: {suicide_df.shape}')"
   ]
  },
  {
   "cell_type": "code",
   "execution_count": 23,
   "id": "877c7aa3-234e-4b18-8b6a-11ba8cdcaa93",
   "metadata": {},
   "outputs": [],
   "source": [
    "#For twitter posts so many words are conconat together\n",
    "for words in twitter_depression['Post']:\n",
    "    for word in words.split(' '):\n",
    "        if len(word) > 17:\n",
    "            twitter_depression['Post'] = twitter_depression['Post'].str.replace(word, '')\n",
    "        if 'mentalhealth' in word:\n",
    "            twitter_depression['Post'] = twitter_depression['Post'].str.replace(word, 'mental health')\n",
    "        if 'healthawareness' in word:\n",
    "            twitter_depression['Post'] = twitter_depression['Post'].str.replace(word, 'health awareness')"
   ]
  },
  {
   "cell_type": "code",
   "execution_count": 26,
   "id": "c855c30e-8640-4e72-9b85-5400674e1260",
   "metadata": {},
   "outputs": [],
   "source": [
    "twitter_depression.to_csv('../Data/Clean CSV Files/cleaned_twt_depression.csv', index = False)\n",
    "depresssion_df.to_csv('../Data/Clean CSV Files/cleaned_depression.csv', index = False)\n",
    "suicide_df.to_csv('../Data/Clean CSV Files/cleaned_suicidewatch.csv', index = False)\n",
    "happy_df.to_csv('../Data/Clean CSV Files/cleaned_happy.csv', index = False)\n",
    "exercise_df.to_csv('../Data/Clean CSV Files/cleaned_exercise.csv', index = False)"
   ]
  },
  {
   "cell_type": "code",
   "execution_count": 25,
   "id": "3e65f737-c08a-4472-927b-7bb4f1a909e4",
   "metadata": {},
   "outputs": [],
   "source": [
    "# --------"
   ]
  },
  {
   "cell_type": "code",
   "execution_count": null,
   "id": "3bc9722c-a8c1-4af1-a772-7dcaffee528a",
   "metadata": {},
   "outputs": [],
   "source": []
  },
  {
   "cell_type": "code",
   "execution_count": null,
   "id": "70a42da8-c06f-4d37-844f-b468eb7c20e1",
   "metadata": {},
   "outputs": [],
   "source": []
  },
  {
   "cell_type": "code",
   "execution_count": null,
   "id": "78ea7470-c598-431f-9541-19a974cf3c95",
   "metadata": {},
   "outputs": [],
   "source": []
  }
 ],
 "metadata": {
  "kernelspec": {
   "display_name": "Python 3",
   "language": "python",
   "name": "python3"
  },
  "language_info": {
   "codemirror_mode": {
    "name": "ipython",
    "version": 3
   },
   "file_extension": ".py",
   "mimetype": "text/x-python",
   "name": "python",
   "nbconvert_exporter": "python",
   "pygments_lexer": "ipython3",
   "version": "3.8.8"
  }
 },
 "nbformat": 4,
 "nbformat_minor": 5
}
