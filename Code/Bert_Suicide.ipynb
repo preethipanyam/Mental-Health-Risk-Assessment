{
 "cells": [
  {
   "cell_type": "code",
   "execution_count": 81,
   "id": "07407ca0-0740-4800-8148-db571c483639",
   "metadata": {},
   "outputs": [],
   "source": [
    "import pandas as pd\n",
    "import numpy as np\n",
    "import seaborn as sns\n",
    "import matplotlib.pyplot as plt\n",
    "\n",
    "\n",
    "import tensorflow as tf\n",
    "from tensorflow import keras\n",
    "import tensorflow_hub as hub\n",
    "import tensorflow_text as text\n",
    "\n",
    "from sklearn.model_selection import train_test_split\n",
    "from sklearn.metrics import accuracy_score, recall_score, confusion_matrix, precision_score, f1_score, classification_report"
   ]
  },
  {
   "cell_type": "code",
   "execution_count": 82,
   "id": "f0436076-77a1-4e4f-971f-34f5404366ca",
   "metadata": {},
   "outputs": [
    {
     "data": {
      "text/html": [
       "<div>\n",
       "<style scoped>\n",
       "    .dataframe tbody tr th:only-of-type {\n",
       "        vertical-align: middle;\n",
       "    }\n",
       "\n",
       "    .dataframe tbody tr th {\n",
       "        vertical-align: top;\n",
       "    }\n",
       "\n",
       "    .dataframe thead th {\n",
       "        text-align: right;\n",
       "    }\n",
       "</style>\n",
       "<table border=\"1\" class=\"dataframe\">\n",
       "  <thead>\n",
       "    <tr style=\"text-align: right;\">\n",
       "      <th></th>\n",
       "      <th>neg</th>\n",
       "      <th>neu</th>\n",
       "      <th>pos</th>\n",
       "      <th>compound</th>\n",
       "      <th>Post</th>\n",
       "      <th>Class</th>\n",
       "    </tr>\n",
       "  </thead>\n",
       "  <tbody>\n",
       "    <tr>\n",
       "      <th>0</th>\n",
       "      <td>0.163</td>\n",
       "      <td>0.658</td>\n",
       "      <td>0.178</td>\n",
       "      <td>0.1406</td>\n",
       "      <td>attempted yesterday i had an exit yesterday an...</td>\n",
       "      <td>SuicidalThoughts</td>\n",
       "    </tr>\n",
       "    <tr>\n",
       "      <th>1</th>\n",
       "      <td>0.000</td>\n",
       "      <td>0.892</td>\n",
       "      <td>0.108</td>\n",
       "      <td>0.4404</td>\n",
       "      <td>my bf of  years just tried to hang himself las...</td>\n",
       "      <td>SuicidalThoughts</td>\n",
       "    </tr>\n",
       "    <tr>\n",
       "      <th>2</th>\n",
       "      <td>0.141</td>\n",
       "      <td>0.665</td>\n",
       "      <td>0.194</td>\n",
       "      <td>0.8683</td>\n",
       "      <td>he gave up because of me  we have shared many ...</td>\n",
       "      <td>SuicidalThoughts</td>\n",
       "    </tr>\n",
       "    <tr>\n",
       "      <th>3</th>\n",
       "      <td>0.045</td>\n",
       "      <td>0.873</td>\n",
       "      <td>0.081</td>\n",
       "      <td>0.2960</td>\n",
       "      <td>running out of options does anyone have any co...</td>\n",
       "      <td>SuicidalThoughts</td>\n",
       "    </tr>\n",
       "    <tr>\n",
       "      <th>4</th>\n",
       "      <td>0.299</td>\n",
       "      <td>0.588</td>\n",
       "      <td>0.113</td>\n",
       "      <td>-0.9927</td>\n",
       "      <td>my life is shit i feel like shit  i hate mysel...</td>\n",
       "      <td>SuicidalThoughts</td>\n",
       "    </tr>\n",
       "  </tbody>\n",
       "</table>\n",
       "</div>"
      ],
      "text/plain": [
       "     neg    neu    pos  compound  \\\n",
       "0  0.163  0.658  0.178    0.1406   \n",
       "1  0.000  0.892  0.108    0.4404   \n",
       "2  0.141  0.665  0.194    0.8683   \n",
       "3  0.045  0.873  0.081    0.2960   \n",
       "4  0.299  0.588  0.113   -0.9927   \n",
       "\n",
       "                                                Post             Class  \n",
       "0  attempted yesterday i had an exit yesterday an...  SuicidalThoughts  \n",
       "1  my bf of  years just tried to hang himself las...  SuicidalThoughts  \n",
       "2  he gave up because of me  we have shared many ...  SuicidalThoughts  \n",
       "3  running out of options does anyone have any co...  SuicidalThoughts  \n",
       "4  my life is shit i feel like shit  i hate mysel...  SuicidalThoughts  "
      ]
     },
     "execution_count": 82,
     "metadata": {},
     "output_type": "execute_result"
    }
   ],
   "source": [
    "df = pd.read_csv('../Data/Sentiment CSV/MergedSenti.csv')\n",
    "df.head()"
   ]
  },
  {
   "cell_type": "code",
   "execution_count": 3,
   "id": "a435f2f1-41c4-46c1-82d3-6f173e3ec045",
   "metadata": {},
   "outputs": [],
   "source": [
    "df = df[df['Class'] != 'Depression']\n",
    "df.Class = df.Class.apply(lambda x: 1 if x == 'SuicidalThoughts' else 0)"
   ]
  },
  {
   "cell_type": "code",
   "execution_count": 4,
   "id": "f887b4c9-b9ac-4924-a651-1c1a139ac511",
   "metadata": {},
   "outputs": [],
   "source": [
    "df = df.reset_index(drop = True)"
   ]
  },
  {
   "cell_type": "code",
   "execution_count": 5,
   "id": "66d75607-f4e4-498b-9f8f-37442101a7e4",
   "metadata": {},
   "outputs": [
    {
     "data": {
      "text/html": [
       "<div>\n",
       "<style scoped>\n",
       "    .dataframe tbody tr th:only-of-type {\n",
       "        vertical-align: middle;\n",
       "    }\n",
       "\n",
       "    .dataframe tbody tr th {\n",
       "        vertical-align: top;\n",
       "    }\n",
       "\n",
       "    .dataframe thead th {\n",
       "        text-align: right;\n",
       "    }\n",
       "</style>\n",
       "<table border=\"1\" class=\"dataframe\">\n",
       "  <thead>\n",
       "    <tr style=\"text-align: right;\">\n",
       "      <th></th>\n",
       "      <th>neg</th>\n",
       "      <th>neu</th>\n",
       "      <th>pos</th>\n",
       "      <th>compound</th>\n",
       "      <th>Post</th>\n",
       "      <th>Class</th>\n",
       "    </tr>\n",
       "  </thead>\n",
       "  <tbody>\n",
       "    <tr>\n",
       "      <th>0</th>\n",
       "      <td>0.163</td>\n",
       "      <td>0.658</td>\n",
       "      <td>0.178</td>\n",
       "      <td>0.1406</td>\n",
       "      <td>attempted yesterday i had an exit yesterday an...</td>\n",
       "      <td>1</td>\n",
       "    </tr>\n",
       "    <tr>\n",
       "      <th>1</th>\n",
       "      <td>0.000</td>\n",
       "      <td>0.892</td>\n",
       "      <td>0.108</td>\n",
       "      <td>0.4404</td>\n",
       "      <td>my bf of  years just tried to hang himself las...</td>\n",
       "      <td>1</td>\n",
       "    </tr>\n",
       "    <tr>\n",
       "      <th>2</th>\n",
       "      <td>0.141</td>\n",
       "      <td>0.665</td>\n",
       "      <td>0.194</td>\n",
       "      <td>0.8683</td>\n",
       "      <td>he gave up because of me  we have shared many ...</td>\n",
       "      <td>1</td>\n",
       "    </tr>\n",
       "    <tr>\n",
       "      <th>3</th>\n",
       "      <td>0.045</td>\n",
       "      <td>0.873</td>\n",
       "      <td>0.081</td>\n",
       "      <td>0.2960</td>\n",
       "      <td>running out of options does anyone have any co...</td>\n",
       "      <td>1</td>\n",
       "    </tr>\n",
       "    <tr>\n",
       "      <th>4</th>\n",
       "      <td>0.299</td>\n",
       "      <td>0.588</td>\n",
       "      <td>0.113</td>\n",
       "      <td>-0.9927</td>\n",
       "      <td>my life is shit i feel like shit  i hate mysel...</td>\n",
       "      <td>1</td>\n",
       "    </tr>\n",
       "    <tr>\n",
       "      <th>...</th>\n",
       "      <td>...</td>\n",
       "      <td>...</td>\n",
       "      <td>...</td>\n",
       "      <td>...</td>\n",
       "      <td>...</td>\n",
       "      <td>...</td>\n",
       "    </tr>\n",
       "    <tr>\n",
       "      <th>13910</th>\n",
       "      <td>0.072</td>\n",
       "      <td>0.842</td>\n",
       "      <td>0.086</td>\n",
       "      <td>0.0510</td>\n",
       "      <td>birthday bash wuhoo i m gonna be  soon and i k...</td>\n",
       "      <td>1</td>\n",
       "    </tr>\n",
       "    <tr>\n",
       "      <th>13911</th>\n",
       "      <td>0.274</td>\n",
       "      <td>0.566</td>\n",
       "      <td>0.160</td>\n",
       "      <td>-0.7072</td>\n",
       "      <td>i feel like everyone hates me i feel so unwant...</td>\n",
       "      <td>1</td>\n",
       "    </tr>\n",
       "    <tr>\n",
       "      <th>13912</th>\n",
       "      <td>0.067</td>\n",
       "      <td>0.753</td>\n",
       "      <td>0.180</td>\n",
       "      <td>0.8125</td>\n",
       "      <td>im so desperate for love i let men treat me li...</td>\n",
       "      <td>1</td>\n",
       "    </tr>\n",
       "    <tr>\n",
       "      <th>13913</th>\n",
       "      <td>0.338</td>\n",
       "      <td>0.617</td>\n",
       "      <td>0.045</td>\n",
       "      <td>-0.9900</td>\n",
       "      <td>dumb girl that can t even take her own life i ...</td>\n",
       "      <td>1</td>\n",
       "    </tr>\n",
       "    <tr>\n",
       "      <th>13914</th>\n",
       "      <td>0.123</td>\n",
       "      <td>0.753</td>\n",
       "      <td>0.125</td>\n",
       "      <td>-0.4665</td>\n",
       "      <td>covid ruined my life i first tries to kill mys...</td>\n",
       "      <td>1</td>\n",
       "    </tr>\n",
       "  </tbody>\n",
       "</table>\n",
       "<p>13915 rows × 6 columns</p>\n",
       "</div>"
      ],
      "text/plain": [
       "         neg    neu    pos  compound  \\\n",
       "0      0.163  0.658  0.178    0.1406   \n",
       "1      0.000  0.892  0.108    0.4404   \n",
       "2      0.141  0.665  0.194    0.8683   \n",
       "3      0.045  0.873  0.081    0.2960   \n",
       "4      0.299  0.588  0.113   -0.9927   \n",
       "...      ...    ...    ...       ...   \n",
       "13910  0.072  0.842  0.086    0.0510   \n",
       "13911  0.274  0.566  0.160   -0.7072   \n",
       "13912  0.067  0.753  0.180    0.8125   \n",
       "13913  0.338  0.617  0.045   -0.9900   \n",
       "13914  0.123  0.753  0.125   -0.4665   \n",
       "\n",
       "                                                    Post  Class  \n",
       "0      attempted yesterday i had an exit yesterday an...      1  \n",
       "1      my bf of  years just tried to hang himself las...      1  \n",
       "2      he gave up because of me  we have shared many ...      1  \n",
       "3      running out of options does anyone have any co...      1  \n",
       "4      my life is shit i feel like shit  i hate mysel...      1  \n",
       "...                                                  ...    ...  \n",
       "13910  birthday bash wuhoo i m gonna be  soon and i k...      1  \n",
       "13911  i feel like everyone hates me i feel so unwant...      1  \n",
       "13912  im so desperate for love i let men treat me li...      1  \n",
       "13913  dumb girl that can t even take her own life i ...      1  \n",
       "13914  covid ruined my life i first tries to kill mys...      1  \n",
       "\n",
       "[13915 rows x 6 columns]"
      ]
     },
     "execution_count": 5,
     "metadata": {},
     "output_type": "execute_result"
    }
   ],
   "source": [
    "df[df['Class'] == 1]"
   ]
  },
  {
   "cell_type": "code",
   "execution_count": 6,
   "id": "c39857b8-086a-4eeb-a375-27ce53f3b2e8",
   "metadata": {},
   "outputs": [
    {
     "data": {
      "text/plain": [
       "(20000, 6)"
      ]
     },
     "execution_count": 6,
     "metadata": {},
     "output_type": "execute_result"
    }
   ],
   "source": [
    "df_Suic = df[df['Class'] == 1][:10000]\n",
    "df_neutral = df[df['Class'] == 0][:10000]\n",
    "df = pd.concat([df_Suic, df_neutral])\n",
    "df.shape"
   ]
  },
  {
   "cell_type": "code",
   "execution_count": 23,
   "id": "11f4b074-f3eb-46d6-b178-2058fb2502d8",
   "metadata": {},
   "outputs": [],
   "source": [
    "X = df['Post'].to_list()\n",
    "y = df['Class'].to_list()"
   ]
  },
  {
   "cell_type": "code",
   "execution_count": 24,
   "id": "bcb8525f-6aae-4329-af11-c49aa49ec8f8",
   "metadata": {
    "scrolled": true,
    "tags": []
   },
   "outputs": [],
   "source": [
    "X_train, X_test, y_train, y_test = train_test_split(X, y, test_size=0.33, random_state=42)"
   ]
  },
  {
   "cell_type": "code",
   "execution_count": 20,
   "id": "9d557c31-8f60-470d-9b1c-672a23168e9a",
   "metadata": {
    "scrolled": true,
    "tags": []
   },
   "outputs": [],
   "source": [
    "bert_preprocess = hub.KerasLayer(\"https://tfhub.dev/tensorflow/bert_en_uncased_preprocess/3\")\n",
    "bert_encoder = hub.KerasLayer(\"https://tfhub.dev/tensorflow/bert_en_uncased_L-12_H-768_A-12/4\")"
   ]
  },
  {
   "cell_type": "code",
   "execution_count": 22,
   "id": "a3d50879-898d-4184-bab2-f63bbff1d7c3",
   "metadata": {},
   "outputs": [
    {
     "name": "stdout",
     "output_type": "stream",
     "text": [
      "Model: \"model_1\"\n",
      "__________________________________________________________________________________________________\n",
      " Layer (type)                   Output Shape         Param #     Connected to                     \n",
      "==================================================================================================\n",
      " text (InputLayer)              [(None,)]            0           []                               \n",
      "                                                                                                  \n",
      " keras_layer (KerasLayer)       {'input_mask': (Non  0           ['text[0][0]']                   \n",
      "                                e, 128),                                                          \n",
      "                                 'input_type_ids':                                                \n",
      "                                (None, 128),                                                      \n",
      "                                 'input_word_ids':                                                \n",
      "                                (None, 128)}                                                      \n",
      "                                                                                                  \n",
      " keras_layer_1 (KerasLayer)     {'encoder_outputs':  109482241   ['keras_layer[1][0]',            \n",
      "                                 [(None, 128, 768),               'keras_layer[1][1]',            \n",
      "                                 (None, 128, 768),                'keras_layer[1][2]']            \n",
      "                                 (None, 128, 768),                                                \n",
      "                                 (None, 128, 768),                                                \n",
      "                                 (None, 128, 768),                                                \n",
      "                                 (None, 128, 768),                                                \n",
      "                                 (None, 128, 768),                                                \n",
      "                                 (None, 128, 768),                                                \n",
      "                                 (None, 128, 768),                                                \n",
      "                                 (None, 128, 768),                                                \n",
      "                                 (None, 128, 768),                                                \n",
      "                                 (None, 128, 768)],                                               \n",
      "                                 'sequence_output':                                               \n",
      "                                 (None, 128, 768),                                                \n",
      "                                 'default': (None,                                                \n",
      "                                768),                                                             \n",
      "                                 'pooled_output': (                                               \n",
      "                                None, 768)}                                                       \n",
      "                                                                                                  \n",
      " hidden_layer1 (Dense)          (None, 128)          98432       ['keras_layer_1[1][13]']         \n",
      "                                                                                                  \n",
      " Dropout1 (Dropout)             (None, 128)          0           ['hidden_layer1[0][0]']          \n",
      "                                                                                                  \n",
      " hidden_layer2 (Dense)          (None, 128)          16512       ['Dropout1[0][0]']               \n",
      "                                                                                                  \n",
      " Dropout2 (Dropout)             (None, 128)          0           ['hidden_layer2[0][0]']          \n",
      "                                                                                                  \n",
      " output_layer (Dense)           (None, 1)            129         ['Dropout2[0][0]']               \n",
      "                                                                                                  \n",
      "==================================================================================================\n",
      "Total params: 109,597,314\n",
      "Trainable params: 115,073\n",
      "Non-trainable params: 109,482,241\n",
      "__________________________________________________________________________________________________\n"
     ]
    }
   ],
   "source": [
    "#Bert Layers\n",
    "input_text = tf.keras.layers.Input(shape=(), dtype=tf.string, name='text')\n",
    "preprocessed_text = bert_preprocess(input_text)\n",
    "outputs = bert_encoder(preprocessed_text)\n",
    "\n",
    "#Create some hidden layers and dropot layers\n",
    "h1 = tf.keras.layers.Dense(128, activation = 'relu', name = 'hidden_layer1')(outputs['pooled_output'])\n",
    "d1 = tf.keras.layers.Dropout(0.5, name = 'Dropout1')(h1)\n",
    "h2 = tf.keras.layers.Dense(128, activation = 'relu', name = 'hidden_layer2')(d1)\n",
    "d2 = tf.keras.layers.Dropout(0.5, name = 'Dropout2')(h2)\n",
    "out_layer = tf.keras.layers.Dense(1, activation = 'sigmoid', name = 'output_layer')(d2)\n",
    "\n",
    "#Create the model\n",
    "model = tf.keras.Model(inputs = input_text, outputs = out_layer)\n",
    "\n",
    "#Check the summary of model\n",
    "model.summary()"
   ]
  },
  {
   "cell_type": "code",
   "execution_count": 23,
   "id": "65a0d0e0-ab19-49a9-9494-b5294a056dcf",
   "metadata": {},
   "outputs": [],
   "source": [
    "model.compile(optimizer='adam',loss='bce',metrics='accuracy')"
   ]
  },
  {
   "cell_type": "code",
   "execution_count": 24,
   "id": "439517d1-d759-42d3-8e61-2a51330d75f8",
   "metadata": {},
   "outputs": [
    {
     "name": "stdout",
     "output_type": "stream",
     "text": [
      "Epoch 1/5\n",
      "210/210 [==============================] - 5460s 26s/step - loss: 0.2161 - accuracy: 0.9149 - val_loss: 0.0734 - val_accuracy: 0.9773\n",
      "Epoch 2/5\n",
      "210/210 [==============================] - 5448s 26s/step - loss: 0.1019 - accuracy: 0.9652 - val_loss: 0.0755 - val_accuracy: 0.9742\n",
      "Epoch 3/5\n",
      "210/210 [==============================] - 4971s 24s/step - loss: 0.0996 - accuracy: 0.9655 - val_loss: 0.0548 - val_accuracy: 0.9814\n",
      "Epoch 4/5\n",
      "210/210 [==============================] - 4963s 24s/step - loss: 0.0935 - accuracy: 0.9678 - val_loss: 0.0552 - val_accuracy: 0.9800\n",
      "Epoch 5/5\n",
      "210/210 [==============================] - 4949s 24s/step - loss: 0.0863 - accuracy: 0.9692 - val_loss: 0.0530 - val_accuracy: 0.9809\n"
     ]
    }
   ],
   "source": [
    "history = model.fit(X_train, y_train,\n",
    "                             batch_size = 64,\n",
    "                             validation_data = (X_test, y_test),\n",
    "                             epochs = 5)"
   ]
  },
  {
   "cell_type": "code",
   "execution_count": 27,
   "id": "bfa03598-863d-4f11-84ca-576220862f65",
   "metadata": {},
   "outputs": [
    {
     "data": {
      "image/png": "[encoded data removed]",
      "text/plain": [
       "<Figure size 864x504 with 1 Axes>"
      ]
     },
     "metadata": {
      "needs_background": "light"
     },
     "output_type": "display_data"
    },
    {
     "data": {
      "text/plain": [
       "<Figure size 432x288 with 0 Axes>"
      ]
     },
     "metadata": {},
     "output_type": "display_data"
    }
   ],
   "source": [
    "plt.figure(figsize = (12, 7))\n",
    "plt.plot(history.history['loss'], label = 'Training Loss', color = 'blue')\n",
    "plt.plot(history.history['val_loss'], label = 'Test Loss', color = 'skyblue')\n",
    "# Set title\n",
    "plt.title('Training and Testing Loss by Epoch', fontsize = 25)\n",
    "plt.xlabel('Epoch', fontsize = 18)\n",
    "plt.ylabel('Binary Crossentropy', fontsize = 18)\n",
    "plt.xticks(np.arange(5), np.arange(5))\n",
    "plt.legend()\n",
    "plt.show()\n",
    "plt.savefig('loss_plot.jpg')"
   ]
  },
  {
   "cell_type": "code",
   "execution_count": 32,
   "id": "22f72ddf-9982-4296-a990-af918e788b2c",
   "metadata": {},
   "outputs": [
    {
     "data": {
      "image/png": "[encoded data removed]",
      "text/plain": [
       "<Figure size 864x504 with 1 Axes>"
      ]
     },
     "metadata": {
      "needs_background": "light"
     },
     "output_type": "display_data"
    },
    {
     "data": {
      "text/plain": [
       "<Figure size 432x288 with 0 Axes>"
      ]
     },
     "metadata": {},
     "output_type": "display_data"
    }
   ],
   "source": [
    "plt.figure(figsize = (12, 7))\n",
    "plt.plot(history.history['accuracy'], label = 'Training Accuracy', color = 'blue')\n",
    "plt.plot(history.history['val_accuracy'], label = 'Test Accuracy', color = 'skyblue')\n",
    "# Set title\n",
    "plt.title('Training and Testing Accuracy by Epoch', fontsize = 25)\n",
    "plt.xlabel('Epoch', fontsize = 18)\n",
    "plt.ylabel('Binary Crossentropy', fontsize = 18)\n",
    "plt.xticks(np.arange(5), np.arange(5))\n",
    "plt.legend(loc='lower right')\n",
    "plt.show()\n",
    "plt.savefig('accuracy_plot.jpg')"
   ]
  },
  {
   "cell_type": "code",
   "execution_count": 29,
   "id": "571abc29-296a-4207-b233-7a41a965484e",
   "metadata": {},
   "outputs": [
    {
     "name": "stderr",
     "output_type": "stream",
     "text": [
      "WARNING:absl:Found untraced functions such as restored_function_body, restored_function_body, restored_function_body, restored_function_body, restored_function_body while saving (showing 5 of 366). These functions will not be directly callable after loading.\n"
     ]
    },
    {
     "name": "stdout",
     "output_type": "stream",
     "text": [
      "INFO:tensorflow:Assets written to: Tuning_Bert_Model\\assets\n"
     ]
    },
    {
     "name": "stderr",
     "output_type": "stream",
     "text": [
      "INFO:tensorflow:Assets written to: Tuning_Bert_Model\\assets\n"
     ]
    }
   ],
   "source": [
    "model.save('./Saved Models/Bert_Suicide_Model')"
   ]
  },
  {
   "cell_type": "code",
   "execution_count": 84,
   "id": "25717e9b-b8cc-4507-be73-0529295e6dda",
   "metadata": {},
   "outputs": [],
   "source": [
    "model = tf.keras.models.load_model('./Saved Models/Bert_Suicide_Model')"
   ]
  },
  {
   "cell_type": "code",
   "execution_count": 22,
   "id": "9bb98dba-4f63-41b1-a2e2-aff10dda7391",
   "metadata": {},
   "outputs": [
    {
     "data": {
      "text/html": [
       "<div>\n",
       "<style scoped>\n",
       "    .dataframe tbody tr th:only-of-type {\n",
       "        vertical-align: middle;\n",
       "    }\n",
       "\n",
       "    .dataframe tbody tr th {\n",
       "        vertical-align: top;\n",
       "    }\n",
       "\n",
       "    .dataframe thead th {\n",
       "        text-align: right;\n",
       "    }\n",
       "</style>\n",
       "<table border=\"1\" class=\"dataframe\">\n",
       "  <thead>\n",
       "    <tr style=\"text-align: right;\">\n",
       "      <th></th>\n",
       "      <th>#</th>\n",
       "      <th>Text</th>\n",
       "      <th>From</th>\n",
       "      <th>Source</th>\n",
       "    </tr>\n",
       "  </thead>\n",
       "  <tbody>\n",
       "    <tr>\n",
       "      <th>0</th>\n",
       "      <td>1</td>\n",
       "      <td>Cut deeper</td>\n",
       "      <td>Tumblr: Depression &amp; Disorders</td>\n",
       "      <td>Buzzfeed Article (https://www.buzzfeednews.com...</td>\n",
       "    </tr>\n",
       "    <tr>\n",
       "      <th>1</th>\n",
       "      <td>2</td>\n",
       "      <td>Dear mom &amp; dad, I'm sorry for failing you, I'm...</td>\n",
       "      <td>Tumblr: Depression &amp; Disorders</td>\n",
       "      <td>Buzzfeed Article (https://www.buzzfeednews.com...</td>\n",
       "    </tr>\n",
       "    <tr>\n",
       "      <th>2</th>\n",
       "      <td>3</td>\n",
       "      <td>Confession: My therapist doesn't think my prob...</td>\n",
       "      <td>Tumblr: Depression &amp; Disorders</td>\n",
       "      <td>Buzzfeed Article (https://www.buzzfeednews.com...</td>\n",
       "    </tr>\n",
       "    <tr>\n",
       "      <th>3</th>\n",
       "      <td>4</td>\n",
       "      <td>Depression is not something to be happy about....</td>\n",
       "      <td>Tumblr: Depression &amp; Disorders</td>\n",
       "      <td>Buzzfeed Article (https://www.buzzfeednews.com...</td>\n",
       "    </tr>\n",
       "    <tr>\n",
       "      <th>4</th>\n",
       "      <td>5</td>\n",
       "      <td>I feel really bad tonight...Seriously thinking...</td>\n",
       "      <td>Tumblr: Depression &amp; Disorders</td>\n",
       "      <td>Buzzfeed Article (https://www.buzzfeednews.com...</td>\n",
       "    </tr>\n",
       "  </tbody>\n",
       "</table>\n",
       "</div>"
      ],
      "text/plain": [
       "   #                                               Text  \\\n",
       "0  1                                         Cut deeper   \n",
       "1  2  Dear mom & dad, I'm sorry for failing you, I'm...   \n",
       "2  3  Confession: My therapist doesn't think my prob...   \n",
       "3  4  Depression is not something to be happy about....   \n",
       "4  5  I feel really bad tonight...Seriously thinking...   \n",
       "\n",
       "                             From  \\\n",
       "0  Tumblr: Depression & Disorders   \n",
       "1  Tumblr: Depression & Disorders   \n",
       "2  Tumblr: Depression & Disorders   \n",
       "3  Tumblr: Depression & Disorders   \n",
       "4  Tumblr: Depression & Disorders   \n",
       "\n",
       "                                              Source  \n",
       "0  Buzzfeed Article (https://www.buzzfeednews.com...  \n",
       "1  Buzzfeed Article (https://www.buzzfeednews.com...  \n",
       "2  Buzzfeed Article (https://www.buzzfeednews.com...  \n",
       "3  Buzzfeed Article (https://www.buzzfeednews.com...  \n",
       "4  Buzzfeed Article (https://www.buzzfeednews.com...  "
      ]
     },
     "execution_count": 22,
     "metadata": {},
     "output_type": "execute_result"
    }
   ],
   "source": [
    "val_text = pd.read_csv('../Data/ValidationText.csv')\n",
    "val_text.head(5)"
   ]
  },
  {
   "cell_type": "markdown",
   "id": "11622d03-d383-4f03-8d96-cfee27998ef5",
   "metadata": {},
   "source": [
    "#### Checking the validation of model"
   ]
  },
  {
   "cell_type": "code",
   "execution_count": 87,
   "id": "2f0a6dd5-71bd-47e9-a6e5-e29c01ce44c1",
   "metadata": {},
   "outputs": [
    {
     "data": {
      "text/plain": [
       "array([[0.93298525]], dtype=float32)"
      ]
     },
     "execution_count": 87,
     "metadata": {},
     "output_type": "execute_result"
    }
   ],
   "source": [
    "model.predict([\"yeahhhh i wil go to the gym after 6 months pause\"])"
   ]
  },
  {
   "cell_type": "code",
   "execution_count": 49,
   "id": "f28770b4-6864-4bd2-9c4d-dfa66119e051",
   "metadata": {},
   "outputs": [
    {
     "data": {
      "text/plain": [
       "array([[1.]], dtype=float32)"
      ]
     },
     "execution_count": 49,
     "metadata": {},
     "output_type": "execute_result"
    }
   ],
   "source": [
    "model.predict([val_text['Text'][3]])"
   ]
  },
  {
   "cell_type": "code",
   "execution_count": 25,
   "id": "500f35ff-3ec1-4a14-9a85-986c8cf8a389",
   "metadata": {},
   "outputs": [],
   "source": [
    "prediction = model.predict(X_test)"
   ]
  },
  {
   "cell_type": "code",
   "execution_count": 4,
   "id": "7d1403e6-1d1e-4ce5-9093-03683a527c55",
   "metadata": {},
   "outputs": [
    {
     "data": {
      "text/plain": [
       "array([[0.99999917]], dtype=float32)"
      ]
     },
     "execution_count": 4,
     "metadata": {},
     "output_type": "execute_result"
    }
   ],
   "source": [
    "text = [\"Today i'm very depressed and sad, lonely\"]\n",
    "model.predict(text)"
   ]
  },
  {
   "cell_type": "code",
   "execution_count": 45,
   "id": "a005a2b4-d1cd-4dce-93df-f188f26b7136",
   "metadata": {},
   "outputs": [],
   "source": [
    "#Preiction are probabilities so i convert to either 0 or 1\n",
    "prediction = [1 if x >= 0.5 else 0 for x in prediction]"
   ]
  },
  {
   "cell_type": "code",
   "execution_count": 46,
   "id": "5e9d3e95-0093-4ef8-86e8-ab23c3775e76",
   "metadata": {},
   "outputs": [
    {
     "data": {
      "text/plain": [
       "0.980909090909091"
      ]
     },
     "execution_count": 46,
     "metadata": {},
     "output_type": "execute_result"
    }
   ],
   "source": [
    "#Checking the accuracy\n",
    "accuracy_score(y_test, prediction)"
   ]
  },
  {
   "cell_type": "code",
   "execution_count": 47,
   "id": "a39208e2-a9b7-463d-a6a8-4c6b8bb8ef41",
   "metadata": {},
   "outputs": [
    {
     "data": {
      "text/plain": [
       "0.9774707119255032"
      ]
     },
     "execution_count": 47,
     "metadata": {},
     "output_type": "execute_result"
    }
   ],
   "source": [
    "#Checking the recall score\n",
    "recall_score(y_test, prediction)"
   ]
  },
  {
   "cell_type": "code",
   "execution_count": 49,
   "id": "63105f4a-6117-403e-8c4b-74201175d5ac",
   "metadata": {},
   "outputs": [],
   "source": [
    "#Checking the confusion matrix\n",
    "conf_matrix = confusion_matrix(y_test, prediction)"
   ]
  },
  {
   "cell_type": "code",
   "execution_count": 187,
   "id": "8476b157-8e62-4c7b-9f7a-707f67bdbbba",
   "metadata": {},
   "outputs": [
    {
     "data": {
      "image/png": "[encoded data removed]",
      "text/plain": [
       "<Figure size 576x432 with 2 Axes>"
      ]
     },
     "metadata": {
      "needs_background": "light"
     },
     "output_type": "display_data"
    }
   ],
   "source": [
    "#Plotting the confusion matrix\n",
    "plt.figure(figsize=(8,6))\n",
    "plt.title('Bert Model Confusion Matrix', weight = 'bold', fontsize = 14)\n",
    "fig = sns.heatmap(conf_matrix, cmap = 'Greens', annot = True)\n",
    "fig.xaxis.set_ticklabels(['Risk', 'Not risk'])\n",
    "fig.yaxis.set_ticklabels(['Risk', 'Not Risk']);"
   ]
  },
  {
   "cell_type": "code",
   "execution_count": 55,
   "id": "edb5df51-5f4b-40f5-af4b-ab886e65b07b",
   "metadata": {},
   "outputs": [
    {
     "data": {
      "text/plain": [
       "0.9845688350983358"
      ]
     },
     "execution_count": 55,
     "metadata": {},
     "output_type": "execute_result"
    }
   ],
   "source": [
    "#Checking the precision score\n",
    "precision_score(y_test, prediction)"
   ]
  },
  {
   "cell_type": "code",
   "execution_count": 56,
   "id": "32cc5201-a6f9-474c-99b8-e6cca3047ed3",
   "metadata": {},
   "outputs": [
    {
     "data": {
      "text/plain": [
       "0.9810069339764848"
      ]
     },
     "execution_count": 56,
     "metadata": {},
     "output_type": "execute_result"
    }
   ],
   "source": [
    "#Checking the f1_score\n",
    "f1_score(y_test, prediction)"
   ]
  },
  {
   "cell_type": "code",
   "execution_count": 59,
   "id": "574eaf95-6c9a-49b5-a2af-dde4e2a7e569",
   "metadata": {},
   "outputs": [
    {
     "name": "stdout",
     "output_type": "stream",
     "text": [
      "              precision    recall  f1-score   support\n",
      "\n",
      "           0       0.98      0.98      0.98      3271\n",
      "           1       0.98      0.98      0.98      3329\n",
      "\n",
      "    accuracy                           0.98      6600\n",
      "   macro avg       0.98      0.98      0.98      6600\n",
      "weighted avg       0.98      0.98      0.98      6600\n",
      "\n"
     ]
    }
   ],
   "source": [
    "print(classification_report(y_test, prediction))"
   ]
  },
  {
   "cell_type": "code",
   "execution_count": 50,
   "id": "b692dc15-1950-49c3-847b-3de0d87ee72b",
   "metadata": {},
   "outputs": [],
   "source": [
    "#Create a funtion to return te risky level based on probability of post\n",
    "def risk_assessment_prediction(text):\n",
    "    prob = model.predict([text])\n",
    "    prob = prob[0][0]\n",
    "    if prob >= 0.5 and prob < 0.75:\n",
    "        return f'This Post should be considered Risky (Probability is: {prob})'\n",
    "    elif prob >= 0.75 and prob < 0.9:\n",
    "        return f'This Post should be considered High Risky (Probability is: {prob})'\n",
    "    elif prob >= 0.9:\n",
    "        return f'Alert!. This Post has a high level of Risk (Probability is: {prob})'\n",
    "    elif prob < 0.2:\n",
    "        return  f'This Post should has no signs of Risk (Probability is: {prob})'\n",
    "    elif prob >= 0.2 and prob < 0.5:\n",
    "        return f'This Post should not be considered as Risky (Probability is: {prob})'"
   ]
  },
  {
   "cell_type": "code",
   "execution_count": 69,
   "id": "9f07a2b0-b4a6-405d-9b31-0bd83f3e293d",
   "metadata": {},
   "outputs": [
    {
     "data": {
      "text/plain": [
       "'Alert!. This Post has a high level of Risk (Probability is: 1.0)'"
      ]
     },
     "execution_count": 69,
     "metadata": {},
     "output_type": "execute_result"
    }
   ],
   "source": [
    "risk_assessment_prediction(\"Depression is not something to be happy about. I hate the fact that everything I just said, is only a quarter of what I feel. Some people get excited when they're diagnosed with depression. 'Oh I'm going to tell my friends, maybe I'll get some sympathy .' No you stupid c***. It is the worst thing, that's why, when I was diagnosed with depression. I felt crazy. Because I'm not normal. I'm depressed, and pain lives in me, and I can't escape it. That's the sad thing. No one takes it seriously.\")"
   ]
  },
  {
   "cell_type": "code",
   "execution_count": 80,
   "id": "91ebc95b-074c-418f-bb4a-93ea80bd6c90",
   "metadata": {},
   "outputs": [
    {
     "data": {
      "text/plain": [
       "'This Post should not be considered as Risky (Probability is: 0.2038266360759735)'"
      ]
     },
     "execution_count": 80,
     "metadata": {},
     "output_type": "execute_result"
    }
   ],
   "source": [
    "risk_assessment_prediction('good go away now')"
   ]
  },
  {
   "cell_type": "code",
   "execution_count": null,
   "id": "0914a7aa-279a-459d-b3cc-f8fa180fe8fe",
   "metadata": {},
   "outputs": [],
   "source": []
  },
  {
   "cell_type": "code",
   "execution_count": null,
   "id": "9778a8ba-b24d-40b3-8c42-46616f232c55",
   "metadata": {},
   "outputs": [],
   "source": []
  },
  {
   "cell_type": "code",
   "execution_count": 156,
   "id": "2a0a85df-5cb9-415b-b70b-b0b7e556817d",
   "metadata": {},
   "outputs": [],
   "source": []
  },
  {
   "cell_type": "code",
   "execution_count": null,
   "id": "6ddf938f-0014-4fbb-82a5-37d7db1791f5",
   "metadata": {},
   "outputs": [],
   "source": []
  },
  {
   "cell_type": "code",
   "execution_count": null,
   "id": "a737bd77-9a1d-450c-94ad-1760ec7535bd",
   "metadata": {},
   "outputs": [],
   "source": []
  },
  {
   "cell_type": "code",
   "execution_count": null,
   "id": "d669256c-ecd9-4c68-9b96-0396979c874d",
   "metadata": {},
   "outputs": [],
   "source": []
  },
  {
   "cell_type": "code",
   "execution_count": null,
   "id": "41333530-f373-4342-a0ef-35eb6dcc665f",
   "metadata": {},
   "outputs": [],
   "source": []
  },
  {
   "cell_type": "code",
   "execution_count": null,
   "id": "08d88d28-2906-4609-b42e-8e0e89d1fa23",
   "metadata": {},
   "outputs": [],
   "source": []
  },
  {
   "cell_type": "code",
   "execution_count": null,
   "id": "06cc8b15-c757-4cc4-9986-6ced84549641",
   "metadata": {},
   "outputs": [],
   "source": []
  },
  {
   "cell_type": "code",
   "execution_count": null,
   "id": "2ee16232-3249-477b-828d-abc08cf5937b",
   "metadata": {},
   "outputs": [],
   "source": []
  },
  {
   "cell_type": "code",
   "execution_count": null,
   "id": "db5e4511-918a-450d-9829-93ee377d7c58",
   "metadata": {},
   "outputs": [],
   "source": []
  },
  {
   "cell_type": "code",
   "execution_count": null,
   "id": "e644132d-238d-42ab-96a8-e11b6a8178c5",
   "metadata": {},
   "outputs": [],
   "source": []
  }
 ],
 "metadata": {
  "kernelspec": {
   "display_name": "Python [conda env:tensorflow]",
   "language": "python",
   "name": "conda-env-tensorflow-py"
  },
  "language_info": {
   "codemirror_mode": {
    "name": "ipython",
    "version": 3
   },
   "file_extension": ".py",
   "mimetype": "text/x-python",
   "name": "python",
   "nbconvert_exporter": "python",
   "pygments_lexer": "ipython3",
   "version": "3.9.11"
  }
 },
 "nbformat": 4,
 "nbformat_minor": 5
}
