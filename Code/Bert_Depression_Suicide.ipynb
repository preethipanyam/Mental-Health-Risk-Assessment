{
 "cells": [
  {
   "cell_type": "code",
   "execution_count": 2,
   "id": "ec308d41-76ec-4331-a0e4-6a0115d52f44",
   "metadata": {},
   "outputs": [],
   "source": [
    "import tensorflow as tf\n",
    "from tensorflow import keras\n",
    "import tensorflow_hub as hub\n",
    "import tensorflow_text as text\n",
    "import pandas as pd\n",
    "import numpy as np\n",
    "from sklearn.metrics import accuracy_score, recall_score, confusion_matrix, plot_confusion_matrix\n",
    "from sklearn.model_selection import train_test_split\n",
    "import matplotlib.pyplot as plt\n",
    "\n",
    "import warnings\n",
    "warnings.simplefilter(\"ignore\")"
   ]
  },
  {
   "cell_type": "code",
   "execution_count": 3,
   "id": "1d046743-4a46-4c7d-8f9a-6510da6fb6ed",
   "metadata": {},
   "outputs": [
    {
     "data": {
      "text/html": [
       "<div>\n",
       "<style scoped>\n",
       "    .dataframe tbody tr th:only-of-type {\n",
       "        vertical-align: middle;\n",
       "    }\n",
       "\n",
       "    .dataframe tbody tr th {\n",
       "        vertical-align: top;\n",
       "    }\n",
       "\n",
       "    .dataframe thead th {\n",
       "        text-align: right;\n",
       "    }\n",
       "</style>\n",
       "<table border=\"1\" class=\"dataframe\">\n",
       "  <thead>\n",
       "    <tr style=\"text-align: right;\">\n",
       "      <th></th>\n",
       "      <th>neg</th>\n",
       "      <th>neu</th>\n",
       "      <th>pos</th>\n",
       "      <th>compound</th>\n",
       "      <th>Post</th>\n",
       "      <th>Class</th>\n",
       "    </tr>\n",
       "  </thead>\n",
       "  <tbody>\n",
       "    <tr>\n",
       "      <th>0</th>\n",
       "      <td>0.163</td>\n",
       "      <td>0.658</td>\n",
       "      <td>0.178</td>\n",
       "      <td>0.1406</td>\n",
       "      <td>attempted yesterday i had an exit yesterday an...</td>\n",
       "      <td>SuicidalThoughts</td>\n",
       "    </tr>\n",
       "    <tr>\n",
       "      <th>1</th>\n",
       "      <td>0.000</td>\n",
       "      <td>0.892</td>\n",
       "      <td>0.108</td>\n",
       "      <td>0.4404</td>\n",
       "      <td>my bf of  years just tried to hang himself las...</td>\n",
       "      <td>SuicidalThoughts</td>\n",
       "    </tr>\n",
       "    <tr>\n",
       "      <th>2</th>\n",
       "      <td>0.141</td>\n",
       "      <td>0.665</td>\n",
       "      <td>0.194</td>\n",
       "      <td>0.8683</td>\n",
       "      <td>he gave up because of me  we have shared many ...</td>\n",
       "      <td>SuicidalThoughts</td>\n",
       "    </tr>\n",
       "    <tr>\n",
       "      <th>3</th>\n",
       "      <td>0.045</td>\n",
       "      <td>0.873</td>\n",
       "      <td>0.081</td>\n",
       "      <td>0.2960</td>\n",
       "      <td>running out of options does anyone have any co...</td>\n",
       "      <td>SuicidalThoughts</td>\n",
       "    </tr>\n",
       "    <tr>\n",
       "      <th>4</th>\n",
       "      <td>0.299</td>\n",
       "      <td>0.588</td>\n",
       "      <td>0.113</td>\n",
       "      <td>-0.9927</td>\n",
       "      <td>my life is shit i feel like shit  i hate mysel...</td>\n",
       "      <td>SuicidalThoughts</td>\n",
       "    </tr>\n",
       "  </tbody>\n",
       "</table>\n",
       "</div>"
      ],
      "text/plain": [
       "     neg    neu    pos  compound  \\\n",
       "0  0.163  0.658  0.178    0.1406   \n",
       "1  0.000  0.892  0.108    0.4404   \n",
       "2  0.141  0.665  0.194    0.8683   \n",
       "3  0.045  0.873  0.081    0.2960   \n",
       "4  0.299  0.588  0.113   -0.9927   \n",
       "\n",
       "                                                Post             Class  \n",
       "0  attempted yesterday i had an exit yesterday an...  SuicidalThoughts  \n",
       "1  my bf of  years just tried to hang himself las...  SuicidalThoughts  \n",
       "2  he gave up because of me  we have shared many ...  SuicidalThoughts  \n",
       "3  running out of options does anyone have any co...  SuicidalThoughts  \n",
       "4  my life is shit i feel like shit  i hate mysel...  SuicidalThoughts  "
      ]
     },
     "execution_count": 3,
     "metadata": {},
     "output_type": "execute_result"
    }
   ],
   "source": [
    "#Import Data\n",
    "df = pd.read_csv('../Data/Sentiment CSV/MergedSenti.csv')\n",
    "df.head()"
   ]
  },
  {
   "cell_type": "code",
   "execution_count": 3,
   "id": "7194b22d-7170-4f5f-b1ef-29f437b3c14b",
   "metadata": {},
   "outputs": [
    {
     "data": {
      "text/plain": [
       "(51907, 6)"
      ]
     },
     "execution_count": 3,
     "metadata": {},
     "output_type": "execute_result"
    }
   ],
   "source": [
    "#Check the shape dataframe\n",
    "df.shape"
   ]
  },
  {
   "cell_type": "code",
   "execution_count": 4,
   "id": "b877ed19-2338-4e20-a505-514f73a8a25e",
   "metadata": {},
   "outputs": [
    {
     "data": {
      "text/plain": [
       "Exercise            0.281677\n",
       "SuicidalThoughts    0.268076\n",
       "Depression          0.264165\n",
       "Happy               0.186083\n",
       "Name: Class, dtype: float64"
      ]
     },
     "execution_count": 4,
     "metadata": {},
     "output_type": "execute_result"
    }
   ],
   "source": [
    "#Check the classes\n",
    "df.Class.value_counts(normalize = True)"
   ]
  },
  {
   "cell_type": "markdown",
   "id": "6363fa8b-3080-4d9e-98bb-d1c5ab3e5032",
   "metadata": {},
   "source": [
    "### Create with Model (Both Depression & Suicide Class)"
   ]
  },
  {
   "cell_type": "code",
   "execution_count": 9,
   "id": "9b29d042-91f0-4c2b-92f2-c8fb33770529",
   "metadata": {},
   "outputs": [],
   "source": [
    "#Reduce the dataset size\n",
    "exercise_df = df[df['Class'] == 'Exercise'][:3000].reset_index(drop = True)\n",
    "happy_df = df[df['Class'] == 'Happy'][:2000].reset_index(drop = True)\n",
    "depression_df = df[df['Class'] == 'Depression'][:3000].reset_index(drop = True)\n",
    "suicide_df = df[df['Class'] == 'SuicidalThoughts'][:2000].reset_index(drop = True)"
   ]
  },
  {
   "cell_type": "code",
   "execution_count": 10,
   "id": "d6ba5888-2155-4e29-bcc7-05864ad6e6e8",
   "metadata": {},
   "outputs": [
    {
     "data": {
      "text/plain": [
       "(10000, 6)"
      ]
     },
     "execution_count": 10,
     "metadata": {},
     "output_type": "execute_result"
    }
   ],
   "source": [
    "comb_df = pd.concat([exercise_df, happy_df, depression_df, suicide_df]).reset_index(drop = True)\n",
    "comb_df.shape"
   ]
  },
  {
   "cell_type": "code",
   "execution_count": 214,
   "id": "f6d27af4-187c-4340-99ec-9e66002ab9ef",
   "metadata": {},
   "outputs": [],
   "source": [
    "comb_df['Class'] = comb_df['Class'].apply(lambda x: 1 if x == 'SuicidalThoughts' or x == 'Depression'  else 0)"
   ]
  },
  {
   "cell_type": "code",
   "execution_count": 215,
   "id": "7d055401-0590-475d-89aa-da1b88efa110",
   "metadata": {},
   "outputs": [
    {
     "data": {
      "text/plain": [
       "0    0.5\n",
       "1    0.5\n",
       "Name: Class, dtype: float64"
      ]
     },
     "execution_count": 215,
     "metadata": {},
     "output_type": "execute_result"
    }
   ],
   "source": [
    "comb_df['Class'].value_counts(normalize = True)"
   ]
  },
  {
   "cell_type": "code",
   "execution_count": 255,
   "id": "8a88b3c8-aa1e-4d59-942f-ae432c20c293",
   "metadata": {},
   "outputs": [],
   "source": [
    "X = comb_df['Post'].to_list()\n",
    "y = comb_df['Class'].to_list()"
   ]
  },
  {
   "cell_type": "code",
   "execution_count": 256,
   "id": "8de6baf8-c4f2-4ab1-9ba5-2d8f2da49635",
   "metadata": {},
   "outputs": [],
   "source": [
    "X_train, X_test, y_train, y_test = train_test_split(X, y, test_size=0.33, random_state=42)"
   ]
  },
  {
   "cell_type": "code",
   "execution_count": 257,
   "id": "07b583d0-8cb5-4623-ba63-968f8a8d77bf",
   "metadata": {},
   "outputs": [
    {
     "name": "stdout",
     "output_type": "stream",
     "text": [
      "Model: \"model_8\"\n",
      "__________________________________________________________________________________________________\n",
      " Layer (type)                   Output Shape         Param #     Connected to                     \n",
      "==================================================================================================\n",
      " text (InputLayer)              [(None,)]            0           []                               \n",
      "                                                                                                  \n",
      " keras_layer_2 (KerasLayer)     {'input_word_ids':   0           ['text[0][0]']                   \n",
      "                                (None, 128),                                                      \n",
      "                                 'input_type_ids':                                                \n",
      "                                (None, 128),                                                      \n",
      "                                 'input_mask': (Non                                               \n",
      "                                e, 128)}                                                          \n",
      "                                                                                                  \n",
      " keras_layer_3 (KerasLayer)     {'sequence_output':  109482241   ['keras_layer_2[9][0]',          \n",
      "                                 (None, 128, 768),                'keras_layer_2[9][1]',          \n",
      "                                 'default': (None,                'keras_layer_2[9][2]']          \n",
      "                                768),                                                             \n",
      "                                 'pooled_output': (                                               \n",
      "                                None, 768),                                                       \n",
      "                                 'encoder_outputs':                                               \n",
      "                                 [(None, 128, 768),                                               \n",
      "                                 (None, 128, 768),                                                \n",
      "                                 (None, 128, 768),                                                \n",
      "                                 (None, 128, 768),                                                \n",
      "                                 (None, 128, 768),                                                \n",
      "                                 (None, 128, 768),                                                \n",
      "                                 (None, 128, 768),                                                \n",
      "                                 (None, 128, 768),                                                \n",
      "                                 (None, 128, 768),                                                \n",
      "                                 (None, 128, 768),                                                \n",
      "                                 (None, 128, 768),                                                \n",
      "                                 (None, 128, 768)]}                                               \n",
      "                                                                                                  \n",
      " hidden_layer1 (Dense)          (None, 64)           49216       ['keras_layer_3[9][13]']         \n",
      "                                                                                                  \n",
      " Dropout1 (Dropout)             (None, 64)           0           ['hidden_layer1[0][0]']          \n",
      "                                                                                                  \n",
      " hidden_layer2 (Dense)          (None, 64)           4160        ['Dropout1[0][0]']               \n",
      "                                                                                                  \n",
      " Dropout2 (Dropout)             (None, 64)           0           ['hidden_layer2[0][0]']          \n",
      "                                                                                                  \n",
      " hidden_layer3 (Dense)          (None, 64)           4160        ['Dropout2[0][0]']               \n",
      "                                                                                                  \n",
      " Dropout3 (Dropout)             (None, 64)           0           ['hidden_layer3[0][0]']          \n",
      "                                                                                                  \n",
      " output_layer (Dense)           (None, 1)            65          ['Dropout3[0][0]']               \n",
      "                                                                                                  \n",
      "==================================================================================================\n",
      "Total params: 109,539,842\n",
      "Trainable params: 57,601\n",
      "Non-trainable params: 109,482,241\n",
      "__________________________________________________________________________________________________\n"
     ]
    }
   ],
   "source": [
    "#Bert Layers\n",
    "input_text = tf.keras.layers.Input(shape=(), dtype=tf.string, name='text')\n",
    "preprocessed_text = bert_preprocess(input_text)\n",
    "outputs = bert_encoder(preprocessed_text)\n",
    "\n",
    "#Create some hidden layers and dropot layers\n",
    "h1 = tf.keras.layers.Dense(64, activation = 'relu', name = 'hidden_layer1')(outputs['pooled_output'])\n",
    "d1 = tf.keras.layers.Dropout(0.5, name = 'Dropout1')(h1)\n",
    "h2 = tf.keras.layers.Dense(64, activation = 'relu', name = 'hidden_layer2')(d1)\n",
    "d2 = tf.keras.layers.Dropout(0.5, name = 'Dropout2')(h2)\n",
    "h3 = tf.keras.layers.Dense(64, activation = 'relu', name = 'hidden_layer3')(d2)\n",
    "d3 = tf.keras.layers.Dropout(0.5, name = 'Dropout3')(h3)\n",
    "out_layer = tf.keras.layers.Dense(1, activation = 'sigmoid', name = 'output_layer')(d3)\n",
    "\n",
    "#Create the model\n",
    "model_2 = tf.keras.Model(inputs = input_text, outputs = out_layer)\n",
    "\n",
    "#Check the summary of model\n",
    "model_2.summary()"
   ]
  },
  {
   "cell_type": "code",
   "execution_count": 258,
   "id": "8ddc3384-b98a-4b1f-b184-bd94633963ca",
   "metadata": {},
   "outputs": [],
   "source": [
    "model_2.compile(loss = loss_func, optimizer = optimizer, metrics = [accuracy])"
   ]
  },
  {
   "cell_type": "code",
   "execution_count": 4,
   "id": "7396e980-63ca-4aab-bebd-7a1e04d56041",
   "metadata": {},
   "outputs": [],
   "source": [
    "history_2 = model_2.fit(X_train, y_train,\n",
    "                   batch_size = 64,\n",
    "                    validation_data = (X_test, y_test),\n",
    "                    epochs = 5)"
   ]
  },
  {
   "cell_type": "code",
   "execution_count": null,
   "id": "43a5741d-29c6-48af-887a-822f13e74c72",
   "metadata": {},
   "outputs": [],
   "source": [
    "model.save('..')"
   ]
  },
  {
   "cell_type": "code",
   "execution_count": null,
   "id": "9e86c336-aae4-4cad-adee-a9b2e10e48e4",
   "metadata": {},
   "outputs": [],
   "source": []
  },
  {
   "cell_type": "code",
   "execution_count": null,
   "id": "152f52b3-116c-4a54-b207-fedad683829c",
   "metadata": {},
   "outputs": [],
   "source": []
  }
 ],
 "metadata": {
  "kernelspec": {
   "display_name": "Python [conda env:tensorflow]",
   "language": "python",
   "name": "conda-env-tensorflow-py"
  },
  "language_info": {
   "codemirror_mode": {
    "name": "ipython",
    "version": 3
   },
   "file_extension": ".py",
   "mimetype": "text/x-python",
   "name": "python",
   "nbconvert_exporter": "python",
   "pygments_lexer": "ipython3",
   "version": "3.9.11"
  }
 },
 "nbformat": 4,
 "nbformat_minor": 5
}
