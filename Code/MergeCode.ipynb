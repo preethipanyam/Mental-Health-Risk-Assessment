{
 "cells": [
  {
   "cell_type": "code",
   "execution_count": 1,
   "id": "43ffc041",
   "metadata": {},
   "outputs": [],
   "source": [
    "import pandas as pd"
   ]
  },
  {
   "cell_type": "code",
   "execution_count": 5,
   "id": "abc39c06",
   "metadata": {},
   "outputs": [
    {
     "name": "stdout",
     "output_type": "stream",
     "text": [
      "         neg    neu    pos  compound  \\\n",
      "0      0.163  0.658  0.178    0.1406   \n",
      "1      0.000  0.892  0.108    0.4404   \n",
      "2      0.141  0.665  0.194    0.8683   \n",
      "3      0.045  0.873  0.081    0.2960   \n",
      "4      0.299  0.588  0.113   -0.9927   \n",
      "...      ...    ...    ...       ...   \n",
      "51902  0.000  0.448  0.552    0.5719   \n",
      "51903  0.056  0.779  0.164    0.5478   \n",
      "51904  0.000  1.000  0.000    0.0000   \n",
      "51905  0.423  0.577  0.000   -0.8595   \n",
      "51906  0.000  0.830  0.170    0.4404   \n",
      "\n",
      "                                                    Post             Class  \n",
      "0      attempted yesterday i had an exit yesterday an...  SuicidalThoughts  \n",
      "1      my bf of  years just tried to hang himself las...  SuicidalThoughts  \n",
      "2      he gave up because of me  we have shared many ...  SuicidalThoughts  \n",
      "3      running out of options does anyone have any co...  SuicidalThoughts  \n",
      "4      my life is shit i feel like shit  i hate mysel...  SuicidalThoughts  \n",
      "...                                                  ...               ...  \n",
      "51902              celebrated sobriety climbing mountain          Exercise  \n",
      "51903  idea long visible difference appearance week a...             Happy  \n",
      "51904  ab per week full body work see lot recommendat...             Happy  \n",
      "51905  year ago hospitalized trying kill right snuggl...          Exercise  \n",
      "51906  year old autistic son grey shirt black pant sp...          Exercise  \n",
      "\n",
      "[51907 rows x 6 columns]\n"
     ]
    }
   ],
   "source": [
    "df = pd.concat(\n",
    "    map(pd.read_csv, ['./suic_senti.csv', './depression_sentiment.csv','./neutral_senti.csv']), \n",
    "                     ignore_index = True)\n",
    "print(df)"
   ]
  },
  {
   "cell_type": "code",
   "execution_count": 6,
   "id": "e3131fa2",
   "metadata": {},
   "outputs": [],
   "source": [
    "merged = df.to_csv('../Sentiment CSV/MergedSenti.csv', index = False)  "
   ]
  },
  {
   "cell_type": "code",
   "execution_count": null,
   "id": "17272bc8",
   "metadata": {},
   "outputs": [],
   "source": []
  }
 ],
 "metadata": {
  "kernelspec": {
   "display_name": "Python 3 (ipykernel)",
   "language": "python",
   "name": "python3"
  },
  "language_info": {
   "codemirror_mode": {
    "name": "ipython",
    "version": 3
   },
   "file_extension": ".py",
   "mimetype": "text/x-python",
   "name": "python",
   "nbconvert_exporter": "python",
   "pygments_lexer": "ipython3",
   "version": "3.9.7"
  }
 },
 "nbformat": 4,
 "nbformat_minor": 5
}
