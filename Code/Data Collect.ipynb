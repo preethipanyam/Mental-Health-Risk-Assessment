{
 "cells": [
  {
   "cell_type": "code",
   "execution_count": 1,
   "id": "1590abd3-3bc7-4fd1-b398-00bda073dd27",
   "metadata": {},
   "outputs": [],
   "source": [
    "#Import libraries\n",
    "import pandas as pd\n",
    "from psaw import PushshiftAPI\n",
    "\n",
    "import warnings\n",
    "warnings.simplefilter(\"ignore\")"
   ]
  },
  {
   "cell_type": "code",
   "execution_count": 62,
   "id": "cf35a0e3-d993-4dbb-82a8-bdb71442efb6",
   "metadata": {},
   "outputs": [],
   "source": [
    "#Create a fundtion to gather data\n",
    "def get_data(subreddit_wanted):\n",
    "    \n",
    "    #Code modified from https://medium.com/swlh/how-to-scrape-large-amounts-of-reddit-data-using-pushshift-1d33bde9286\n",
    "    #Institiate the PushshiftApi\n",
    "    api = PushshiftAPI()\n",
    "    \n",
    "    posts = []\n",
    "    subreddit = api.search_submissions(subreddit = subreddit_wanted, limit = 10000)\n",
    "    \n",
    "    for post in subreddit:\n",
    "        try:\n",
    "            posts.append([post.subreddit, post.title, post.selftext, post.author, post.domain, post.created_utc])\n",
    "        except:\n",
    "            posts.append([post.subreddit, post.title, ' ', post.author, post.domain, post.created_utc])\n",
    "    df = pd.DataFrame(posts, columns=['subreddit', 'title', 'self_text', 'author', 'domain', 'timecreated'])\n",
    "    return df"
   ]
  },
  {
   "cell_type": "code",
   "execution_count": 63,
   "id": "172aff88-f621-4aba-99a2-95b123b1068d",
   "metadata": {},
   "outputs": [],
   "source": [
    "#Gather Data for 'Depression' & Save to csv file \n",
    "depression_df = get_data('depression')\n",
    "depression_df.to_csv('./Data/depression_category.csv', index = False)"
   ]
  },
  {
   "cell_type": "code",
   "execution_count": 64,
   "id": "41c1d0b1-0475-47d9-8cd9-e567a6d0ec2d",
   "metadata": {},
   "outputs": [],
   "source": [
    "#Gather Data for 'Exercise' & Save to csv file \n",
    "exercise_df = get_data('exercise')\n",
    "exercise_df.to_csv('./Data/exercise_category.csv', index = False)"
   ]
  },
  {
   "cell_type": "code",
   "execution_count": null,
   "id": "77a21d2c-8bd1-4176-8653-219ae778f1ea",
   "metadata": {},
   "outputs": [],
   "source": []
  },
  {
   "cell_type": "code",
   "execution_count": null,
   "id": "7610662e-0b84-4dbd-ba5e-0c06c4e0f075",
   "metadata": {},
   "outputs": [],
   "source": []
  },
  {
   "cell_type": "code",
   "execution_count": null,
   "id": "8b40302e-d571-4e18-aca9-af2378621212",
   "metadata": {},
   "outputs": [],
   "source": []
  }
 ],
 "metadata": {
  "kernelspec": {
   "display_name": "Python 3",
   "language": "python",
   "name": "python3"
  },
  "language_info": {
   "codemirror_mode": {
    "name": "ipython",
    "version": 3
   },
   "file_extension": ".py",
   "mimetype": "text/x-python",
   "name": "python",
   "nbconvert_exporter": "python",
   "pygments_lexer": "ipython3",
   "version": "3.8.8"
  }
 },
 "nbformat": 4,
 "nbformat_minor": 5
}
