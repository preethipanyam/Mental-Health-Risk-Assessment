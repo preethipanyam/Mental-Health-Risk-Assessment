{
 "cells": [
  {
   "cell_type": "code",
   "execution_count": 108,
   "id": "af9ad9fc",
   "metadata": {},
   "outputs": [],
   "source": [
    "# Imports\n",
    "import pandas as pd       \n",
    "from sklearn.linear_model import LogisticRegression\n",
    "from sklearn.model_selection import train_test_split, cross_val_score\n",
    "from sklearn.feature_extraction.text import CountVectorizer, TfidfVectorizer\n",
    "from nltk.tokenize import sent_tokenize, word_tokenize, RegexpTokenizer\n",
    "from nltk.stem import WordNetLemmatizer\n",
    "from nltk.stem.porter import PorterStemmer\n",
    "from nltk.corpus import stopwords\n",
    "from nltk.sentiment.vader import SentimentIntensityAnalyzer\n",
    "import re"
   ]
  },
  {
   "cell_type": "code",
   "execution_count": 109,
   "id": "21d36fff",
   "metadata": {},
   "outputs": [],
   "source": [
    "suic = pd.read_csv('../Mental-Health-Risk-Assessment/Data/cleaned_suicidewatch.csv')"
   ]
  },
  {
   "cell_type": "code",
   "execution_count": 110,
   "id": "91d55e13",
   "metadata": {},
   "outputs": [
    {
     "data": {
      "text/html": [
       "<div>\n",
       "<style scoped>\n",
       "    .dataframe tbody tr th:only-of-type {\n",
       "        vertical-align: middle;\n",
       "    }\n",
       "\n",
       "    .dataframe tbody tr th {\n",
       "        vertical-align: top;\n",
       "    }\n",
       "\n",
       "    .dataframe thead th {\n",
       "        text-align: right;\n",
       "    }\n",
       "</style>\n",
       "<table border=\"1\" class=\"dataframe\">\n",
       "  <thead>\n",
       "    <tr style=\"text-align: right;\">\n",
       "      <th></th>\n",
       "      <th>Unnamed: 0</th>\n",
       "      <th>subreddit</th>\n",
       "      <th>author</th>\n",
       "      <th>domain</th>\n",
       "      <th>timecreated</th>\n",
       "      <th>Post</th>\n",
       "    </tr>\n",
       "  </thead>\n",
       "  <tbody>\n",
       "    <tr>\n",
       "      <th>0</th>\n",
       "      <td>0</td>\n",
       "      <td>suicidewatch</td>\n",
       "      <td>_AbstractInsanity</td>\n",
       "      <td>self.SuicideWatch</td>\n",
       "      <td>2021-12-12 09:21:26</td>\n",
       "      <td>attempted yesterday i had an exit yesterday an...</td>\n",
       "    </tr>\n",
       "    <tr>\n",
       "      <th>1</th>\n",
       "      <td>1</td>\n",
       "      <td>suicidewatch</td>\n",
       "      <td>maxortheblade</td>\n",
       "      <td>self.SuicideWatch</td>\n",
       "      <td>2021-12-12 09:13:40</td>\n",
       "      <td>my bf of  years just tried to hang himself las...</td>\n",
       "    </tr>\n",
       "    <tr>\n",
       "      <th>2</th>\n",
       "      <td>2</td>\n",
       "      <td>suicidewatch</td>\n",
       "      <td>depressed-wowie</td>\n",
       "      <td>self.SuicideWatch</td>\n",
       "      <td>2021-12-12 09:12:27</td>\n",
       "      <td>he gave up because of me  we have shared many ...</td>\n",
       "    </tr>\n",
       "    <tr>\n",
       "      <th>3</th>\n",
       "      <td>3</td>\n",
       "      <td>suicidewatch</td>\n",
       "      <td>Kaitlyn-Wofford</td>\n",
       "      <td>self.SuicideWatch</td>\n",
       "      <td>2021-12-12 09:08:15</td>\n",
       "      <td>running out of options does anyone have any co...</td>\n",
       "    </tr>\n",
       "    <tr>\n",
       "      <th>4</th>\n",
       "      <td>4</td>\n",
       "      <td>suicidewatch</td>\n",
       "      <td>irrationalthinkerx0</td>\n",
       "      <td>self.SuicideWatch</td>\n",
       "      <td>2021-12-12 09:01:32</td>\n",
       "      <td>my life is shit i feel like shit  i hate mysel...</td>\n",
       "    </tr>\n",
       "  </tbody>\n",
       "</table>\n",
       "</div>"
      ],
      "text/plain": [
       "   Unnamed: 0     subreddit               author             domain  \\\n",
       "0           0  suicidewatch    _AbstractInsanity  self.SuicideWatch   \n",
       "1           1  suicidewatch        maxortheblade  self.SuicideWatch   \n",
       "2           2  suicidewatch      depressed-wowie  self.SuicideWatch   \n",
       "3           3  suicidewatch      Kaitlyn-Wofford  self.SuicideWatch   \n",
       "4           4  suicidewatch  irrationalthinkerx0  self.SuicideWatch   \n",
       "\n",
       "           timecreated                                               Post  \n",
       "0  2021-12-12 09:21:26  attempted yesterday i had an exit yesterday an...  \n",
       "1  2021-12-12 09:13:40  my bf of  years just tried to hang himself las...  \n",
       "2  2021-12-12 09:12:27  he gave up because of me  we have shared many ...  \n",
       "3  2021-12-12 09:08:15  running out of options does anyone have any co...  \n",
       "4  2021-12-12 09:01:32  my life is shit i feel like shit  i hate mysel...  "
      ]
     },
     "execution_count": 110,
     "metadata": {},
     "output_type": "execute_result"
    }
   ],
   "source": [
    "suic.head()"
   ]
  },
  {
   "cell_type": "code",
   "execution_count": 111,
   "id": "70b368f7",
   "metadata": {},
   "outputs": [],
   "source": [
    "suic.drop(columns = ['Unnamed: 0'], inplace = True)"
   ]
  },
  {
   "cell_type": "code",
   "execution_count": 112,
   "id": "135bf5b4",
   "metadata": {},
   "outputs": [
    {
     "data": {
      "text/html": [
       "<div>\n",
       "<style scoped>\n",
       "    .dataframe tbody tr th:only-of-type {\n",
       "        vertical-align: middle;\n",
       "    }\n",
       "\n",
       "    .dataframe tbody tr th {\n",
       "        vertical-align: top;\n",
       "    }\n",
       "\n",
       "    .dataframe thead th {\n",
       "        text-align: right;\n",
       "    }\n",
       "</style>\n",
       "<table border=\"1\" class=\"dataframe\">\n",
       "  <thead>\n",
       "    <tr style=\"text-align: right;\">\n",
       "      <th></th>\n",
       "      <th>subreddit</th>\n",
       "      <th>author</th>\n",
       "      <th>domain</th>\n",
       "      <th>timecreated</th>\n",
       "      <th>Post</th>\n",
       "    </tr>\n",
       "  </thead>\n",
       "  <tbody>\n",
       "    <tr>\n",
       "      <th>0</th>\n",
       "      <td>suicidewatch</td>\n",
       "      <td>_AbstractInsanity</td>\n",
       "      <td>self.SuicideWatch</td>\n",
       "      <td>2021-12-12 09:21:26</td>\n",
       "      <td>attempted yesterday i had an exit yesterday an...</td>\n",
       "    </tr>\n",
       "    <tr>\n",
       "      <th>1</th>\n",
       "      <td>suicidewatch</td>\n",
       "      <td>maxortheblade</td>\n",
       "      <td>self.SuicideWatch</td>\n",
       "      <td>2021-12-12 09:13:40</td>\n",
       "      <td>my bf of  years just tried to hang himself las...</td>\n",
       "    </tr>\n",
       "    <tr>\n",
       "      <th>2</th>\n",
       "      <td>suicidewatch</td>\n",
       "      <td>depressed-wowie</td>\n",
       "      <td>self.SuicideWatch</td>\n",
       "      <td>2021-12-12 09:12:27</td>\n",
       "      <td>he gave up because of me  we have shared many ...</td>\n",
       "    </tr>\n",
       "    <tr>\n",
       "      <th>3</th>\n",
       "      <td>suicidewatch</td>\n",
       "      <td>Kaitlyn-Wofford</td>\n",
       "      <td>self.SuicideWatch</td>\n",
       "      <td>2021-12-12 09:08:15</td>\n",
       "      <td>running out of options does anyone have any co...</td>\n",
       "    </tr>\n",
       "    <tr>\n",
       "      <th>4</th>\n",
       "      <td>suicidewatch</td>\n",
       "      <td>irrationalthinkerx0</td>\n",
       "      <td>self.SuicideWatch</td>\n",
       "      <td>2021-12-12 09:01:32</td>\n",
       "      <td>my life is shit i feel like shit  i hate mysel...</td>\n",
       "    </tr>\n",
       "  </tbody>\n",
       "</table>\n",
       "</div>"
      ],
      "text/plain": [
       "      subreddit               author             domain          timecreated  \\\n",
       "0  suicidewatch    _AbstractInsanity  self.SuicideWatch  2021-12-12 09:21:26   \n",
       "1  suicidewatch        maxortheblade  self.SuicideWatch  2021-12-12 09:13:40   \n",
       "2  suicidewatch      depressed-wowie  self.SuicideWatch  2021-12-12 09:12:27   \n",
       "3  suicidewatch      Kaitlyn-Wofford  self.SuicideWatch  2021-12-12 09:08:15   \n",
       "4  suicidewatch  irrationalthinkerx0  self.SuicideWatch  2021-12-12 09:01:32   \n",
       "\n",
       "                                                Post  \n",
       "0  attempted yesterday i had an exit yesterday an...  \n",
       "1  my bf of  years just tried to hang himself las...  \n",
       "2  he gave up because of me  we have shared many ...  \n",
       "3  running out of options does anyone have any co...  \n",
       "4  my life is shit i feel like shit  i hate mysel...  "
      ]
     },
     "execution_count": 112,
     "metadata": {},
     "output_type": "execute_result"
    }
   ],
   "source": [
    "suic.head()"
   ]
  },
  {
   "cell_type": "code",
   "execution_count": 113,
   "id": "a0ab7fef",
   "metadata": {},
   "outputs": [
    {
     "data": {
      "text/plain": [
       "self.SuicideWatch    13915\n",
       "Name: domain, dtype: int64"
      ]
     },
     "execution_count": 113,
     "metadata": {},
     "output_type": "execute_result"
    }
   ],
   "source": [
    "suic['domain'].value_counts()"
   ]
  },
  {
   "cell_type": "code",
   "execution_count": 114,
   "id": "be99563f",
   "metadata": {},
   "outputs": [],
   "source": [
    "suic.drop(columns = ['domain'], inplace = True)"
   ]
  },
  {
   "cell_type": "code",
   "execution_count": 115,
   "id": "db99d06b",
   "metadata": {},
   "outputs": [
    {
     "data": {
      "text/html": [
       "<div>\n",
       "<style scoped>\n",
       "    .dataframe tbody tr th:only-of-type {\n",
       "        vertical-align: middle;\n",
       "    }\n",
       "\n",
       "    .dataframe tbody tr th {\n",
       "        vertical-align: top;\n",
       "    }\n",
       "\n",
       "    .dataframe thead th {\n",
       "        text-align: right;\n",
       "    }\n",
       "</style>\n",
       "<table border=\"1\" class=\"dataframe\">\n",
       "  <thead>\n",
       "    <tr style=\"text-align: right;\">\n",
       "      <th></th>\n",
       "      <th>subreddit</th>\n",
       "      <th>author</th>\n",
       "      <th>timecreated</th>\n",
       "      <th>Post</th>\n",
       "    </tr>\n",
       "  </thead>\n",
       "  <tbody>\n",
       "    <tr>\n",
       "      <th>0</th>\n",
       "      <td>suicidewatch</td>\n",
       "      <td>_AbstractInsanity</td>\n",
       "      <td>2021-12-12 09:21:26</td>\n",
       "      <td>attempted yesterday i had an exit yesterday an...</td>\n",
       "    </tr>\n",
       "    <tr>\n",
       "      <th>1</th>\n",
       "      <td>suicidewatch</td>\n",
       "      <td>maxortheblade</td>\n",
       "      <td>2021-12-12 09:13:40</td>\n",
       "      <td>my bf of  years just tried to hang himself las...</td>\n",
       "    </tr>\n",
       "    <tr>\n",
       "      <th>2</th>\n",
       "      <td>suicidewatch</td>\n",
       "      <td>depressed-wowie</td>\n",
       "      <td>2021-12-12 09:12:27</td>\n",
       "      <td>he gave up because of me  we have shared many ...</td>\n",
       "    </tr>\n",
       "    <tr>\n",
       "      <th>3</th>\n",
       "      <td>suicidewatch</td>\n",
       "      <td>Kaitlyn-Wofford</td>\n",
       "      <td>2021-12-12 09:08:15</td>\n",
       "      <td>running out of options does anyone have any co...</td>\n",
       "    </tr>\n",
       "    <tr>\n",
       "      <th>4</th>\n",
       "      <td>suicidewatch</td>\n",
       "      <td>irrationalthinkerx0</td>\n",
       "      <td>2021-12-12 09:01:32</td>\n",
       "      <td>my life is shit i feel like shit  i hate mysel...</td>\n",
       "    </tr>\n",
       "  </tbody>\n",
       "</table>\n",
       "</div>"
      ],
      "text/plain": [
       "      subreddit               author          timecreated  \\\n",
       "0  suicidewatch    _AbstractInsanity  2021-12-12 09:21:26   \n",
       "1  suicidewatch        maxortheblade  2021-12-12 09:13:40   \n",
       "2  suicidewatch      depressed-wowie  2021-12-12 09:12:27   \n",
       "3  suicidewatch      Kaitlyn-Wofford  2021-12-12 09:08:15   \n",
       "4  suicidewatch  irrationalthinkerx0  2021-12-12 09:01:32   \n",
       "\n",
       "                                                Post  \n",
       "0  attempted yesterday i had an exit yesterday an...  \n",
       "1  my bf of  years just tried to hang himself las...  \n",
       "2  he gave up because of me  we have shared many ...  \n",
       "3  running out of options does anyone have any co...  \n",
       "4  my life is shit i feel like shit  i hate mysel...  "
      ]
     },
     "execution_count": 115,
     "metadata": {},
     "output_type": "execute_result"
    }
   ],
   "source": [
    "suic.head()"
   ]
  },
  {
   "cell_type": "markdown",
   "id": "7bf0bd01",
   "metadata": {},
   "source": [
    "## Preprocessing & EDA"
   ]
  },
  {
   "cell_type": "markdown",
   "id": "35b2e212",
   "metadata": {},
   "source": [
    "### CountVectorizer"
   ]
  },
  {
   "cell_type": "code",
   "execution_count": 116,
   "id": "3a868eb9",
   "metadata": {},
   "outputs": [],
   "source": [
    "cvec = CountVectorizer()"
   ]
  },
  {
   "cell_type": "code",
   "execution_count": 117,
   "id": "9afb3e19",
   "metadata": {},
   "outputs": [],
   "source": [
    "X = suic['Post']\n",
    "y = suic['subreddit']"
   ]
  },
  {
   "cell_type": "code",
   "execution_count": 118,
   "id": "017aff47",
   "metadata": {},
   "outputs": [],
   "source": [
    "# Split the data into the training and testing sets.\n",
    "X_train, X_test, y_train, y_test = train_test_split(X,\n",
    "                                                    y,\n",
    "                                                    test_size=0.33,\n",
    "                                                    stratify=y,\n",
    "                                                    random_state=42)"
   ]
  },
  {
   "cell_type": "code",
   "execution_count": 119,
   "id": "51e74d91",
   "metadata": {},
   "outputs": [],
   "source": [
    "Xcvec_train = cvec.fit_transform(X_train)"
   ]
  },
  {
   "cell_type": "code",
   "execution_count": 120,
   "id": "3986f8f7",
   "metadata": {},
   "outputs": [],
   "source": [
    "Xcvec_test = cvec.transform(X_test)"
   ]
  },
  {
   "cell_type": "code",
   "execution_count": 121,
   "id": "5af01dfb",
   "metadata": {},
   "outputs": [
    {
     "data": {
      "text/plain": [
       "(9323, 19405)"
      ]
     },
     "execution_count": 121,
     "metadata": {},
     "output_type": "execute_result"
    }
   ],
   "source": [
    "Xcvec_train.shape"
   ]
  },
  {
   "cell_type": "code",
   "execution_count": 122,
   "id": "450a0e03",
   "metadata": {},
   "outputs": [
    {
     "data": {
      "image/png": "[encoded data removed]",
      "text/plain": [
       "<Figure size 432x288 with 1 Axes>"
      ]
     },
     "metadata": {
      "needs_background": "light"
     },
     "output_type": "display_data"
    }
   ],
   "source": [
    "# Convert X_train into a DataFrame.\n",
    "# We will not actually use this for modeling,\n",
    "# this is just to visualize what is happening\n",
    "Xcv_train_df = pd.DataFrame(Xcvec_train.todense(), \n",
    "                          columns=cvec.get_feature_names_out())\n",
    "\n",
    "# Xcv_train\n",
    "Xcv_train_df.head()\n",
    "\n",
    "# print(type(Xcv_train))\n",
    "# print(Xcv_train[0])\n",
    "\n",
    "# cvec.get_feature_names()[:10]\n",
    "\n",
    "# plot top occuring words\n",
    "Xcv_train_df.sum().sort_values(ascending = False).head(10).plot(kind = 'barh');"
   ]
  },
  {
   "cell_type": "code",
   "execution_count": 123,
   "id": "e87818d3",
   "metadata": {},
   "outputs": [
    {
     "name": "stdout",
     "output_type": "stream",
     "text": [
      "frozenset({'herself', 'next', 'too', 'neither', 'into', 'whereas', 'yet', 'every', 'everywhere', 'serious', 'forty', 'around', 'were', 'alone', 'hereafter', 'whenever', 'had', 'as', 'many', 'have', 'whoever', 'anyone', 'find', 'who', 'are', 'must', 'again', 'sometimes', 'why', 'go', 'ltd', 'will', 'made', 'someone', 'becoming', 'any', 'another', 'con', 'his', 'without', 'throughout', 'nor', 'through', 'eleven', 'indeed', 'after', 'besides', 'has', 'he', 'where', 'hereupon', 'keep', 'mostly', 'became', 'own', 'other', 'towards', 'whither', 'well', 'thence', 'these', 'while', 'your', 'always', 'from', 'very', 'sincere', 'therefore', 'hence', 'because', 'cant', 'do', 'of', 'somewhere', 'along', 'that', 'upon', 'toward', 'an', 'am', 'together', 'and', 'below', 'due', 'ever', 'above', 'namely', 'hundred', 'their', 'hers', 'then', 'per', 'yourself', 'whereby', 'via', 'no', 'most', 'whose', 'somehow', 'can', 'bill', 'de', 'anyhow', 'noone', 'also', 'amoungst', 'over', 'some', 'there', 'becomes', 'beyond', 'bottom', 'eight', 'during', 'something', 'please', 'couldnt', 'never', 'several', 'would', 'yours', 'being', 'seems', 'but', 'nothing', 'since', 'up', 'ie', 'him', 'third', 'put', 'anywhere', 'mine', 'ourselves', 'enough', 'seeming', 'formerly', 'than', 'those', 'ours', 'thus', 'only', 'top', 'so', 'cry', 'fill', 'side', 'among', 'sixty', 'out', 'thereby', 'whatever', 'on', 'been', 'describe', 'to', 'whereupon', 'should', 'move', 'etc', 'beside', 'inc', 'least', 'them', 'with', 'three', 'across', 'few', 'may', 'part', 'back', 'against', 'elsewhere', 'except', 'himself', 'or', 'first', 'thereafter', 'often', 'fifty', 'which', 'found', 'already', 'six', 'about', 'myself', 'mill', 'call', 'me', 'be', 'amongst', 'almost', 'until', 'still', 'for', 'otherwise', 'twelve', 'moreover', 'become', 'anything', 'my', 'four', 'might', 'show', 'system', 'thin', 'perhaps', 'afterwards', 'cannot', 'whereafter', 'thereupon', 'once', 'before', 'all', 'she', 'hasnt', 'twenty', 'wherein', 'front', 'therein', 'us', 'none', 'although', 'by', 'whom', 'her', 'hereby', 'amount', 'rather', 'yourselves', 'we', 'nevertheless', 'you', 'more', 'the', 'could', 'eg', 'latterly', 'when', 'they', 'even', 'itself', 'name', 'anyway', 'full', 'though', 'get', 'give', 'between', 'behind', 'sometime', 'themselves', 'seemed', 'one', 'down', 'its', 'else', 'detail', 'however', 'what', 'i', 'herein', 're', 'fifteen', 'see', 'wherever', 'how', 'nowhere', 'now', 'it', 'five', 'whence', 'under', 'not', 'meanwhile', 'off', 'take', 'onto', 'same', 'empty', 'such', 'everything', 'further', 'at', 'our', 'this', 'beforehand', 'ten', 'whether', 'two', 'seem', 'in', 'last', 'done', 'within', 'whole', 'both', 'former', 'un', 'co', 'fire', 'if', 'thick', 'much', 'thru', 'here', 'a', 'less', 'each', 'others', 'nine', 'interest', 'is', 'was', 'everyone', 'either', 'nobody', 'latter'})\n"
     ]
    }
   ],
   "source": [
    "print(CountVectorizer(stop_words = 'english').get_stop_words())"
   ]
  },
  {
   "cell_type": "code",
   "execution_count": 124,
   "id": "7b905b8a",
   "metadata": {},
   "outputs": [],
   "source": [
    "cvec2 = CountVectorizer(stop_words = 'english')"
   ]
  },
  {
   "cell_type": "code",
   "execution_count": 125,
   "id": "598d2e62",
   "metadata": {},
   "outputs": [],
   "source": [
    "Xcvec_train = cvec2.fit_transform(X_train)\n",
    "Xcvec_test = cvec2.transform(X_test)"
   ]
  },
  {
   "cell_type": "code",
   "execution_count": 126,
   "id": "6a46faca",
   "metadata": {},
   "outputs": [
    {
     "data": {
      "text/plain": [
       "(9323, 19105)"
      ]
     },
     "execution_count": 126,
     "metadata": {},
     "output_type": "execute_result"
    }
   ],
   "source": [
    "Xcvec_train.shape"
   ]
  },
  {
   "cell_type": "code",
   "execution_count": 127,
   "id": "c26319a6",
   "metadata": {},
   "outputs": [
    {
     "data": {
      "image/png": "[encoded data removed]",
      "text/plain": [
       "<Figure size 432x288 with 1 Axes>"
      ]
     },
     "metadata": {
      "needs_background": "light"
     },
     "output_type": "display_data"
    }
   ],
   "source": [
    "# Convert X_train into a DataFrame.\n",
    "# We will not actually use this for modeling,\n",
    "# this is just to visualize what is happening\n",
    "Xcv_train_df = pd.DataFrame(Xcvec_train.todense(), \n",
    "                          columns=cvec2.get_feature_names_out())\n",
    "\n",
    "# Xcv_train\n",
    "Xcv_train_df.head()\n",
    "\n",
    "# print(type(Xcv_train))\n",
    "# print(Xcv_train[0])\n",
    "\n",
    "# cvec.get_feature_names()[:10]\n",
    "\n",
    "# plot top occuring words\n",
    "Xcv_train_df.sum().sort_values(ascending = False).head(10).plot(kind = 'barh');"
   ]
  },
  {
   "cell_type": "markdown",
   "id": "5eacf1b4",
   "metadata": {},
   "source": [
    "'ve' seems like what would come after special characters; same with 'don' seems like it could be 'don't' ~ will try removing special characters through regex"
   ]
  },
  {
   "cell_type": "code",
   "execution_count": 128,
   "id": "3084c1d2",
   "metadata": {},
   "outputs": [],
   "source": [
    "s = suic['Post']"
   ]
  },
  {
   "cell_type": "code",
   "execution_count": 129,
   "id": "ccccf469",
   "metadata": {},
   "outputs": [],
   "source": [
    "suic['Post1'] = suic['Post'].replace('\\'`', '', regex = True)"
   ]
  },
  {
   "cell_type": "code",
   "execution_count": 130,
   "id": "bdc872db",
   "metadata": {},
   "outputs": [
    {
     "data": {
      "text/plain": [
       "0        attempted yesterday i had an exit yesterday an...\n",
       "1        my bf of  years just tried to hang himself las...\n",
       "2        he gave up because of me  we have shared many ...\n",
       "3        running out of options does anyone have any co...\n",
       "4        my life is shit i feel like shit  i hate mysel...\n",
       "                               ...                        \n",
       "13910    birthday bash wuhoo i m gonna be  soon and i k...\n",
       "13911    i feel like everyone hates me i feel so unwant...\n",
       "13912    im so desperate for love i let men treat me li...\n",
       "13913    dumb girl that can t even take her own life i ...\n",
       "13914    covid ruined my life i first tries to kill mys...\n",
       "Name: Post1, Length: 13915, dtype: object"
      ]
     },
     "execution_count": 130,
     "metadata": {},
     "output_type": "execute_result"
    }
   ],
   "source": [
    "suic['Post1']"
   ]
  },
  {
   "cell_type": "code",
   "execution_count": 131,
   "id": "f299a3a3",
   "metadata": {},
   "outputs": [],
   "source": [
    "X = suic['Post1']\n",
    "y = suic['subreddit']"
   ]
  },
  {
   "cell_type": "code",
   "execution_count": 132,
   "id": "ad670992",
   "metadata": {},
   "outputs": [
    {
     "data": {
      "text/plain": [
       "0        attempted yesterday i had an exit yesterday an...\n",
       "1        my bf of  years just tried to hang himself las...\n",
       "2        he gave up because of me  we have shared many ...\n",
       "3        running out of options does anyone have any co...\n",
       "4        my life is shit i feel like shit  i hate mysel...\n",
       "                               ...                        \n",
       "13910    birthday bash wuhoo i m gonna be  soon and i k...\n",
       "13911    i feel like everyone hates me i feel so unwant...\n",
       "13912    im so desperate for love i let men treat me li...\n",
       "13913    dumb girl that can t even take her own life i ...\n",
       "13914    covid ruined my life i first tries to kill mys...\n",
       "Name: Post1, Length: 13915, dtype: object"
      ]
     },
     "execution_count": 132,
     "metadata": {},
     "output_type": "execute_result"
    }
   ],
   "source": [
    "X "
   ]
  },
  {
   "cell_type": "code",
   "execution_count": 133,
   "id": "9aa9c252",
   "metadata": {},
   "outputs": [
    {
     "data": {
      "text/html": [
       "<div>\n",
       "<style scoped>\n",
       "    .dataframe tbody tr th:only-of-type {\n",
       "        vertical-align: middle;\n",
       "    }\n",
       "\n",
       "    .dataframe tbody tr th {\n",
       "        vertical-align: top;\n",
       "    }\n",
       "\n",
       "    .dataframe thead th {\n",
       "        text-align: right;\n",
       "    }\n",
       "</style>\n",
       "<table border=\"1\" class=\"dataframe\">\n",
       "  <thead>\n",
       "    <tr style=\"text-align: right;\">\n",
       "      <th></th>\n",
       "      <th>subreddit</th>\n",
       "      <th>author</th>\n",
       "      <th>timecreated</th>\n",
       "      <th>Post</th>\n",
       "      <th>Post1</th>\n",
       "    </tr>\n",
       "  </thead>\n",
       "  <tbody>\n",
       "    <tr>\n",
       "      <th>0</th>\n",
       "      <td>suicidewatch</td>\n",
       "      <td>_AbstractInsanity</td>\n",
       "      <td>2021-12-12 09:21:26</td>\n",
       "      <td>attempted yesterday i had an exit yesterday an...</td>\n",
       "      <td>attempted yesterday i had an exit yesterday an...</td>\n",
       "    </tr>\n",
       "    <tr>\n",
       "      <th>1</th>\n",
       "      <td>suicidewatch</td>\n",
       "      <td>maxortheblade</td>\n",
       "      <td>2021-12-12 09:13:40</td>\n",
       "      <td>my bf of  years just tried to hang himself las...</td>\n",
       "      <td>my bf of  years just tried to hang himself las...</td>\n",
       "    </tr>\n",
       "    <tr>\n",
       "      <th>2</th>\n",
       "      <td>suicidewatch</td>\n",
       "      <td>depressed-wowie</td>\n",
       "      <td>2021-12-12 09:12:27</td>\n",
       "      <td>he gave up because of me  we have shared many ...</td>\n",
       "      <td>he gave up because of me  we have shared many ...</td>\n",
       "    </tr>\n",
       "    <tr>\n",
       "      <th>3</th>\n",
       "      <td>suicidewatch</td>\n",
       "      <td>Kaitlyn-Wofford</td>\n",
       "      <td>2021-12-12 09:08:15</td>\n",
       "      <td>running out of options does anyone have any co...</td>\n",
       "      <td>running out of options does anyone have any co...</td>\n",
       "    </tr>\n",
       "    <tr>\n",
       "      <th>4</th>\n",
       "      <td>suicidewatch</td>\n",
       "      <td>irrationalthinkerx0</td>\n",
       "      <td>2021-12-12 09:01:32</td>\n",
       "      <td>my life is shit i feel like shit  i hate mysel...</td>\n",
       "      <td>my life is shit i feel like shit  i hate mysel...</td>\n",
       "    </tr>\n",
       "  </tbody>\n",
       "</table>\n",
       "</div>"
      ],
      "text/plain": [
       "      subreddit               author          timecreated  \\\n",
       "0  suicidewatch    _AbstractInsanity  2021-12-12 09:21:26   \n",
       "1  suicidewatch        maxortheblade  2021-12-12 09:13:40   \n",
       "2  suicidewatch      depressed-wowie  2021-12-12 09:12:27   \n",
       "3  suicidewatch      Kaitlyn-Wofford  2021-12-12 09:08:15   \n",
       "4  suicidewatch  irrationalthinkerx0  2021-12-12 09:01:32   \n",
       "\n",
       "                                                Post  \\\n",
       "0  attempted yesterday i had an exit yesterday an...   \n",
       "1  my bf of  years just tried to hang himself las...   \n",
       "2  he gave up because of me  we have shared many ...   \n",
       "3  running out of options does anyone have any co...   \n",
       "4  my life is shit i feel like shit  i hate mysel...   \n",
       "\n",
       "                                               Post1  \n",
       "0  attempted yesterday i had an exit yesterday an...  \n",
       "1  my bf of  years just tried to hang himself las...  \n",
       "2  he gave up because of me  we have shared many ...  \n",
       "3  running out of options does anyone have any co...  \n",
       "4  my life is shit i feel like shit  i hate mysel...  "
      ]
     },
     "execution_count": 133,
     "metadata": {},
     "output_type": "execute_result"
    }
   ],
   "source": [
    "suic.head()"
   ]
  },
  {
   "cell_type": "code",
   "execution_count": 134,
   "id": "ec8d6dda",
   "metadata": {},
   "outputs": [],
   "source": [
    "# Split the data into the training and testing sets.\n",
    "X_train, X_test, y_train, y_test = train_test_split(X,\n",
    "                                                    y,\n",
    "                                                    test_size=0.33,\n",
    "                                                    stratify=y,\n",
    "                                                    random_state=42)"
   ]
  },
  {
   "cell_type": "code",
   "execution_count": 135,
   "id": "1d733460",
   "metadata": {},
   "outputs": [],
   "source": [
    "cvec3 = CountVectorizer(stop_words = 'english', max_features = 2_000, max_df = .98, ngram_range=(1,2))"
   ]
  },
  {
   "cell_type": "code",
   "execution_count": 136,
   "id": "7e394ccf",
   "metadata": {},
   "outputs": [],
   "source": [
    "Xcvec_train = cvec3.fit_transform(X_train)\n",
    "Xcvec_test = cvec3.transform(X_test)"
   ]
  },
  {
   "cell_type": "code",
   "execution_count": 137,
   "id": "eafc6a0d",
   "metadata": {},
   "outputs": [
    {
     "data": {
      "text/plain": [
       "(9323, 2000)"
      ]
     },
     "execution_count": 137,
     "metadata": {},
     "output_type": "execute_result"
    }
   ],
   "source": [
    "Xcvec_train.shape"
   ]
  },
  {
   "cell_type": "code",
   "execution_count": 138,
   "id": "2da25267",
   "metadata": {},
   "outputs": [
    {
     "data": {
      "image/png": "[encoded data removed]",
      "text/plain": [
       "<Figure size 432x288 with 1 Axes>"
      ]
     },
     "metadata": {
      "needs_background": "light"
     },
     "output_type": "display_data"
    }
   ],
   "source": [
    "# Convert X_train into a DataFrame.\n",
    "# We will not actually use this for modeling,\n",
    "# this is just to visualize what is happening\n",
    "Xcv_train_df = pd.DataFrame(Xcvec_train.todense(), \n",
    "                          columns=cvec3.get_feature_names_out())\n",
    "\n",
    "# Xcv_train\n",
    "Xcv_train_df.head()\n",
    "\n",
    "# print(type(Xcv_train))\n",
    "# print(Xcv_train[0])\n",
    "\n",
    "# cvec.get_feature_names()[:10]\n",
    "\n",
    "# plot top occuring words\n",
    "Xcv_train_df.sum().sort_values(ascending = False).head(10).plot(kind = 'barh');"
   ]
  },
  {
   "cell_type": "markdown",
   "id": "ad9a357c",
   "metadata": {},
   "source": [
    "Really tricky to remove convert 've' and 'don' into their full non-contraction form through Regex...will try adding as custom stop words. Will also add 'like'"
   ]
  },
  {
   "cell_type": "code",
   "execution_count": 139,
   "id": "569afa62",
   "metadata": {},
   "outputs": [],
   "source": [
    "custom_stopwords = ['ve', 'don', 'like', 'herself', 'next', 'too', 'neither', 'into', 'whereas', 'yet', 'every', 'everywhere', 'serious', 'forty', 'around', 'were', 'alone', 'hereafter', 'whenever', 'had', 'as', 'many', 'have', 'whoever', 'anyone', 'find', 'who', 'are', 'must', 'again', 'sometimes', 'why', 'go', 'ltd', 'will', 'made', 'someone', 'becoming', 'any', 'another', 'con', 'his', 'without', 'throughout', 'nor', 'through', 'eleven', 'indeed', 'after', 'besides', 'has', 'he', 'where', 'hereupon', 'keep', 'mostly', 'became', 'own', 'other', 'towards', 'whither', 'well', 'thence', 'these', 'while', 'your', 'always', 'from', 'very', 'sincere', 'therefore', 'hence', 'because', 'cant', 'do', 'of', 'somewhere', 'along', 'that', 'upon', 'toward', 'an', 'am', 'together', 'and', 'below', 'due', 'ever', 'above', 'namely', 'hundred', 'their', 'hers', 'then', 'per', 'yourself', 'whereby', 'via', 'no', 'most', 'whose', 'somehow', 'can', 'bill', 'de', 'anyhow', 'noone', 'also', 'amoungst', 'over', 'some', 'there', 'becomes', 'beyond', 'bottom', 'eight', 'during', 'something', 'please', 'couldnt', 'never', 'several', 'would', 'yours', 'being', 'seems', 'but', 'nothing', 'since', 'up', 'ie', 'him', 'third', 'put', 'anywhere', 'mine', 'ourselves', 'enough', 'seeming', 'formerly', 'than', 'those', 'ours', 'thus', 'only', 'top', 'so', 'cry', 'fill', 'side', 'among', 'sixty', 'out', 'thereby', 'whatever', 'on', 'been', 'describe', 'to', 'whereupon', 'should', 'move', 'etc', 'beside', 'inc', 'least', 'them', 'with', 'three', 'across', 'few', 'may', 'part', 'back', 'against', 'elsewhere', 'except', 'himself', 'or', 'first', 'thereafter', 'often', 'fifty', 'which', 'found', 'already', 'six', 'about', 'myself', 'mill', 'call', 'me', 'be', 'amongst', 'almost', 'until', 'still', 'for', 'otherwise', 'twelve', 'moreover', 'become', 'anything', 'my', 'four', 'might', 'show', 'system', 'thin', 'perhaps', 'afterwards', 'cannot', 'whereafter', 'thereupon', 'once', 'before', 'all', 'she', 'hasnt', 'twenty', 'wherein', 'front', 'therein', 'us', 'none', 'although', 'by', 'whom', 'her', 'hereby', 'amount', 'rather', 'yourselves', 'we', 'nevertheless', 'you', 'more', 'the', 'could', 'eg', 'latterly', 'when', 'they', 'even', 'itself', 'name', 'anyway', 'full', 'though', 'get', 'give', 'between', 'behind', 'sometime', 'themselves', 'seemed', 'one', 'down', 'its', 'else', 'detail', 'however', 'what', 'i', 'herein', 're', 'fifteen', 'see', 'wherever', 'how', 'nowhere', 'now', 'it', 'five', 'whence', 'under', 'not', 'meanwhile', 'off', 'take', 'onto', 'same', 'empty', 'such', 'everything', 'further', 'at', 'our', 'this', 'beforehand', 'ten', 'whether', 'two', 'seem', 'in', 'last', 'done', 'within', 'whole', 'both', 'former', 'un', 'co', 'fire', 'if', 'thick', 'much', 'thru', 'here', 'a', 'less', 'each', 'others', 'nine', 'interest', 'is', 'was', 'everyone', 'either', 'nobody', 'latter' ]"
   ]
  },
  {
   "cell_type": "code",
   "execution_count": 140,
   "id": "f7286814",
   "metadata": {},
   "outputs": [],
   "source": [
    "cvec4 = CountVectorizer(stop_words = custom_stopwords, max_features = 2_000, max_df = .98, ngram_range=(1,2))"
   ]
  },
  {
   "cell_type": "code",
   "execution_count": 141,
   "id": "1625e9b2",
   "metadata": {},
   "outputs": [],
   "source": [
    "Xcvec_train = cvec4.fit_transform(X_train)\n",
    "Xcvec_test = cvec4.transform(X_test)"
   ]
  },
  {
   "cell_type": "code",
   "execution_count": 142,
   "id": "3afe68ef",
   "metadata": {},
   "outputs": [
    {
     "data": {
      "text/plain": [
       "(9323, 2000)"
      ]
     },
     "execution_count": 142,
     "metadata": {},
     "output_type": "execute_result"
    }
   ],
   "source": [
    "Xcvec_train.shape"
   ]
  },
  {
   "cell_type": "code",
   "execution_count": 143,
   "id": "c305868a",
   "metadata": {},
   "outputs": [
    {
     "data": {
      "image/png": "[encoded data removed]",
      "text/plain": [
       "<Figure size 432x288 with 1 Axes>"
      ]
     },
     "metadata": {
      "needs_background": "light"
     },
     "output_type": "display_data"
    }
   ],
   "source": [
    "# Convert X_train into a DataFrame.\n",
    "# We will not actually use this for modeling,\n",
    "# this is just to visualize what is happening\n",
    "Xcv_train_df = pd.DataFrame(Xcvec_train.todense(), \n",
    "                          columns=cvec4.get_feature_names_out())\n",
    "\n",
    "# Xcv_train\n",
    "Xcv_train_df.head()\n",
    "\n",
    "# print(type(Xcv_train))\n",
    "# print(Xcv_train[0])\n",
    "\n",
    "# cvec.get_feature_names()[:10]\n",
    "\n",
    "# plot top occuring words\n",
    "Xcv_train_df.sum().sort_values(ascending = False).head(10).plot(kind = 'barh');"
   ]
  },
  {
   "cell_type": "code",
   "execution_count": 144,
   "id": "23efa973",
   "metadata": {},
   "outputs": [],
   "source": [
    "suic_df = suic[['Post1', 'subreddit']]"
   ]
  },
  {
   "cell_type": "code",
   "execution_count": 145,
   "id": "ea9191f5",
   "metadata": {},
   "outputs": [
    {
     "data": {
      "text/html": [
       "<div>\n",
       "<style scoped>\n",
       "    .dataframe tbody tr th:only-of-type {\n",
       "        vertical-align: middle;\n",
       "    }\n",
       "\n",
       "    .dataframe tbody tr th {\n",
       "        vertical-align: top;\n",
       "    }\n",
       "\n",
       "    .dataframe thead th {\n",
       "        text-align: right;\n",
       "    }\n",
       "</style>\n",
       "<table border=\"1\" class=\"dataframe\">\n",
       "  <thead>\n",
       "    <tr style=\"text-align: right;\">\n",
       "      <th></th>\n",
       "      <th>Post1</th>\n",
       "      <th>subreddit</th>\n",
       "    </tr>\n",
       "  </thead>\n",
       "  <tbody>\n",
       "    <tr>\n",
       "      <th>0</th>\n",
       "      <td>attempted yesterday i had an exit yesterday an...</td>\n",
       "      <td>suicidewatch</td>\n",
       "    </tr>\n",
       "    <tr>\n",
       "      <th>1</th>\n",
       "      <td>my bf of  years just tried to hang himself las...</td>\n",
       "      <td>suicidewatch</td>\n",
       "    </tr>\n",
       "    <tr>\n",
       "      <th>2</th>\n",
       "      <td>he gave up because of me  we have shared many ...</td>\n",
       "      <td>suicidewatch</td>\n",
       "    </tr>\n",
       "    <tr>\n",
       "      <th>3</th>\n",
       "      <td>running out of options does anyone have any co...</td>\n",
       "      <td>suicidewatch</td>\n",
       "    </tr>\n",
       "    <tr>\n",
       "      <th>4</th>\n",
       "      <td>my life is shit i feel like shit  i hate mysel...</td>\n",
       "      <td>suicidewatch</td>\n",
       "    </tr>\n",
       "  </tbody>\n",
       "</table>\n",
       "</div>"
      ],
      "text/plain": [
       "                                               Post1     subreddit\n",
       "0  attempted yesterday i had an exit yesterday an...  suicidewatch\n",
       "1  my bf of  years just tried to hang himself las...  suicidewatch\n",
       "2  he gave up because of me  we have shared many ...  suicidewatch\n",
       "3  running out of options does anyone have any co...  suicidewatch\n",
       "4  my life is shit i feel like shit  i hate mysel...  suicidewatch"
      ]
     },
     "execution_count": 145,
     "metadata": {},
     "output_type": "execute_result"
    }
   ],
   "source": [
    "suic_df.head()"
   ]
  },
  {
   "cell_type": "code",
   "execution_count": 146,
   "id": "c38d23a6",
   "metadata": {},
   "outputs": [],
   "source": [
    "corpus = list(suic_df['Post1'])"
   ]
  },
  {
   "cell_type": "code",
   "execution_count": 147,
   "id": "6bcf83be",
   "metadata": {},
   "outputs": [
    {
     "data": {
      "text/plain": [
       "['attempted yesterday i had an exit yesterday and i went for it unfortunately there was some noise involved and a neighbor found me now i m under supervision at home i know they leave on wednesday and i have everything ready for another attempt a silent one this time at another location   i don t want to follow through but i don t know how else i can end my pain i have suffered enough and i m confident i found a painless and safe method it even leaves a pretty corpse for my family to bury',\n",
       " 'my bf of  years just tried to hang himself last night can someone give me some advice as to how i can make him feel better ',\n",
       " 'he gave up because of me  we have shared many great memories but the emotional turmoil was too much for me to endure and i had to let him go however he has made it clear he can t live without me and i will forever blame myself for that i love you so much but i wish more than anything that we had never met at least not when we did i don t think i can keep going with the knowledge that you won t be walking the earth anymore i may resent your actions but i could never hate you   i am so sorry to anyone i will end up hurting i don t believe i am cut out for living everything is too painful ',\n",
       " 'running out of options does anyone have any coping mechanisms you use to get through the day i only have one and cutting my wrists to shreds isn t exactly a healthy coping mechanism ',\n",
       " 'my life is shit i feel like shit  i hate myself my life has never been perfect from the outside it may seem like it but inside i hate myself soooooooo much  i m so insecure  i hate my body i hate my face i ve always hated myself always  then my family always judging me and peg me out to be a person  i make stupid irrational decisions  i can t hold friendships  i m  and i have no goals in my life  i have nothing going for myself  each day that i wake up i hate myself even more  why do i have to keep on being here  i never asked to be born i wish i can trade my life for someone who really needs it  not me  i tried killing myself numerous times and it never worked  i don t know if i will try it again  i mean it can get scary  especially what i did i drowned two times unintentional and still made it out alive ugh please god just let me goooooooooooo',\n",
       " 'any painless ways to commit suicide    ',\n",
       " 'abused most of my life in many different ways bullied at school don t have any actual friends feels so suffocating to be alive let me die peacefully my life is wrong and i shouldn t have been born ',\n",
       " 'i m about to kill myself i need someone to talk me out of this',\n",
       " 'my life is going no where i m   lost contact with my friends manged to sleep at  am i feel shit like never before ',\n",
       " 'the prescription keeps actual suicide at a distance  but the thought is still there i wish i could have a massive heart attack and it s all due to money  sorry for my long rambling  i m hoping that writing this down will help    i m  m married with two teen boys  i work two jobs that don t pay great  wife works too  and i m living a lie  everyone thinks things are going just fine for us  that lie has put us into trouble    we spend more than we make and we know it too well  but nothing changes  i m foolish for allowing it to get this bad  i should have been stronger  we ve had to draw from money we were entrusted to hold on to for the future  and i feel so ashamed  we live in a beautiful mid sized home built in    we recently got a home equity loan to pay off credit cards however some recent damage to our home is going to drain us financially    about  years ago i went back to school to get a nursing degree  took all the prerequisites and applied  times and couldn t get in my student loans have been on pause during the pandemic  but in february i have to start paying that again  but if i die those go away   there s plenty of life insurance on me that my family would be able to pay off the looming debts   i feel like i let everyone down by allowing the money problem to get so bad  could i have put my foot down and stopped it  probably not  nobody listens to me   i tried therapy  twice  both had to be virtual  first person always seemed to be reading from a script and not listening  second therapist started out great but then spent an entire session reading tips from a website about how to get better sleep  when i tried to talk about a traumatic event she cut me off to say well i don t think you re ready to talk about that yet   then she ended our session early   not sure therapy would help anyway   better if i m just gone for good  wife and kids would be sad  so would my parents and sister    a heart attack or some quick fatal accident would be welcomed  if it happened in my car and it got totalled then insurance would pay that off too    one can only hope but i need something to happen soon or i will end it myself by the end of january ']"
      ]
     },
     "execution_count": 147,
     "metadata": {},
     "output_type": "execute_result"
    }
   ],
   "source": [
    "corpus[:10]"
   ]
  },
  {
   "cell_type": "code",
   "execution_count": 148,
   "id": "1f2c69b7",
   "metadata": {},
   "outputs": [],
   "source": [
    "sia = SentimentIntensityAnalyzer()"
   ]
  },
  {
   "cell_type": "code",
   "execution_count": 149,
   "id": "e31bc9fb",
   "metadata": {},
   "outputs": [
    {
     "data": {
      "text/plain": [
       "{'neg': 0.163, 'neu': 0.658, 'pos': 0.178, 'compound': 0.1406}"
      ]
     },
     "execution_count": 149,
     "metadata": {},
     "output_type": "execute_result"
    }
   ],
   "source": [
    "sia.polarity_scores(corpus[0])"
   ]
  },
  {
   "cell_type": "code",
   "execution_count": 151,
   "id": "281275ff",
   "metadata": {},
   "outputs": [
    {
     "data": {
      "text/html": [
       "<div>\n",
       "<style scoped>\n",
       "    .dataframe tbody tr th:only-of-type {\n",
       "        vertical-align: middle;\n",
       "    }\n",
       "\n",
       "    .dataframe tbody tr th {\n",
       "        vertical-align: top;\n",
       "    }\n",
       "\n",
       "    .dataframe thead th {\n",
       "        text-align: right;\n",
       "    }\n",
       "</style>\n",
       "<table border=\"1\" class=\"dataframe\">\n",
       "  <thead>\n",
       "    <tr style=\"text-align: right;\">\n",
       "      <th></th>\n",
       "      <th>neg</th>\n",
       "      <th>neu</th>\n",
       "      <th>pos</th>\n",
       "      <th>compound</th>\n",
       "      <th>Post1</th>\n",
       "    </tr>\n",
       "  </thead>\n",
       "  <tbody>\n",
       "    <tr>\n",
       "      <th>0</th>\n",
       "      <td>0.163</td>\n",
       "      <td>0.658</td>\n",
       "      <td>0.178</td>\n",
       "      <td>0.1406</td>\n",
       "      <td>attempted yesterday i had an exit yesterday an...</td>\n",
       "    </tr>\n",
       "    <tr>\n",
       "      <th>1</th>\n",
       "      <td>0.000</td>\n",
       "      <td>0.892</td>\n",
       "      <td>0.108</td>\n",
       "      <td>0.4404</td>\n",
       "      <td>my bf of  years just tried to hang himself las...</td>\n",
       "    </tr>\n",
       "    <tr>\n",
       "      <th>2</th>\n",
       "      <td>0.141</td>\n",
       "      <td>0.665</td>\n",
       "      <td>0.194</td>\n",
       "      <td>0.8683</td>\n",
       "      <td>he gave up because of me  we have shared many ...</td>\n",
       "    </tr>\n",
       "    <tr>\n",
       "      <th>3</th>\n",
       "      <td>0.045</td>\n",
       "      <td>0.873</td>\n",
       "      <td>0.081</td>\n",
       "      <td>0.2960</td>\n",
       "      <td>running out of options does anyone have any co...</td>\n",
       "    </tr>\n",
       "    <tr>\n",
       "      <th>4</th>\n",
       "      <td>0.299</td>\n",
       "      <td>0.588</td>\n",
       "      <td>0.113</td>\n",
       "      <td>-0.9927</td>\n",
       "      <td>my life is shit i feel like shit  i hate mysel...</td>\n",
       "    </tr>\n",
       "  </tbody>\n",
       "</table>\n",
       "</div>"
      ],
      "text/plain": [
       "     neg    neu    pos  compound  \\\n",
       "0  0.163  0.658  0.178    0.1406   \n",
       "1  0.000  0.892  0.108    0.4404   \n",
       "2  0.141  0.665  0.194    0.8683   \n",
       "3  0.045  0.873  0.081    0.2960   \n",
       "4  0.299  0.588  0.113   -0.9927   \n",
       "\n",
       "                                               Post1  \n",
       "0  attempted yesterday i had an exit yesterday an...  \n",
       "1  my bf of  years just tried to hang himself las...  \n",
       "2  he gave up because of me  we have shared many ...  \n",
       "3  running out of options does anyone have any co...  \n",
       "4  my life is shit i feel like shit  i hate mysel...  "
      ]
     },
     "execution_count": 151,
     "metadata": {},
     "output_type": "execute_result"
    }
   ],
   "source": [
    "sentiment = []\n",
    "\n",
    "for posts in corpus:\n",
    "    scores = sia.polarity_scores(posts)\n",
    "    scores['Post1'] = posts\n",
    "    sentiment.append(scores)\n",
    "\n",
    "df = pd.DataFrame(sentiment)\n",
    "df.head()"
   ]
  },
  {
   "cell_type": "code",
   "execution_count": 152,
   "id": "4c269b7f",
   "metadata": {},
   "outputs": [
    {
     "data": {
      "text/html": [
       "<div>\n",
       "<style scoped>\n",
       "    .dataframe tbody tr th:only-of-type {\n",
       "        vertical-align: middle;\n",
       "    }\n",
       "\n",
       "    .dataframe tbody tr th {\n",
       "        vertical-align: top;\n",
       "    }\n",
       "\n",
       "    .dataframe thead th {\n",
       "        text-align: right;\n",
       "    }\n",
       "</style>\n",
       "<table border=\"1\" class=\"dataframe\">\n",
       "  <thead>\n",
       "    <tr style=\"text-align: right;\">\n",
       "      <th></th>\n",
       "      <th>neg</th>\n",
       "      <th>neu</th>\n",
       "      <th>pos</th>\n",
       "      <th>compound</th>\n",
       "      <th>Post1</th>\n",
       "    </tr>\n",
       "  </thead>\n",
       "  <tbody>\n",
       "    <tr>\n",
       "      <th>13910</th>\n",
       "      <td>0.072</td>\n",
       "      <td>0.842</td>\n",
       "      <td>0.086</td>\n",
       "      <td>0.0510</td>\n",
       "      <td>birthday bash wuhoo i m gonna be  soon and i k...</td>\n",
       "    </tr>\n",
       "    <tr>\n",
       "      <th>13911</th>\n",
       "      <td>0.274</td>\n",
       "      <td>0.566</td>\n",
       "      <td>0.160</td>\n",
       "      <td>-0.7072</td>\n",
       "      <td>i feel like everyone hates me i feel so unwant...</td>\n",
       "    </tr>\n",
       "    <tr>\n",
       "      <th>13912</th>\n",
       "      <td>0.067</td>\n",
       "      <td>0.753</td>\n",
       "      <td>0.180</td>\n",
       "      <td>0.8125</td>\n",
       "      <td>im so desperate for love i let men treat me li...</td>\n",
       "    </tr>\n",
       "    <tr>\n",
       "      <th>13913</th>\n",
       "      <td>0.338</td>\n",
       "      <td>0.617</td>\n",
       "      <td>0.045</td>\n",
       "      <td>-0.9900</td>\n",
       "      <td>dumb girl that can t even take her own life i ...</td>\n",
       "    </tr>\n",
       "    <tr>\n",
       "      <th>13914</th>\n",
       "      <td>0.123</td>\n",
       "      <td>0.753</td>\n",
       "      <td>0.125</td>\n",
       "      <td>-0.4665</td>\n",
       "      <td>covid ruined my life i first tries to kill mys...</td>\n",
       "    </tr>\n",
       "  </tbody>\n",
       "</table>\n",
       "</div>"
      ],
      "text/plain": [
       "         neg    neu    pos  compound  \\\n",
       "13910  0.072  0.842  0.086    0.0510   \n",
       "13911  0.274  0.566  0.160   -0.7072   \n",
       "13912  0.067  0.753  0.180    0.8125   \n",
       "13913  0.338  0.617  0.045   -0.9900   \n",
       "13914  0.123  0.753  0.125   -0.4665   \n",
       "\n",
       "                                                   Post1  \n",
       "13910  birthday bash wuhoo i m gonna be  soon and i k...  \n",
       "13911  i feel like everyone hates me i feel so unwant...  \n",
       "13912  im so desperate for love i let men treat me li...  \n",
       "13913  dumb girl that can t even take her own life i ...  \n",
       "13914  covid ruined my life i first tries to kill mys...  "
      ]
     },
     "execution_count": 152,
     "metadata": {},
     "output_type": "execute_result"
    }
   ],
   "source": [
    "df.tail()"
   ]
  },
  {
   "cell_type": "code",
   "execution_count": 153,
   "id": "ca9a2545",
   "metadata": {},
   "outputs": [],
   "source": [
    "tvec = TfidfVectorizer(stop_words = 'english')"
   ]
  },
  {
   "cell_type": "code",
   "execution_count": 154,
   "id": "7c79f1dc",
   "metadata": {},
   "outputs": [
    {
     "name": "stderr",
     "output_type": "stream",
     "text": [
      "/Users/PreethiPanyam/opt/anaconda3/lib/python3.9/site-packages/sklearn/utils/deprecation.py:87: FutureWarning: Function get_feature_names is deprecated; get_feature_names is deprecated in 1.0 and will be removed in 1.2. Please use get_feature_names_out instead.\n",
      "  warnings.warn(msg, category=FutureWarning)\n"
     ]
    },
    {
     "data": {
      "image/png": "[encoded data removed]",
      "text/plain": [
       "<Figure size 432x288 with 1 Axes>"
      ]
     },
     "metadata": {
      "needs_background": "light"
     },
     "output_type": "display_data"
    }
   ],
   "source": [
    "# convert training data to dataframe\n",
    "X_train_df = pd.DataFrame(tvec.fit_transform(X_train).todense(), \n",
    "                          columns=tvec.get_feature_names())\n",
    "\n",
    "# plot top occuring words\n",
    "X_train_df.sum().sort_values(ascending=False).head(10).plot(kind='barh');"
   ]
  },
  {
   "cell_type": "code",
   "execution_count": 155,
   "id": "211699b5",
   "metadata": {},
   "outputs": [],
   "source": [
    "tvec = TfidfVectorizer(stop_words = custom_stopwords)"
   ]
  },
  {
   "cell_type": "code",
   "execution_count": 156,
   "id": "f995312b",
   "metadata": {},
   "outputs": [
    {
     "data": {
      "image/png": "[encoded data removed]",
      "text/plain": [
       "<Figure size 432x288 with 1 Axes>"
      ]
     },
     "metadata": {
      "needs_background": "light"
     },
     "output_type": "display_data"
    }
   ],
   "source": [
    "# convert training data to dataframe\n",
    "X_train_df = pd.DataFrame(tvec.fit_transform(X_train).todense(), \n",
    "                          columns=tvec.get_feature_names())\n",
    "\n",
    "# plot top occuring words\n",
    "X_train_df.sum().sort_values(ascending=False).head(10).plot(kind='barh');"
   ]
  },
  {
   "cell_type": "code",
   "execution_count": 159,
   "id": "f6e1bf73",
   "metadata": {},
   "outputs": [],
   "source": [
    "from statistics import mean"
   ]
  },
  {
   "cell_type": "code",
   "execution_count": 160,
   "id": "98a3e1e0",
   "metadata": {},
   "outputs": [
    {
     "data": {
      "text/plain": [
       "-0.33880817822493714"
      ]
     },
     "execution_count": 160,
     "metadata": {},
     "output_type": "execute_result"
    }
   ],
   "source": [
    "mean(df['compound'])"
   ]
  },
  {
   "cell_type": "code",
   "execution_count": 161,
   "id": "2804951b",
   "metadata": {},
   "outputs": [
    {
     "data": {
      "text/plain": [
       "1.0"
      ]
     },
     "execution_count": 161,
     "metadata": {},
     "output_type": "execute_result"
    }
   ],
   "source": [
    "max(df['compound'])"
   ]
  },
  {
   "cell_type": "code",
   "execution_count": 162,
   "id": "9aa1f09d",
   "metadata": {},
   "outputs": [
    {
     "data": {
      "text/plain": [
       "-0.9999"
      ]
     },
     "execution_count": 162,
     "metadata": {},
     "output_type": "execute_result"
    }
   ],
   "source": [
    "min(df['compound'])"
   ]
  },
  {
   "cell_type": "code",
   "execution_count": 163,
   "id": "b745592b",
   "metadata": {},
   "outputs": [
    {
     "name": "stdout",
     "output_type": "stream",
     "text": [
      "        neg    neu    pos  compound  \\\n",
      "3021  0.035  0.313  0.652       1.0   \n",
      "3977  0.000  0.003  0.997       1.0   \n",
      "\n",
      "                                                  Post1  \n",
      "3021  all hope is lost i go to school every day thin...  \n",
      "3977  my life is in shambles  ha ha ha ha ha ha ha h...  \n"
     ]
    }
   ],
   "source": [
    "print(df[df['compound'] == df['compound'].max()])"
   ]
  },
  {
   "cell_type": "code",
   "execution_count": 164,
   "id": "3595cab7",
   "metadata": {},
   "outputs": [
    {
     "name": "stdout",
     "output_type": "stream",
     "text": [
      "         neg    neu    pos  compound  \\\n",
      "4839   0.323  0.605  0.073   -0.9999   \n",
      "10030  0.701  0.299  0.000   -0.9999   \n",
      "\n",
      "                                                   Post1  \n",
      "4839   why suicide is not an option i think  what do ...  \n",
      "10030  i will kill myself i will kill myself i will k...  \n"
     ]
    }
   ],
   "source": [
    "print(df[df['compound'] == df['compound'].min()])"
   ]
  },
  {
   "cell_type": "code",
   "execution_count": 176,
   "id": "d8150b2d",
   "metadata": {},
   "outputs": [
    {
     "data": {
      "text/plain": [
       "(-1.003, -0.8]    5468\n",
       "(-0.8, -0.6]      1528\n",
       "(0.8, 1.0]        1305\n",
       "(-0.2, 5e-05]     1275\n",
       "(-0.6, -0.4]      1112\n",
       "(0.4, 0.6]         757\n",
       "(0.6, 0.8]         736\n",
       "(-0.4, -0.2]       670\n",
       "(0.2, 0.4]         593\n",
       "(5e-05, 0.2]       471\n",
       "Name: compound, dtype: int64"
      ]
     },
     "execution_count": 176,
     "metadata": {},
     "output_type": "execute_result"
    }
   ],
   "source": [
    "df['compound'].value_counts(bins = 10)"
   ]
  },
  {
   "cell_type": "code",
   "execution_count": 172,
   "id": "50411917",
   "metadata": {},
   "outputs": [],
   "source": [
    "df['Class'] = 'SuicidalThoughts'"
   ]
  },
  {
   "cell_type": "code",
   "execution_count": null,
   "id": "6144c674",
   "metadata": {},
   "outputs": [],
   "source": []
  },
  {
   "cell_type": "code",
   "execution_count": 179,
   "id": "5ce3e127",
   "metadata": {},
   "outputs": [],
   "source": [
    "df = df.rename(columns = {'Post1':'Post'})"
   ]
  },
  {
   "cell_type": "code",
   "execution_count": 180,
   "id": "6729cf81",
   "metadata": {},
   "outputs": [
    {
     "data": {
      "text/html": [
       "<div>\n",
       "<style scoped>\n",
       "    .dataframe tbody tr th:only-of-type {\n",
       "        vertical-align: middle;\n",
       "    }\n",
       "\n",
       "    .dataframe tbody tr th {\n",
       "        vertical-align: top;\n",
       "    }\n",
       "\n",
       "    .dataframe thead th {\n",
       "        text-align: right;\n",
       "    }\n",
       "</style>\n",
       "<table border=\"1\" class=\"dataframe\">\n",
       "  <thead>\n",
       "    <tr style=\"text-align: right;\">\n",
       "      <th></th>\n",
       "      <th>neg</th>\n",
       "      <th>neu</th>\n",
       "      <th>pos</th>\n",
       "      <th>compound</th>\n",
       "      <th>Post</th>\n",
       "      <th>Class</th>\n",
       "    </tr>\n",
       "  </thead>\n",
       "  <tbody>\n",
       "    <tr>\n",
       "      <th>0</th>\n",
       "      <td>0.163</td>\n",
       "      <td>0.658</td>\n",
       "      <td>0.178</td>\n",
       "      <td>0.1406</td>\n",
       "      <td>attempted yesterday i had an exit yesterday an...</td>\n",
       "      <td>SuicidalThoughts</td>\n",
       "    </tr>\n",
       "    <tr>\n",
       "      <th>1</th>\n",
       "      <td>0.000</td>\n",
       "      <td>0.892</td>\n",
       "      <td>0.108</td>\n",
       "      <td>0.4404</td>\n",
       "      <td>my bf of  years just tried to hang himself las...</td>\n",
       "      <td>SuicidalThoughts</td>\n",
       "    </tr>\n",
       "    <tr>\n",
       "      <th>2</th>\n",
       "      <td>0.141</td>\n",
       "      <td>0.665</td>\n",
       "      <td>0.194</td>\n",
       "      <td>0.8683</td>\n",
       "      <td>he gave up because of me  we have shared many ...</td>\n",
       "      <td>SuicidalThoughts</td>\n",
       "    </tr>\n",
       "    <tr>\n",
       "      <th>3</th>\n",
       "      <td>0.045</td>\n",
       "      <td>0.873</td>\n",
       "      <td>0.081</td>\n",
       "      <td>0.2960</td>\n",
       "      <td>running out of options does anyone have any co...</td>\n",
       "      <td>SuicidalThoughts</td>\n",
       "    </tr>\n",
       "    <tr>\n",
       "      <th>4</th>\n",
       "      <td>0.299</td>\n",
       "      <td>0.588</td>\n",
       "      <td>0.113</td>\n",
       "      <td>-0.9927</td>\n",
       "      <td>my life is shit i feel like shit  i hate mysel...</td>\n",
       "      <td>SuicidalThoughts</td>\n",
       "    </tr>\n",
       "  </tbody>\n",
       "</table>\n",
       "</div>"
      ],
      "text/plain": [
       "     neg    neu    pos  compound  \\\n",
       "0  0.163  0.658  0.178    0.1406   \n",
       "1  0.000  0.892  0.108    0.4404   \n",
       "2  0.141  0.665  0.194    0.8683   \n",
       "3  0.045  0.873  0.081    0.2960   \n",
       "4  0.299  0.588  0.113   -0.9927   \n",
       "\n",
       "                                                Post             Class  \n",
       "0  attempted yesterday i had an exit yesterday an...  SuicidalThoughts  \n",
       "1  my bf of  years just tried to hang himself las...  SuicidalThoughts  \n",
       "2  he gave up because of me  we have shared many ...  SuicidalThoughts  \n",
       "3  running out of options does anyone have any co...  SuicidalThoughts  \n",
       "4  my life is shit i feel like shit  i hate mysel...  SuicidalThoughts  "
      ]
     },
     "execution_count": 180,
     "metadata": {},
     "output_type": "execute_result"
    }
   ],
   "source": [
    "df.head()"
   ]
  },
  {
   "cell_type": "code",
   "execution_count": 181,
   "id": "62067962",
   "metadata": {},
   "outputs": [],
   "source": [
    "suic_senti = df.to_csv('../project 1/suic_senti.csv', index = False)  "
   ]
  },
  {
   "cell_type": "code",
   "execution_count": null,
   "id": "30428901",
   "metadata": {},
   "outputs": [],
   "source": []
  }
 ],
 "metadata": {
  "kernelspec": {
   "display_name": "Python 3 (ipykernel)",
   "language": "python",
   "name": "python3"
  },
  "language_info": {
   "codemirror_mode": {
    "name": "ipython",
    "version": 3
   },
   "file_extension": ".py",
   "mimetype": "text/x-python",
   "name": "python",
   "nbconvert_exporter": "python",
   "pygments_lexer": "ipython3",
   "version": "3.9.7"
  }
 },
 "nbformat": 4,
 "nbformat_minor": 5
}
